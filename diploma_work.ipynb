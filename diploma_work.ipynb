{
 "cells": [
  {
   "cell_type": "markdown",
   "id": "619058f6",
   "metadata": {},
   "source": [
    "## Выпускная квалификационная работа"
   ]
  },
  {
   "cell_type": "markdown",
   "id": "35aea195",
   "metadata": {},
   "source": [
    "Выполнил: студент группы АД-803 Пушкин А.Е."
   ]
  },
  {
   "cell_type": "markdown",
   "id": "2ad7e33d",
   "metadata": {},
   "source": [
    "2022 г."
   ]
  },
  {
   "cell_type": "markdown",
   "id": "7767cfeb",
   "metadata": {},
   "source": [
    "# Задание для итоговой работы"
   ]
  },
  {
   "cell_type": "markdown",
   "id": "8e1ce93a",
   "metadata": {},
   "source": [
    "**Анализ данных о покупках** \n",
    "\n",
    "* Шаг 1. Импорт библиотек \n",
    "* Шаг 2. Загрузка данных из файлов (customers.csv, transactions.csv, product.csv)\n",
    "* Шаг 3. Очистка данных\n",
    "    1. Проверить соответствие типов данных, выполнить преобразование типов данных при необходимости\n",
    "    1. Проверить на пропуски, заполнить пропуски при необходимости \n",
    "    1. Проверить данные на наличие дубликатов в датасетах *customers* и *product*\n",
    "    1. Выполнить поиск аномалий в данных, построить диаграмму размаха по признаку возраст покупателя, выполнить удаление выбросов при необходимости\n",
    "* Шаг 4. Разведочный (исследовательский) анализ данных\n",
    "    1. Определить сколько товаров продавалось в разные месяцы, построить график плотности\n",
    "    1. Определить список товаров ТОП-10 с максимальной выручкой за все время, построить столбчатую диаграмму\n",
    "    1. Определить список популярных товаров ТОП-10 за все время, построить столбчатую диаграмму\n",
    "    1. Определить долю товаров, которые были проданы один раз, построить круговую диаграмму\n",
    "    1. Определить какая возрастная группа покупает больше товаров, группы формировать с шагом 10 лет, построить столбчатую диаграмму и график плотности распределения\n",
    "    1. Определить покупают ли больше товаров те, кто активно следит за новостями о моде, построить стобчатую диаграмму\n",
    "* Шаг 5. Анализ взаимосвязи признаков\n",
    "    1. Проверить гипотезу о данных - влияет ли статус членства клуба на количество купленных товаров, найти p-value, сформулировать вывод\n",
    "* Шаг 6. Кластеризация по покупателем\n",
    "    1. Сформировать датасет с признаками *покупатель, количество купленных товаров, возраст, итоговая потраченная сумма, членство в клубе, частота просмотра новостей*\n",
    "    1. Найти оптимальное количество кластеров по покупателям\n",
    "    1. Построить модель кластеризации данных\n",
    "    1. Визуализировать кластеры с помощью диаграммы рассеивания, выбрать подходящие признаки для диаграммы\n",
    "* Шаг 7. Построение рекомендательной системы \n",
    "    1. Сформировать датасет с признаками *покупатель, товар, количество купленных товаров*\n",
    "    1. Выполнить коллаборативную фильтрацию по схожести покупателей\n",
    "    1. Вывести в качестве рекомендаций список наименований товаров для пользователя с ИД = 6510\n",
    "    \n",
    "\n",
    "Исходные файлы для анализа:\n",
    "\n",
    "https://github.com/OlesiaAngel/DataAnalitics/blob/main/%D0%B4%D0%B0%D0%BD%D0%BD%D1%8B%D0%B5/stat/transactions.csv?raw=true\n",
    "\n",
    "https://github.com/OlesiaAngel/DataAnalitics/blob/main/%D0%B4%D0%B0%D0%BD%D0%BD%D1%8B%D0%B5/stat/customers.csv?raw=true\n",
    "\n",
    "https://github.com/OlesiaAngel/DataAnalitics/blob/main/%D0%B4%D0%B0%D0%BD%D0%BD%D1%8B%D0%B5/stat/product.csv?raw=true\n",
    "\n"
   ]
  },
  {
   "cell_type": "markdown",
   "id": "f9af5459",
   "metadata": {},
   "source": [
    "### Описание датасета\n",
    "#### customers.csv\n",
    "\n",
    "Признак | Описание\n",
    "--:|:--\n",
    "club_member | Статус члена клуба магазина\n",
    "fashion_news | Часто ли смотрит новости о моде\n",
    "age | Возраст\n",
    "customer_id | Уникальный идентификатор покупателя\n",
    "\n",
    "\n",
    "#### transactions.csv\n",
    "Признак | Описание\n",
    "--:|:--\n",
    "t_dat | Дата\n",
    "article_id | Уникальный идентификатор товара\n",
    "price | Цена товара\n",
    "customer_id | Уникальный идентификатор покупателя\n",
    "\n",
    "\n",
    "#### product.csv\n",
    "Признак | Описание\n",
    "--:|:--\n",
    "article_id | Уникальный идентификатор товара\n",
    "product_name | Наименование товара\n",
    "colour | Цвет товара"
   ]
  },
  {
   "cell_type": "markdown",
   "id": "846b0d3b",
   "metadata": {},
   "source": [
    "## Раздел 1 - Предварительный анализ наборов данных, очистка данных"
   ]
  },
  {
   "cell_type": "markdown",
   "id": "bf91cf7f",
   "metadata": {},
   "source": [
    "<div class=\"alert alert-block alert-warning\">\n",
    "<b>Импорт библиотек</b>\n",
    "</div>"
   ]
  },
  {
   "cell_type": "code",
   "execution_count": 1,
   "id": "9eb9d045",
   "metadata": {},
   "outputs": [],
   "source": [
    "import pandas as pd\n",
    "import numpy as np\n",
    "\n",
    "import matplotlib.pyplot as plt\n",
    "import seaborn as sns\n",
    "import plotly.express as px\n",
    "import plotly.graph_objects as go\n",
    "from datetime import datetime"
   ]
  },
  {
   "cell_type": "markdown",
   "id": "ce89c31b",
   "metadata": {},
   "source": [
    "<div class=\"alert alert-block alert-warning\">\n",
    "<b>Создание переменных, содержащих ссылки на наборы данных (датасеты)</b>\n",
    "</div>"
   ]
  },
  {
   "cell_type": "code",
   "execution_count": 2,
   "id": "db843532",
   "metadata": {},
   "outputs": [],
   "source": [
    "transactions_data = 'https://github.com/OlesiaAngel/DataAnalitics/blob/main/%D0%B4%D0%B0%D0%BD%D0%BD%D1%8B%D0%B5/stat/transactions.csv?raw=true'\n",
    "customers_data = 'https://github.com/OlesiaAngel/DataAnalitics/blob/main/%D0%B4%D0%B0%D0%BD%D0%BD%D1%8B%D0%B5/stat/customers.csv?raw=true'\n",
    "product_data = 'https://github.com/OlesiaAngel/DataAnalitics/blob/main/%D0%B4%D0%B0%D0%BD%D0%BD%D1%8B%D0%B5/stat/product.csv?raw=true'"
   ]
  },
  {
   "cell_type": "markdown",
   "id": "9f996370",
   "metadata": {},
   "source": [
    "<div class=\"alert alert-block alert-success\">\n",
    "<b>Библиотеки загружены успешно, переменные со ссылками на наборы данных созданы</b>\n",
    "</div>"
   ]
  },
  {
   "cell_type": "markdown",
   "id": "acbe9fdc",
   "metadata": {},
   "source": [
    "<div class=\"alert alert-block alert-warning\">\n",
    "<b>Загрузка данных из датасетов, оценка правильности загрузки данных, размерности, типов данных в наборах данных, очистка данных</b>\n",
    "</div>"
   ]
  },
  {
   "cell_type": "markdown",
   "id": "aebd7011",
   "metadata": {},
   "source": [
    "#### -- Набор данных `1` --"
   ]
  },
  {
   "cell_type": "markdown",
   "id": "65a2b672",
   "metadata": {},
   "source": [
    "<div class=\"alert alert-block alert-warning\">\n",
    "<b>Загрузка данных в переменную с преобразованием в табличный вид для дальнейшей работы</b>\n",
    "</div>"
   ]
  },
  {
   "cell_type": "code",
   "execution_count": 3,
   "id": "9bf5d0a6",
   "metadata": {},
   "outputs": [],
   "source": [
    "df_transactions = pd.read_csv(transactions_data, index_col='Unnamed: 0')"
   ]
  },
  {
   "cell_type": "markdown",
   "id": "fabb244d",
   "metadata": {},
   "source": [
    "<div class=\"alert alert-block alert-warning\">\n",
    "<b>Вывод на экран части полученного набора данных</b>\n",
    "</div>"
   ]
  },
  {
   "cell_type": "code",
   "execution_count": 4,
   "id": "daf4dad5",
   "metadata": {},
   "outputs": [
    {
     "data": {
      "text/html": [
       "<div>\n",
       "<style scoped>\n",
       "    .dataframe tbody tr th:only-of-type {\n",
       "        vertical-align: middle;\n",
       "    }\n",
       "\n",
       "    .dataframe tbody tr th {\n",
       "        vertical-align: top;\n",
       "    }\n",
       "\n",
       "    .dataframe thead th {\n",
       "        text-align: right;\n",
       "    }\n",
       "</style>\n",
       "<table border=\"1\" class=\"dataframe\">\n",
       "  <thead>\n",
       "    <tr style=\"text-align: right;\">\n",
       "      <th></th>\n",
       "      <th>t_dat</th>\n",
       "      <th>article_id</th>\n",
       "      <th>price</th>\n",
       "      <th>customer_id</th>\n",
       "    </tr>\n",
       "  </thead>\n",
       "  <tbody>\n",
       "    <tr>\n",
       "      <th>0</th>\n",
       "      <td>2020-04-13</td>\n",
       "      <td>706016003</td>\n",
       "      <td>33.88</td>\n",
       "      <td>0</td>\n",
       "    </tr>\n",
       "    <tr>\n",
       "      <th>1</th>\n",
       "      <td>2018-09-21</td>\n",
       "      <td>493810014</td>\n",
       "      <td>19.05</td>\n",
       "      <td>1</td>\n",
       "    </tr>\n",
       "    <tr>\n",
       "      <th>2</th>\n",
       "      <td>2018-10-04</td>\n",
       "      <td>594541012</td>\n",
       "      <td>16.93</td>\n",
       "      <td>2</td>\n",
       "    </tr>\n",
       "    <tr>\n",
       "      <th>3</th>\n",
       "      <td>2018-12-11</td>\n",
       "      <td>719712001</td>\n",
       "      <td>36.00</td>\n",
       "      <td>3</td>\n",
       "    </tr>\n",
       "    <tr>\n",
       "      <th>4</th>\n",
       "      <td>2019-04-08</td>\n",
       "      <td>700737007</td>\n",
       "      <td>25.41</td>\n",
       "      <td>4</td>\n",
       "    </tr>\n",
       "    <tr>\n",
       "      <th>...</th>\n",
       "      <td>...</td>\n",
       "      <td>...</td>\n",
       "      <td>...</td>\n",
       "      <td>...</td>\n",
       "    </tr>\n",
       "    <tr>\n",
       "      <th>317879</th>\n",
       "      <td>2019-01-20</td>\n",
       "      <td>589924010</td>\n",
       "      <td>10.15</td>\n",
       "      <td>229802</td>\n",
       "    </tr>\n",
       "    <tr>\n",
       "      <th>317880</th>\n",
       "      <td>2019-04-30</td>\n",
       "      <td>706268029</td>\n",
       "      <td>3.39</td>\n",
       "      <td>205253</td>\n",
       "    </tr>\n",
       "    <tr>\n",
       "      <th>317881</th>\n",
       "      <td>2019-07-03</td>\n",
       "      <td>554792001</td>\n",
       "      <td>25.41</td>\n",
       "      <td>100940</td>\n",
       "    </tr>\n",
       "    <tr>\n",
       "      <th>317882</th>\n",
       "      <td>2020-02-20</td>\n",
       "      <td>243937028</td>\n",
       "      <td>16.93</td>\n",
       "      <td>162847</td>\n",
       "    </tr>\n",
       "    <tr>\n",
       "      <th>317883</th>\n",
       "      <td>2019-04-03</td>\n",
       "      <td>720506003</td>\n",
       "      <td>59.31</td>\n",
       "      <td>229803</td>\n",
       "    </tr>\n",
       "  </tbody>\n",
       "</table>\n",
       "<p>317884 rows × 4 columns</p>\n",
       "</div>"
      ],
      "text/plain": [
       "             t_dat  article_id  price  customer_id\n",
       "0       2020-04-13   706016003  33.88            0\n",
       "1       2018-09-21   493810014  19.05            1\n",
       "2       2018-10-04   594541012  16.93            2\n",
       "3       2018-12-11   719712001  36.00            3\n",
       "4       2019-04-08   700737007  25.41            4\n",
       "...            ...         ...    ...          ...\n",
       "317879  2019-01-20   589924010  10.15       229802\n",
       "317880  2019-04-30   706268029   3.39       205253\n",
       "317881  2019-07-03   554792001  25.41       100940\n",
       "317882  2020-02-20   243937028  16.93       162847\n",
       "317883  2019-04-03   720506003  59.31       229803\n",
       "\n",
       "[317884 rows x 4 columns]"
      ]
     },
     "execution_count": 4,
     "metadata": {},
     "output_type": "execute_result"
    }
   ],
   "source": [
    "df_transactions"
   ]
  },
  {
   "cell_type": "markdown",
   "id": "2a13e07c",
   "metadata": {},
   "source": [
    "<div class=\"alert alert-block alert-warning\">\n",
    "<b>Определение размера датасета, типа данных по каждому признаку</b>\n",
    "</div>"
   ]
  },
  {
   "cell_type": "code",
   "execution_count": 5,
   "id": "93a4cf0a",
   "metadata": {},
   "outputs": [
    {
     "name": "stdout",
     "output_type": "stream",
     "text": [
      "<class 'pandas.core.frame.DataFrame'>\n",
      "Int64Index: 317884 entries, 0 to 317883\n",
      "Data columns (total 4 columns):\n",
      " #   Column       Non-Null Count   Dtype  \n",
      "---  ------       --------------   -----  \n",
      " 0   t_dat        317884 non-null  object \n",
      " 1   article_id   317884 non-null  int64  \n",
      " 2   price        317884 non-null  float64\n",
      " 3   customer_id  317884 non-null  int64  \n",
      "dtypes: float64(1), int64(2), object(1)\n",
      "memory usage: 12.1+ MB\n"
     ]
    }
   ],
   "source": [
    "df_transactions.info()"
   ]
  },
  {
   "cell_type": "markdown",
   "id": "107e84e2",
   "metadata": {},
   "source": [
    "<div class=\"alert alert-block alert-warning\">\n",
    "<b>Уточнение отсутствия нулевых значений</b>\n",
    "</div>"
   ]
  },
  {
   "cell_type": "code",
   "execution_count": 6,
   "id": "f3af5ee2",
   "metadata": {},
   "outputs": [
    {
     "data": {
      "text/plain": [
       "t_dat          0\n",
       "article_id     0\n",
       "price          0\n",
       "customer_id    0\n",
       "dtype: int64"
      ]
     },
     "execution_count": 6,
     "metadata": {},
     "output_type": "execute_result"
    }
   ],
   "source": [
    "df_transactions.isnull().sum()"
   ]
  },
  {
   "cell_type": "code",
   "execution_count": 7,
   "id": "bc62af7e",
   "metadata": {},
   "outputs": [
    {
     "data": {
      "text/plain": [
       "t_dat          0\n",
       "article_id     0\n",
       "price          0\n",
       "customer_id    0\n",
       "dtype: int64"
      ]
     },
     "execution_count": 7,
     "metadata": {},
     "output_type": "execute_result"
    }
   ],
   "source": [
    "df_transactions.isna().sum()"
   ]
  },
  {
   "cell_type": "markdown",
   "id": "b76b4661",
   "metadata": {},
   "source": [
    "<div class=\"alert alert-block alert-success\">\n",
    "<b>Набор данных df_transactions состоит из 317 884 записей и 4 признаков. Нулевых значений не обнаруживается ни в одном признаке</b>\n",
    "</div>"
   ]
  },
  {
   "cell_type": "markdown",
   "id": "53608ff7",
   "metadata": {},
   "source": [
    "<div class=\"alert alert-block alert-warning\">\n",
    "<b>Определение аномалий для последующей проверки</b>\n",
    "</div>"
   ]
  },
  {
   "cell_type": "code",
   "execution_count": 8,
   "id": "3008ee79",
   "metadata": {},
   "outputs": [
    {
     "data": {
      "text/html": [
       "<div>\n",
       "<style scoped>\n",
       "    .dataframe tbody tr th:only-of-type {\n",
       "        vertical-align: middle;\n",
       "    }\n",
       "\n",
       "    .dataframe tbody tr th {\n",
       "        vertical-align: top;\n",
       "    }\n",
       "\n",
       "    .dataframe thead th {\n",
       "        text-align: right;\n",
       "    }\n",
       "</style>\n",
       "<table border=\"1\" class=\"dataframe\">\n",
       "  <thead>\n",
       "    <tr style=\"text-align: right;\">\n",
       "      <th></th>\n",
       "      <th>t_dat</th>\n",
       "      <th>article_id</th>\n",
       "      <th>price</th>\n",
       "      <th>customer_id</th>\n",
       "    </tr>\n",
       "  </thead>\n",
       "  <tbody>\n",
       "    <tr>\n",
       "      <th>count</th>\n",
       "      <td>317884</td>\n",
       "      <td>3.178840e+05</td>\n",
       "      <td>317884.000000</td>\n",
       "      <td>317884.000000</td>\n",
       "    </tr>\n",
       "    <tr>\n",
       "      <th>unique</th>\n",
       "      <td>734</td>\n",
       "      <td>NaN</td>\n",
       "      <td>NaN</td>\n",
       "      <td>NaN</td>\n",
       "    </tr>\n",
       "    <tr>\n",
       "      <th>top</th>\n",
       "      <td>2019-09-28</td>\n",
       "      <td>NaN</td>\n",
       "      <td>NaN</td>\n",
       "      <td>NaN</td>\n",
       "    </tr>\n",
       "    <tr>\n",
       "      <th>freq</th>\n",
       "      <td>1995</td>\n",
       "      <td>NaN</td>\n",
       "      <td>NaN</td>\n",
       "      <td>NaN</td>\n",
       "    </tr>\n",
       "    <tr>\n",
       "      <th>mean</th>\n",
       "      <td>NaN</td>\n",
       "      <td>6.957393e+08</td>\n",
       "      <td>27.834441</td>\n",
       "      <td>102987.763804</td>\n",
       "    </tr>\n",
       "    <tr>\n",
       "      <th>std</th>\n",
       "      <td>NaN</td>\n",
       "      <td>1.338297e+08</td>\n",
       "      <td>19.230723</td>\n",
       "      <td>65772.091377</td>\n",
       "    </tr>\n",
       "    <tr>\n",
       "      <th>min</th>\n",
       "      <td>NaN</td>\n",
       "      <td>1.087750e+08</td>\n",
       "      <td>0.190000</td>\n",
       "      <td>0.000000</td>\n",
       "    </tr>\n",
       "    <tr>\n",
       "      <th>25%</th>\n",
       "      <td>NaN</td>\n",
       "      <td>6.315360e+08</td>\n",
       "      <td>15.800000</td>\n",
       "      <td>45332.000000</td>\n",
       "    </tr>\n",
       "    <tr>\n",
       "      <th>50%</th>\n",
       "      <td>NaN</td>\n",
       "      <td>7.139971e+08</td>\n",
       "      <td>25.410000</td>\n",
       "      <td>97248.500000</td>\n",
       "    </tr>\n",
       "    <tr>\n",
       "      <th>75%</th>\n",
       "      <td>NaN</td>\n",
       "      <td>7.863680e+08</td>\n",
       "      <td>33.880000</td>\n",
       "      <td>157616.250000</td>\n",
       "    </tr>\n",
       "    <tr>\n",
       "      <th>max</th>\n",
       "      <td>NaN</td>\n",
       "      <td>9.534500e+08</td>\n",
       "      <td>500.000000</td>\n",
       "      <td>229803.000000</td>\n",
       "    </tr>\n",
       "  </tbody>\n",
       "</table>\n",
       "</div>"
      ],
      "text/plain": [
       "             t_dat    article_id          price    customer_id\n",
       "count       317884  3.178840e+05  317884.000000  317884.000000\n",
       "unique         734           NaN            NaN            NaN\n",
       "top     2019-09-28           NaN            NaN            NaN\n",
       "freq          1995           NaN            NaN            NaN\n",
       "mean           NaN  6.957393e+08      27.834441  102987.763804\n",
       "std            NaN  1.338297e+08      19.230723   65772.091377\n",
       "min            NaN  1.087750e+08       0.190000       0.000000\n",
       "25%            NaN  6.315360e+08      15.800000   45332.000000\n",
       "50%            NaN  7.139971e+08      25.410000   97248.500000\n",
       "75%            NaN  7.863680e+08      33.880000  157616.250000\n",
       "max            NaN  9.534500e+08     500.000000  229803.000000"
      ]
     },
     "execution_count": 8,
     "metadata": {},
     "output_type": "execute_result"
    }
   ],
   "source": [
    "df_transactions.describe(include='all')"
   ]
  },
  {
   "cell_type": "markdown",
   "id": "1b3e44d4",
   "metadata": {},
   "source": [
    "<div class=\"alert alert-block alert-success\">\n",
    "<b>Признак price будет проверен на наличие выбросов, т.к. максимальное значение отличается на порядок от среднего значения и значения 75 процентиля</b>\n",
    "</div>"
   ]
  },
  {
   "cell_type": "markdown",
   "id": "d8a449af",
   "metadata": {},
   "source": [
    "<div class=\"alert alert-block alert-warning\">\n",
    "<b>Вывод уникальных значений категориальных признаков</b>\n",
    "</div>"
   ]
  },
  {
   "cell_type": "code",
   "execution_count": 9,
   "id": "051a0a0a",
   "metadata": {},
   "outputs": [
    {
     "data": {
      "text/plain": [
       "[['t_dat, уник. значений: 734',\n",
       "  array(['2020-04-13', '2018-09-21', '2018-10-04', '2018-12-11',\n",
       "         '2019-04-08', '2019-03-31', '2019-01-28', '2019-10-06',\n",
       "         '2020-07-04', '2020-03-31', '2018-10-23', '2019-02-26',\n",
       "         '2020-09-03', '2018-10-29', '2020-07-11', '2020-09-17',\n",
       "         '2019-06-19', '2019-07-09', '2019-07-01', '2019-02-27',\n",
       "         '2018-10-07', '2019-01-06', '2020-03-02', '2020-01-02',\n",
       "         '2020-08-23', '2018-11-13', '2020-05-19', '2020-07-17',\n",
       "         '2019-08-30', '2018-10-12', '2019-09-30', '2019-05-27',\n",
       "         '2019-02-23', '2020-09-12', '2020-01-23', '2019-02-17',\n",
       "         '2019-05-31', '2020-04-11', '2019-02-01', '2018-12-21',\n",
       "         '2019-05-25', '2019-04-15', '2019-06-09', '2019-06-29',\n",
       "         '2019-05-11', '2020-05-20', '2020-09-20', '2019-08-18',\n",
       "         '2019-05-22', '2020-05-21', '2019-03-26', '2020-04-09',\n",
       "         '2019-05-23', '2019-07-25', '2020-05-18', '2019-02-22',\n",
       "         '2019-07-31', '2020-07-24', '2019-05-30', '2020-03-08',\n",
       "         '2019-06-01', '2019-07-27', '2019-04-16', '2020-07-28',\n",
       "         '2020-09-07', '2019-04-04', '2019-05-17', '2019-09-06',\n",
       "         '2019-05-05', '2019-11-28', '2019-03-27', '2020-02-17',\n",
       "         '2019-03-25', '2018-10-24', '2019-12-19', '2020-08-30',\n",
       "         '2019-09-11', '2020-03-12', '2019-07-16', '2019-04-23',\n",
       "         '2020-06-25', '2019-08-17', '2020-06-21', '2019-09-05',\n",
       "         '2019-11-17', '2020-06-23', '2020-08-21', '2019-04-01',\n",
       "         '2020-07-09', '2019-06-17', '2018-12-12', '2019-08-06',\n",
       "         '2020-02-01', '2020-02-06', '2019-06-18', '2019-01-01',\n",
       "         '2020-07-07', '2020-08-29', '2020-04-22', '2019-04-29',\n",
       "         '2020-05-16', '2020-06-17', '2020-08-19', '2019-03-14',\n",
       "         '2019-11-29', '2019-10-22', '2019-07-22', '2019-09-09',\n",
       "         '2020-07-21', '2020-08-10', '2020-07-10', '2018-11-23',\n",
       "         '2019-07-17', '2019-07-06', '2019-05-02', '2020-02-25',\n",
       "         '2019-02-20', '2020-06-03', '2020-01-10', '2020-05-23',\n",
       "         '2019-04-26', '2019-10-16', '2019-11-22', '2020-09-10',\n",
       "         '2018-11-02', '2019-11-14', '2020-03-23', '2019-08-21',\n",
       "         '2020-09-13', '2020-07-15', '2018-10-22', '2020-09-22',\n",
       "         '2019-10-14', '2019-12-15', '2020-06-06', '2019-06-25',\n",
       "         '2019-03-08', '2020-06-05', '2019-07-28', '2019-08-28',\n",
       "         '2019-01-02', '2019-12-24', '2020-08-06', '2020-03-09',\n",
       "         '2020-05-17', '2020-01-20', '2019-09-02', '2020-07-31',\n",
       "         '2019-10-07', '2020-06-10', '2020-07-19', '2019-04-05',\n",
       "         '2019-07-10', '2020-04-15', '2020-05-28', '2019-08-15',\n",
       "         '2018-11-15', '2020-04-20', '2020-07-06', '2018-10-18',\n",
       "         '2019-05-07', '2020-04-05', '2019-04-10', '2020-05-25',\n",
       "         '2019-05-15', '2019-04-03', '2018-10-30', '2019-01-25',\n",
       "         '2019-06-20', '2019-01-26', '2019-04-06', '2018-12-31',\n",
       "         '2019-12-27', '2020-05-13', '2018-11-27', '2020-09-01',\n",
       "         '2019-06-23', '2019-04-07', '2020-02-21', '2019-11-30',\n",
       "         '2019-08-24', '2019-03-10', '2018-09-29', '2020-02-24',\n",
       "         '2019-11-02', '2019-02-08', '2020-06-26', '2019-10-13',\n",
       "         '2020-01-14', '2019-01-29', '2019-09-28', '2018-10-26',\n",
       "         '2019-01-19', '2019-05-19', '2019-03-28', '2020-07-27',\n",
       "         '2020-04-18', '2020-03-15', '2019-02-04', '2018-10-31',\n",
       "         '2020-01-16', '2020-03-06', '2020-08-07', '2018-11-18',\n",
       "         '2019-03-12', '2019-01-21', '2020-08-25', '2018-11-25',\n",
       "         '2019-12-12', '2020-02-22', '2020-03-04', '2020-06-13',\n",
       "         '2018-09-28', '2020-07-13', '2019-02-09', '2019-09-26',\n",
       "         '2019-05-16', '2020-06-29', '2020-09-08', '2020-03-24',\n",
       "         '2019-05-13', '2019-07-07', '2020-07-29', '2019-01-03',\n",
       "         '2020-02-20', '2018-11-06', '2018-11-03', '2019-10-12',\n",
       "         '2020-01-13', '2019-06-03', '2019-04-02', '2019-06-05',\n",
       "         '2019-03-18', '2019-06-21', '2020-06-22', '2020-03-26',\n",
       "         '2019-12-05', '2019-03-11', '2020-04-28', '2018-10-03',\n",
       "         '2020-07-03', '2019-07-02', '2019-06-06', '2019-09-08',\n",
       "         '2020-05-03', '2018-11-26', '2020-02-03', '2019-06-02',\n",
       "         '2019-11-01', '2018-10-02', '2019-10-02', '2019-03-02',\n",
       "         '2019-08-19', '2019-03-07', '2018-10-13', '2020-04-30',\n",
       "         '2019-05-21', '2019-10-09', '2020-06-12', '2019-06-22',\n",
       "         '2019-10-20', '2019-08-05', '2018-12-03', '2019-06-30',\n",
       "         '2020-04-04', '2019-05-18', '2020-07-30', '2019-07-24',\n",
       "         '2019-02-14', '2019-07-15', '2020-03-01', '2019-08-29',\n",
       "         '2020-09-02', '2019-01-10', '2020-09-04', '2020-04-23',\n",
       "         '2020-04-01', '2019-09-20', '2019-11-03', '2020-06-02',\n",
       "         '2019-06-10', '2019-06-27', '2019-09-07', '2020-08-13',\n",
       "         '2019-11-26', '2018-10-15', '2019-12-01', '2019-01-11',\n",
       "         '2018-09-26', '2019-09-22', '2019-10-31', '2018-10-20',\n",
       "         '2020-02-05', '2020-07-20', '2019-01-18', '2019-01-20',\n",
       "         '2018-12-01', '2019-07-23', '2018-09-25', '2019-07-13',\n",
       "         '2019-04-30', '2019-04-18', '2018-10-27', '2020-07-26',\n",
       "         '2020-03-22', '2020-08-02', '2019-02-11', '2019-01-22',\n",
       "         '2018-11-08', '2020-03-11', '2018-10-25', '2019-08-01',\n",
       "         '2020-06-28', '2019-03-19', '2020-06-24', '2019-08-22',\n",
       "         '2019-06-24', '2019-08-07', '2020-02-29', '2019-01-16',\n",
       "         '2020-03-25', '2018-11-14', '2020-08-17', '2018-11-07',\n",
       "         '2019-02-03', '2020-02-26', '2019-04-13', '2020-04-16',\n",
       "         '2020-07-22', '2018-12-30', '2020-06-19', '2019-04-12',\n",
       "         '2019-10-10', '2020-02-27', '2018-11-28', '2020-07-23',\n",
       "         '2020-05-07', '2019-06-13', '2019-12-11', '2019-07-18',\n",
       "         '2019-08-23', '2018-11-24', '2020-09-06', '2020-03-03',\n",
       "         '2018-11-17', '2020-01-21', '2020-01-04', '2019-12-03',\n",
       "         '2020-08-18', '2020-09-18', '2019-07-05', '2019-06-16',\n",
       "         '2018-10-06', '2019-07-11', '2020-04-29', '2020-06-30',\n",
       "         '2019-11-23', '2019-11-15', '2019-11-08', '2019-01-23',\n",
       "         '2019-07-20', '2019-06-11', '2018-10-16', '2020-09-11',\n",
       "         '2020-05-02', '2018-12-27', '2019-08-12', '2019-09-18',\n",
       "         '2019-12-29', '2019-01-24', '2019-07-12', '2019-11-07',\n",
       "         '2020-03-07', '2020-06-11', '2019-12-13', '2019-10-30',\n",
       "         '2019-04-17', '2020-06-01', '2019-03-16', '2020-08-27',\n",
       "         '2019-11-09', '2020-08-01', '2019-10-17', '2019-02-21',\n",
       "         '2020-07-01', '2019-12-16', '2020-01-29', '2019-06-07',\n",
       "         '2018-12-23', '2019-07-29', '2019-01-15', '2020-05-05',\n",
       "         '2019-12-04', '2019-11-10', '2018-10-10', '2020-08-03',\n",
       "         '2020-05-29', '2019-06-14', '2020-01-15', '2020-08-22',\n",
       "         '2018-12-29', '2020-05-08', '2019-07-14', '2019-09-23',\n",
       "         '2018-12-09', '2019-08-09', '2019-04-24', '2018-10-21',\n",
       "         '2019-07-04', '2019-09-25', '2019-06-04', '2019-07-21',\n",
       "         '2020-03-16', '2020-04-21', '2019-03-09', '2018-11-09',\n",
       "         '2019-01-17', '2019-08-13', '2020-01-26', '2019-06-26',\n",
       "         '2019-08-04', '2020-04-08', '2019-01-05', '2019-09-24',\n",
       "         '2020-01-08', '2018-11-22', '2020-02-07', '2020-03-10',\n",
       "         '2019-03-22', '2020-04-26', '2020-07-14', '2019-04-27',\n",
       "         '2019-04-25', '2019-01-27', '2019-02-07', '2020-01-05',\n",
       "         '2018-10-14', '2019-11-19', '2019-08-02', '2020-04-17',\n",
       "         '2018-10-19', '2019-12-08', '2020-01-06', '2020-03-05',\n",
       "         '2020-05-31', '2020-06-27', '2019-10-23', '2020-01-11',\n",
       "         '2018-12-10', '2020-01-12', '2019-01-14', '2020-04-25',\n",
       "         '2020-02-12', '2019-12-02', '2019-03-17', '2019-01-12',\n",
       "         '2020-05-11', '2019-11-05', '2020-08-31', '2018-11-16',\n",
       "         '2019-12-09', '2020-06-18', '2020-06-20', '2019-03-20',\n",
       "         '2018-12-18', '2020-07-05', '2019-03-30', '2019-11-24',\n",
       "         '2019-09-12', '2019-01-08', '2019-11-04', '2019-11-06',\n",
       "         '2018-10-11', '2019-01-13', '2019-02-02', '2018-12-20',\n",
       "         '2019-09-15', '2018-12-24', '2019-12-22', '2018-11-20',\n",
       "         '2020-02-04', '2019-10-27', '2019-04-09', '2019-03-15',\n",
       "         '2019-04-19', '2020-08-24', '2019-10-04', '2018-11-05',\n",
       "         '2019-03-06', '2020-05-22', '2018-12-13', '2020-05-12',\n",
       "         '2019-09-13', '2019-10-26', '2019-03-29', '2019-03-03',\n",
       "         '2019-04-22', '2019-01-07', '2019-06-08', '2019-03-05',\n",
       "         '2020-07-08', '2020-01-24', '2019-09-10', '2019-10-19',\n",
       "         '2018-12-19', '2019-10-25', '2020-05-09', '2019-06-15',\n",
       "         '2020-09-15', '2020-08-26', '2020-03-20', '2019-12-26',\n",
       "         '2018-09-30', '2019-05-03', '2020-08-14', '2020-06-04',\n",
       "         '2018-11-04', '2019-11-11', '2019-02-15', '2019-02-24',\n",
       "         '2019-09-16', '2020-04-10', '2019-07-26', '2019-03-04',\n",
       "         '2020-04-12', '2020-08-12', '2019-02-16', '2019-02-25',\n",
       "         '2020-02-02', '2019-05-26', '2019-02-10', '2020-01-19',\n",
       "         '2019-05-24', '2019-05-09', '2018-10-05', '2020-05-15',\n",
       "         '2019-08-25', '2020-07-18', '2020-07-16', '2020-02-28',\n",
       "         '2020-04-02', '2018-12-22', '2019-12-18', '2019-08-31',\n",
       "         '2019-12-17', '2020-07-02', '2018-11-30', '2019-08-27',\n",
       "         '2019-07-03', '2020-07-25', '2020-08-16', '2020-02-18',\n",
       "         '2020-06-09', '2020-03-19', '2019-04-28', '2018-12-17',\n",
       "         '2019-02-05', '2019-03-23', '2020-02-08', '2019-07-30',\n",
       "         '2018-12-05', '2020-05-27', '2019-10-18', '2018-11-10',\n",
       "         '2020-02-09', '2019-09-29', '2018-10-08', '2019-01-31',\n",
       "         '2019-01-30', '2019-11-13', '2019-11-16', '2019-12-23',\n",
       "         '2018-12-02', '2019-08-14', '2019-02-13', '2019-07-08',\n",
       "         '2019-03-13', '2019-12-10', '2020-02-15', '2019-05-29',\n",
       "         '2020-04-14', '2019-08-11', '2019-10-03', '2020-01-25',\n",
       "         '2020-08-08', '2020-03-13', '2020-06-16', '2019-05-08',\n",
       "         '2020-01-31', '2019-12-31', '2020-08-11', '2019-09-14',\n",
       "         '2019-06-28', '2018-12-04', '2019-04-11', '2019-05-14',\n",
       "         '2019-05-04', '2019-05-28', '2019-02-06', '2019-08-26',\n",
       "         '2018-09-22', '2019-05-01', '2019-12-20', '2019-05-06',\n",
       "         '2018-11-11', '2020-03-21', '2019-10-11', '2020-06-08',\n",
       "         '2019-09-04', '2019-03-21', '2020-05-06', '2019-03-24',\n",
       "         '2019-08-16', '2020-06-07', '2020-04-03', '2018-11-12',\n",
       "         '2018-09-20', '2019-04-20', '2018-10-28', '2020-05-24',\n",
       "         '2020-08-15', '2020-06-14', '2020-03-18', '2019-09-21',\n",
       "         '2019-01-09', '2020-05-30', '2020-06-15', '2018-11-01',\n",
       "         '2018-12-06', '2020-04-24', '2020-02-13', '2020-01-03',\n",
       "         '2020-02-11', '2020-01-28', '2019-10-21', '2019-08-10',\n",
       "         '2019-11-18', '2018-10-09', '2018-09-23', '2020-03-28',\n",
       "         '2020-01-27', '2020-09-14', '2019-08-03', '2020-03-17',\n",
       "         '2019-05-10', '2019-12-06', '2020-02-23', '2019-02-12',\n",
       "         '2020-08-04', '2019-11-25', '2018-12-28', '2020-03-30',\n",
       "         '2019-10-08', '2020-09-19', '2019-10-15', '2019-05-12',\n",
       "         '2020-08-09', '2020-01-30', '2019-12-30', '2020-03-14',\n",
       "         '2019-09-19', '2019-09-01', '2018-12-07', '2019-11-27',\n",
       "         '2020-05-14', '2019-12-21', '2018-10-17', '2019-10-01',\n",
       "         '2020-08-20', '2019-12-28', '2019-11-12', '2019-11-20',\n",
       "         '2018-12-14', '2020-04-19', '2020-01-07', '2020-05-04',\n",
       "         '2019-08-20', '2019-09-27', '2019-10-24', '2019-01-04',\n",
       "         '2020-08-05', '2019-02-18', '2020-02-10', '2018-12-08',\n",
       "         '2018-11-21', '2019-11-21', '2020-09-05', '2019-04-14',\n",
       "         '2020-04-07', '2020-01-18', '2020-04-06', '2020-01-17',\n",
       "         '2018-09-27', '2020-03-29', '2020-03-27', '2018-09-24',\n",
       "         '2019-12-14', '2019-07-19', '2020-02-16', '2020-09-09',\n",
       "         '2018-10-01', '2020-07-12', '2019-10-05', '2018-12-16',\n",
       "         '2020-05-26', '2020-02-19', '2019-08-08', '2019-05-20',\n",
       "         '2019-02-19', '2020-04-27', '2020-09-16', '2020-05-01',\n",
       "         '2020-02-14', '2019-09-03', '2020-08-28', '2020-05-10',\n",
       "         '2020-01-09', '2020-09-21', '2020-01-01', '2019-02-28',\n",
       "         '2019-10-28', '2019-04-21', '2019-12-07', '2018-12-26',\n",
       "         '2019-09-17', '2019-03-01', '2018-12-25', '2018-12-15',\n",
       "         '2018-11-29', '2018-11-19', '2019-06-12', '2020-01-22',\n",
       "         '2019-10-29', '2019-12-25'], dtype=object)],\n",
       " '----------']"
      ]
     },
     "execution_count": 9,
     "metadata": {},
     "output_type": "execute_result"
    }
   ],
   "source": [
    "raw_list_transactions = []\n",
    "for col in df_transactions.columns:\n",
    "    if df_transactions[col].dtype == 'object':\n",
    "        raw_list_transactions.append([f'{col}, уник. значений: {df_transactions[col].nunique()}', df_transactions[col].unique()])\n",
    "        raw_list_transactions.append('----------')\n",
    "raw_list_transactions"
   ]
  },
  {
   "cell_type": "markdown",
   "id": "5afbca17",
   "metadata": {},
   "source": [
    "<div class=\"alert alert-block alert-warning\">\n",
    "<b>Преобразование типа признака t_dat на datetime</b>\n",
    "</div>"
   ]
  },
  {
   "cell_type": "markdown",
   "id": "13f4be87",
   "metadata": {},
   "source": [
    "<div class=\"alert alert-block alert-danger\">\n",
    "Перед преобразованием типа и очисткой данных передадим исходный датасет в переменную df_transactions_cleaned\n",
    "</div>"
   ]
  },
  {
   "cell_type": "code",
   "execution_count": 10,
   "id": "7ce9ea4e",
   "metadata": {},
   "outputs": [],
   "source": [
    "df_transactions_cleaned = df_transactions"
   ]
  },
  {
   "cell_type": "code",
   "execution_count": 11,
   "id": "9dbd0bfb",
   "metadata": {
    "scrolled": true
   },
   "outputs": [],
   "source": [
    "df_transactions_cleaned['t_dat']= pd.to_datetime(df_transactions_cleaned['t_dat'])"
   ]
  },
  {
   "cell_type": "markdown",
   "id": "34a8898f",
   "metadata": {},
   "source": [
    "<div class=\"alert alert-block alert-warning\">\n",
    "<b>Проверка результата преобразования типа</b>\n",
    "</div>"
   ]
  },
  {
   "cell_type": "code",
   "execution_count": 12,
   "id": "f95503e5",
   "metadata": {},
   "outputs": [
    {
     "name": "stdout",
     "output_type": "stream",
     "text": [
      "<class 'pandas.core.frame.DataFrame'>\n",
      "Int64Index: 317884 entries, 0 to 317883\n",
      "Data columns (total 4 columns):\n",
      " #   Column       Non-Null Count   Dtype         \n",
      "---  ------       --------------   -----         \n",
      " 0   t_dat        317884 non-null  datetime64[ns]\n",
      " 1   article_id   317884 non-null  int64         \n",
      " 2   price        317884 non-null  float64       \n",
      " 3   customer_id  317884 non-null  int64         \n",
      "dtypes: datetime64[ns](1), float64(1), int64(2)\n",
      "memory usage: 12.1 MB\n"
     ]
    }
   ],
   "source": [
    "df_transactions_cleaned.info()"
   ]
  },
  {
   "cell_type": "markdown",
   "id": "a651b07d",
   "metadata": {},
   "source": [
    "<div class=\"alert alert-block alert-success\">\n",
    "<b>Тип данных преобразован успешно</b>\n",
    "</div>"
   ]
  },
  {
   "cell_type": "markdown",
   "id": "9132c3b9",
   "metadata": {
    "scrolled": true
   },
   "source": [
    "<div class=\"alert alert-block alert-warning\">\n",
    "<b>Оценка и удаление выбросов признака price</b>\n",
    "</div>"
   ]
  },
  {
   "cell_type": "code",
   "execution_count": 13,
   "id": "b37f13a3",
   "metadata": {},
   "outputs": [
    {
     "data": {
      "image/png": "[encoded data removed]",
      "text/plain": [
       "<Figure size 432x288 with 1 Axes>"
      ]
     },
     "metadata": {
      "needs_background": "light"
     },
     "output_type": "display_data"
    }
   ],
   "source": [
    "sns.boxplot(x= df_transactions_cleaned['price']);"
   ]
  },
  {
   "cell_type": "code",
   "execution_count": 14,
   "id": "5cb28696",
   "metadata": {},
   "outputs": [
    {
     "data": {
      "text/plain": [
       "<AxesSubplot:title={'center':'price'}, ylabel='Frequency'>"
      ]
     },
     "execution_count": 14,
     "metadata": {},
     "output_type": "execute_result"
    },
    {
     "data": {
      "image/png": "[encoded data removed]",
      "text/plain": [
       "<Figure size 1296x864 with 1 Axes>"
      ]
     },
     "metadata": {
      "needs_background": "light"
     },
     "output_type": "display_data"
    }
   ],
   "source": [
    "df_transactions_cleaned.plot(y='price', title='price', kind='hist', bins=50, figsize=(18,12))"
   ]
  },
  {
   "cell_type": "markdown",
   "id": "09f414f6",
   "metadata": {},
   "source": [
    "<div class=\"alert alert-block alert-success\">\n",
    "<b>Из графиков видно, что распределение сильно вытянуто вправо. Это может говорить о том, что цена товара выше 120 единиц является редкостью или ошибкой ввода данных. Для дальнейшего анализа датасет будет очищен от записей, у которых значение признака price выше 120 единиц</b>\n",
    "</div>"
   ]
  },
  {
   "cell_type": "code",
   "execution_count": 15,
   "id": "dacae164",
   "metadata": {},
   "outputs": [],
   "source": [
    "df_transactions_cleaned.drop(df_transactions_cleaned[df_transactions_cleaned['price'] > 120].index, inplace=True)"
   ]
  },
  {
   "cell_type": "markdown",
   "id": "bab24b61",
   "metadata": {},
   "source": [
    "<div class=\"alert alert-block alert-warning\">\n",
    "<b>Визуальная и статистическая оценка результата удаления данных</b>\n",
    "</div>"
   ]
  },
  {
   "cell_type": "code",
   "execution_count": 16,
   "id": "95bfbf9d",
   "metadata": {},
   "outputs": [
    {
     "data": {
      "text/plain": [
       "<AxesSubplot:title={'center':'price'}, ylabel='Frequency'>"
      ]
     },
     "execution_count": 16,
     "metadata": {},
     "output_type": "execute_result"
    },
    {
     "data": {
      "image/png": "[encoded data removed]",
      "text/plain": [
       "<Figure size 1296x864 with 1 Axes>"
      ]
     },
     "metadata": {
      "needs_background": "light"
     },
     "output_type": "display_data"
    }
   ],
   "source": [
    "df_transactions_cleaned.plot(y='price', title='price', kind='hist', bins=20, figsize=(18,12))"
   ]
  },
  {
   "cell_type": "code",
   "execution_count": 17,
   "id": "cd9ee6d7",
   "metadata": {
    "scrolled": true
   },
   "outputs": [
    {
     "data": {
      "text/html": [
       "<div>\n",
       "<style scoped>\n",
       "    .dataframe tbody tr th:only-of-type {\n",
       "        vertical-align: middle;\n",
       "    }\n",
       "\n",
       "    .dataframe tbody tr th {\n",
       "        vertical-align: top;\n",
       "    }\n",
       "\n",
       "    .dataframe thead th {\n",
       "        text-align: right;\n",
       "    }\n",
       "</style>\n",
       "<table border=\"1\" class=\"dataframe\">\n",
       "  <thead>\n",
       "    <tr style=\"text-align: right;\">\n",
       "      <th></th>\n",
       "      <th>t_dat</th>\n",
       "      <th>article_id</th>\n",
       "      <th>price</th>\n",
       "      <th>customer_id</th>\n",
       "    </tr>\n",
       "  </thead>\n",
       "  <tbody>\n",
       "    <tr>\n",
       "      <th>count</th>\n",
       "      <td>316614</td>\n",
       "      <td>3.166140e+05</td>\n",
       "      <td>316614.000000</td>\n",
       "      <td>316614.000000</td>\n",
       "    </tr>\n",
       "    <tr>\n",
       "      <th>mean</th>\n",
       "      <td>2019-09-16 02:26:05.691978240</td>\n",
       "      <td>6.956116e+08</td>\n",
       "      <td>27.279964</td>\n",
       "      <td>102999.717770</td>\n",
       "    </tr>\n",
       "    <tr>\n",
       "      <th>min</th>\n",
       "      <td>2018-09-20 00:00:00</td>\n",
       "      <td>1.087750e+08</td>\n",
       "      <td>0.190000</td>\n",
       "      <td>0.000000</td>\n",
       "    </tr>\n",
       "    <tr>\n",
       "      <th>25%</th>\n",
       "      <td>2019-03-29 00:00:00</td>\n",
       "      <td>6.314180e+08</td>\n",
       "      <td>15.630000</td>\n",
       "      <td>45367.250000</td>\n",
       "    </tr>\n",
       "    <tr>\n",
       "      <th>50%</th>\n",
       "      <td>2019-08-24 00:00:00</td>\n",
       "      <td>7.139950e+08</td>\n",
       "      <td>25.410000</td>\n",
       "      <td>97256.500000</td>\n",
       "    </tr>\n",
       "    <tr>\n",
       "      <th>75%</th>\n",
       "      <td>2020-03-30 00:00:00</td>\n",
       "      <td>7.863070e+08</td>\n",
       "      <td>33.880000</td>\n",
       "      <td>157626.750000</td>\n",
       "    </tr>\n",
       "    <tr>\n",
       "      <th>max</th>\n",
       "      <td>2020-09-22 00:00:00</td>\n",
       "      <td>9.534500e+08</td>\n",
       "      <td>119.970000</td>\n",
       "      <td>229803.000000</td>\n",
       "    </tr>\n",
       "    <tr>\n",
       "      <th>std</th>\n",
       "      <td>NaN</td>\n",
       "      <td>1.339468e+08</td>\n",
       "      <td>16.898452</td>\n",
       "      <td>65766.238247</td>\n",
       "    </tr>\n",
       "  </tbody>\n",
       "</table>\n",
       "</div>"
      ],
      "text/plain": [
       "                               t_dat    article_id          price  \\\n",
       "count                         316614  3.166140e+05  316614.000000   \n",
       "mean   2019-09-16 02:26:05.691978240  6.956116e+08      27.279964   \n",
       "min              2018-09-20 00:00:00  1.087750e+08       0.190000   \n",
       "25%              2019-03-29 00:00:00  6.314180e+08      15.630000   \n",
       "50%              2019-08-24 00:00:00  7.139950e+08      25.410000   \n",
       "75%              2020-03-30 00:00:00  7.863070e+08      33.880000   \n",
       "max              2020-09-22 00:00:00  9.534500e+08     119.970000   \n",
       "std                              NaN  1.339468e+08      16.898452   \n",
       "\n",
       "         customer_id  \n",
       "count  316614.000000  \n",
       "mean   102999.717770  \n",
       "min         0.000000  \n",
       "25%     45367.250000  \n",
       "50%     97256.500000  \n",
       "75%    157626.750000  \n",
       "max    229803.000000  \n",
       "std     65766.238247  "
      ]
     },
     "execution_count": 17,
     "metadata": {},
     "output_type": "execute_result"
    }
   ],
   "source": [
    "df_transactions_cleaned.describe(include='all', datetime_is_numeric=True)"
   ]
  },
  {
   "cell_type": "markdown",
   "id": "8bcc4446",
   "metadata": {},
   "source": [
    "<div class=\"alert alert-block alert-success\">\n",
    "<b>Датасет очищен успешно, о чем говорит изменившееся значение максимального значения признака price и общее количество записей</b>\n",
    "</div>"
   ]
  },
  {
   "cell_type": "markdown",
   "id": "695a5acb",
   "metadata": {},
   "source": [
    "#### -- Набор данных `2` --"
   ]
  },
  {
   "cell_type": "markdown",
   "id": "8b23fe3d",
   "metadata": {},
   "source": [
    "<div class=\"alert alert-block alert-warning\">\n",
    "<b>Загрузка данных в переменную с преобразованием в табличный вид для дальнейшей работы</b>\n",
    "</div>"
   ]
  },
  {
   "cell_type": "code",
   "execution_count": 18,
   "id": "1ba9c1e4",
   "metadata": {},
   "outputs": [],
   "source": [
    "df_customers = pd.read_csv(customers_data, index_col='Unnamed: 0')"
   ]
  },
  {
   "cell_type": "markdown",
   "id": "0a136ff3",
   "metadata": {},
   "source": [
    "<div class=\"alert alert-block alert-warning\">\n",
    "<b>Вывод на экран части полученного набора данных</b>\n",
    "</div>"
   ]
  },
  {
   "cell_type": "code",
   "execution_count": 19,
   "id": "bc2cbc91",
   "metadata": {},
   "outputs": [
    {
     "data": {
      "text/html": [
       "<div>\n",
       "<style scoped>\n",
       "    .dataframe tbody tr th:only-of-type {\n",
       "        vertical-align: middle;\n",
       "    }\n",
       "\n",
       "    .dataframe tbody tr th {\n",
       "        vertical-align: top;\n",
       "    }\n",
       "\n",
       "    .dataframe thead th {\n",
       "        text-align: right;\n",
       "    }\n",
       "</style>\n",
       "<table border=\"1\" class=\"dataframe\">\n",
       "  <thead>\n",
       "    <tr style=\"text-align: right;\">\n",
       "      <th></th>\n",
       "      <th>club_member</th>\n",
       "      <th>fashion_news</th>\n",
       "      <th>age</th>\n",
       "      <th>customer_id</th>\n",
       "    </tr>\n",
       "  </thead>\n",
       "  <tbody>\n",
       "    <tr>\n",
       "      <th>0</th>\n",
       "      <td>ACTIVE</td>\n",
       "      <td>NONE</td>\n",
       "      <td>49.0</td>\n",
       "      <td>91991</td>\n",
       "    </tr>\n",
       "    <tr>\n",
       "      <th>1</th>\n",
       "      <td>ACTIVE</td>\n",
       "      <td>Regularly</td>\n",
       "      <td>32.0</td>\n",
       "      <td>164401</td>\n",
       "    </tr>\n",
       "    <tr>\n",
       "      <th>2</th>\n",
       "      <td>ACTIVE</td>\n",
       "      <td>Regularly</td>\n",
       "      <td>56.0</td>\n",
       "      <td>182738</td>\n",
       "    </tr>\n",
       "    <tr>\n",
       "      <th>3</th>\n",
       "      <td>ACTIVE</td>\n",
       "      <td>Regularly</td>\n",
       "      <td>30.0</td>\n",
       "      <td>166422</td>\n",
       "    </tr>\n",
       "    <tr>\n",
       "      <th>4</th>\n",
       "      <td>PRE-CREATE</td>\n",
       "      <td>Regularly</td>\n",
       "      <td>40.0</td>\n",
       "      <td>164557</td>\n",
       "    </tr>\n",
       "    <tr>\n",
       "      <th>...</th>\n",
       "      <td>...</td>\n",
       "      <td>...</td>\n",
       "      <td>...</td>\n",
       "      <td>...</td>\n",
       "    </tr>\n",
       "    <tr>\n",
       "      <th>229799</th>\n",
       "      <td>ACTIVE</td>\n",
       "      <td>Regularly</td>\n",
       "      <td>44.0</td>\n",
       "      <td>96272</td>\n",
       "    </tr>\n",
       "    <tr>\n",
       "      <th>229800</th>\n",
       "      <td>ACTIVE</td>\n",
       "      <td>NONE</td>\n",
       "      <td>27.0</td>\n",
       "      <td>14468</td>\n",
       "    </tr>\n",
       "    <tr>\n",
       "      <th>229801</th>\n",
       "      <td>ACTIVE</td>\n",
       "      <td>NONE</td>\n",
       "      <td>27.0</td>\n",
       "      <td>76150</td>\n",
       "    </tr>\n",
       "    <tr>\n",
       "      <th>229802</th>\n",
       "      <td>ACTIVE</td>\n",
       "      <td>NONE</td>\n",
       "      <td>40.0</td>\n",
       "      <td>94386</td>\n",
       "    </tr>\n",
       "    <tr>\n",
       "      <th>229803</th>\n",
       "      <td>ACTIVE</td>\n",
       "      <td>NONE</td>\n",
       "      <td>21.0</td>\n",
       "      <td>210647</td>\n",
       "    </tr>\n",
       "  </tbody>\n",
       "</table>\n",
       "<p>229804 rows × 4 columns</p>\n",
       "</div>"
      ],
      "text/plain": [
       "       club_member fashion_news   age  customer_id\n",
       "0           ACTIVE         NONE  49.0        91991\n",
       "1           ACTIVE    Regularly  32.0       164401\n",
       "2           ACTIVE    Regularly  56.0       182738\n",
       "3           ACTIVE    Regularly  30.0       166422\n",
       "4       PRE-CREATE    Regularly  40.0       164557\n",
       "...            ...          ...   ...          ...\n",
       "229799      ACTIVE    Regularly  44.0        96272\n",
       "229800      ACTIVE         NONE  27.0        14468\n",
       "229801      ACTIVE         NONE  27.0        76150\n",
       "229802      ACTIVE         NONE  40.0        94386\n",
       "229803      ACTIVE         NONE  21.0       210647\n",
       "\n",
       "[229804 rows x 4 columns]"
      ]
     },
     "execution_count": 19,
     "metadata": {},
     "output_type": "execute_result"
    }
   ],
   "source": [
    "df_customers"
   ]
  },
  {
   "cell_type": "markdown",
   "id": "07109c5e",
   "metadata": {},
   "source": [
    "<div class=\"alert alert-block alert-warning\">\n",
    "<b>Определение размера датасета, типа данных по каждому признаку</b>\n",
    "</div>"
   ]
  },
  {
   "cell_type": "code",
   "execution_count": 20,
   "id": "6dd72393",
   "metadata": {
    "scrolled": true
   },
   "outputs": [
    {
     "name": "stdout",
     "output_type": "stream",
     "text": [
      "<class 'pandas.core.frame.DataFrame'>\n",
      "Int64Index: 229804 entries, 0 to 229803\n",
      "Data columns (total 4 columns):\n",
      " #   Column        Non-Null Count   Dtype  \n",
      "---  ------        --------------   -----  \n",
      " 0   club_member   229343 non-null  object \n",
      " 1   fashion_news  228565 non-null  object \n",
      " 2   age           228613 non-null  float64\n",
      " 3   customer_id   229804 non-null  int64  \n",
      "dtypes: float64(1), int64(1), object(2)\n",
      "memory usage: 8.8+ MB\n"
     ]
    }
   ],
   "source": [
    "df_customers.info()"
   ]
  },
  {
   "cell_type": "markdown",
   "id": "f78c9cee",
   "metadata": {},
   "source": [
    "<div class=\"alert alert-block alert-success\">\n",
    "<b>Набор данных df_customers состоит из 229 804 записей и 4 признаков. Нулевые значения обнаружены в трех признаках</b>\n",
    "</div>"
   ]
  },
  {
   "cell_type": "markdown",
   "id": "e29f7a37",
   "metadata": {},
   "source": [
    "<div class=\"alert alert-block alert-warning\">\n",
    "<b>Определение аномалий для последующей проверки</b>\n",
    "</div>"
   ]
  },
  {
   "cell_type": "code",
   "execution_count": 21,
   "id": "47adc82b",
   "metadata": {},
   "outputs": [
    {
     "data": {
      "text/html": [
       "<div>\n",
       "<style scoped>\n",
       "    .dataframe tbody tr th:only-of-type {\n",
       "        vertical-align: middle;\n",
       "    }\n",
       "\n",
       "    .dataframe tbody tr th {\n",
       "        vertical-align: top;\n",
       "    }\n",
       "\n",
       "    .dataframe thead th {\n",
       "        text-align: right;\n",
       "    }\n",
       "</style>\n",
       "<table border=\"1\" class=\"dataframe\">\n",
       "  <thead>\n",
       "    <tr style=\"text-align: right;\">\n",
       "      <th></th>\n",
       "      <th>club_member</th>\n",
       "      <th>fashion_news</th>\n",
       "      <th>age</th>\n",
       "      <th>customer_id</th>\n",
       "    </tr>\n",
       "  </thead>\n",
       "  <tbody>\n",
       "    <tr>\n",
       "      <th>count</th>\n",
       "      <td>229343</td>\n",
       "      <td>228565</td>\n",
       "      <td>228613.000000</td>\n",
       "      <td>229804.000000</td>\n",
       "    </tr>\n",
       "    <tr>\n",
       "      <th>unique</th>\n",
       "      <td>3</td>\n",
       "      <td>3</td>\n",
       "      <td>NaN</td>\n",
       "      <td>NaN</td>\n",
       "    </tr>\n",
       "    <tr>\n",
       "      <th>top</th>\n",
       "      <td>ACTIVE</td>\n",
       "      <td>NONE</td>\n",
       "      <td>NaN</td>\n",
       "      <td>NaN</td>\n",
       "    </tr>\n",
       "    <tr>\n",
       "      <th>freq</th>\n",
       "      <td>223275</td>\n",
       "      <td>133950</td>\n",
       "      <td>NaN</td>\n",
       "      <td>NaN</td>\n",
       "    </tr>\n",
       "    <tr>\n",
       "      <th>mean</th>\n",
       "      <td>NaN</td>\n",
       "      <td>NaN</td>\n",
       "      <td>35.987402</td>\n",
       "      <td>114901.500000</td>\n",
       "    </tr>\n",
       "    <tr>\n",
       "      <th>std</th>\n",
       "      <td>NaN</td>\n",
       "      <td>NaN</td>\n",
       "      <td>13.195025</td>\n",
       "      <td>66338.844968</td>\n",
       "    </tr>\n",
       "    <tr>\n",
       "      <th>min</th>\n",
       "      <td>NaN</td>\n",
       "      <td>NaN</td>\n",
       "      <td>16.000000</td>\n",
       "      <td>0.000000</td>\n",
       "    </tr>\n",
       "    <tr>\n",
       "      <th>25%</th>\n",
       "      <td>NaN</td>\n",
       "      <td>NaN</td>\n",
       "      <td>25.000000</td>\n",
       "      <td>57450.750000</td>\n",
       "    </tr>\n",
       "    <tr>\n",
       "      <th>50%</th>\n",
       "      <td>NaN</td>\n",
       "      <td>NaN</td>\n",
       "      <td>31.000000</td>\n",
       "      <td>114901.500000</td>\n",
       "    </tr>\n",
       "    <tr>\n",
       "      <th>75%</th>\n",
       "      <td>NaN</td>\n",
       "      <td>NaN</td>\n",
       "      <td>48.000000</td>\n",
       "      <td>172352.250000</td>\n",
       "    </tr>\n",
       "    <tr>\n",
       "      <th>max</th>\n",
       "      <td>NaN</td>\n",
       "      <td>NaN</td>\n",
       "      <td>98.000000</td>\n",
       "      <td>229803.000000</td>\n",
       "    </tr>\n",
       "  </tbody>\n",
       "</table>\n",
       "</div>"
      ],
      "text/plain": [
       "       club_member fashion_news            age    customer_id\n",
       "count       229343       228565  228613.000000  229804.000000\n",
       "unique           3            3            NaN            NaN\n",
       "top         ACTIVE         NONE            NaN            NaN\n",
       "freq        223275       133950            NaN            NaN\n",
       "mean           NaN          NaN      35.987402  114901.500000\n",
       "std            NaN          NaN      13.195025   66338.844968\n",
       "min            NaN          NaN      16.000000       0.000000\n",
       "25%            NaN          NaN      25.000000   57450.750000\n",
       "50%            NaN          NaN      31.000000  114901.500000\n",
       "75%            NaN          NaN      48.000000  172352.250000\n",
       "max            NaN          NaN      98.000000  229803.000000"
      ]
     },
     "execution_count": 21,
     "metadata": {},
     "output_type": "execute_result"
    }
   ],
   "source": [
    "df_customers.describe(include='all')"
   ]
  },
  {
   "cell_type": "markdown",
   "id": "8c2b3f37",
   "metadata": {},
   "source": [
    "<div class=\"alert alert-block alert-warning\">\n",
    "<b>Уточнение наличия нулевых значений</b>\n",
    "</div>"
   ]
  },
  {
   "cell_type": "code",
   "execution_count": 22,
   "id": "05f46693",
   "metadata": {},
   "outputs": [
    {
     "data": {
      "text/plain": [
       "club_member      461\n",
       "fashion_news    1239\n",
       "age             1191\n",
       "customer_id        0\n",
       "dtype: int64"
      ]
     },
     "execution_count": 22,
     "metadata": {},
     "output_type": "execute_result"
    }
   ],
   "source": [
    "df_customers.isnull().sum()"
   ]
  },
  {
   "cell_type": "code",
   "execution_count": 23,
   "id": "80a6233a",
   "metadata": {
    "scrolled": true
   },
   "outputs": [
    {
     "data": {
      "text/plain": [
       "club_member      461\n",
       "fashion_news    1239\n",
       "age             1191\n",
       "customer_id        0\n",
       "dtype: int64"
      ]
     },
     "execution_count": 23,
     "metadata": {},
     "output_type": "execute_result"
    }
   ],
   "source": [
    "df_customers.isna().sum()"
   ]
  },
  {
   "cell_type": "code",
   "execution_count": 24,
   "id": "481a09a4",
   "metadata": {
    "scrolled": false
   },
   "outputs": [
    {
     "data": {
      "text/plain": [
       "club_member     0.200606\n",
       "fashion_news    0.539155\n",
       "age             0.518268\n",
       "customer_id     0.000000\n",
       "dtype: float64"
      ]
     },
     "execution_count": 24,
     "metadata": {},
     "output_type": "execute_result"
    }
   ],
   "source": [
    "df_customers.isnull().mean()*100"
   ]
  },
  {
   "cell_type": "markdown",
   "id": "36934ebd",
   "metadata": {},
   "source": [
    "<div class=\"alert alert-block alert-success\">\n",
    "<b>Нулевых значений в датасете df_customers суммарно не более 1,5%. В связи малым количеством нулевые значения будут удалены</b>\n",
    "</div>"
   ]
  },
  {
   "cell_type": "markdown",
   "id": "4d615e87",
   "metadata": {},
   "source": [
    "<div class=\"alert alert-block alert-warning\">\n",
    "<b>Удаление нулевых значений, проверка результата удаления</b>\n",
    "</div>"
   ]
  },
  {
   "cell_type": "markdown",
   "id": "e0c5a077",
   "metadata": {},
   "source": [
    "<div class=\"alert alert-block alert-danger\">\n",
    "Перед очисткой данных передадим исходный датасет в переменную df_customers_cleaned\n",
    "</div>"
   ]
  },
  {
   "cell_type": "code",
   "execution_count": 25,
   "id": "3f6c2528",
   "metadata": {
    "scrolled": true
   },
   "outputs": [
    {
     "name": "stdout",
     "output_type": "stream",
     "text": [
      "<class 'pandas.core.frame.DataFrame'>\n",
      "Int64Index: 227155 entries, 0 to 229803\n",
      "Data columns (total 4 columns):\n",
      " #   Column        Non-Null Count   Dtype  \n",
      "---  ------        --------------   -----  \n",
      " 0   club_member   227155 non-null  object \n",
      " 1   fashion_news  227155 non-null  object \n",
      " 2   age           227155 non-null  float64\n",
      " 3   customer_id   227155 non-null  int64  \n",
      "dtypes: float64(1), int64(1), object(2)\n",
      "memory usage: 8.7+ MB\n"
     ]
    }
   ],
   "source": [
    "df_customers_cleaned = df_customers.dropna()\n",
    "df_customers_cleaned.info()"
   ]
  },
  {
   "cell_type": "code",
   "execution_count": 26,
   "id": "fd2c0814",
   "metadata": {
    "scrolled": false
   },
   "outputs": [
    {
     "data": {
      "text/plain": [
       "club_member     0.0\n",
       "fashion_news    0.0\n",
       "age             0.0\n",
       "customer_id     0.0\n",
       "dtype: float64"
      ]
     },
     "execution_count": 26,
     "metadata": {},
     "output_type": "execute_result"
    }
   ],
   "source": [
    "df_customers_cleaned.isnull().mean()*100"
   ]
  },
  {
   "cell_type": "markdown",
   "id": "f870a4d9",
   "metadata": {},
   "source": [
    "<div class=\"alert alert-block alert-success\">\n",
    "<b>Нулевые значения удалены успешно</b>\n",
    "</div>"
   ]
  },
  {
   "cell_type": "markdown",
   "id": "7e4afb00",
   "metadata": {},
   "source": [
    "<div class=\"alert alert-block alert-warning\">\n",
    "<b>Проверка на наличие дубликатов</b>\n",
    "</div>"
   ]
  },
  {
   "cell_type": "code",
   "execution_count": 27,
   "id": "7ab3677a",
   "metadata": {
    "scrolled": true
   },
   "outputs": [
    {
     "data": {
      "text/plain": [
       "0"
      ]
     },
     "execution_count": 27,
     "metadata": {},
     "output_type": "execute_result"
    }
   ],
   "source": [
    "df_customers_cleaned.duplicated().sum()"
   ]
  },
  {
   "cell_type": "markdown",
   "id": "570642b5",
   "metadata": {},
   "source": [
    "<div class=\"alert alert-block alert-success\">\n",
    "<b>Дубликатов нет в наборе df_customers_cleaned</b>\n",
    "</div>"
   ]
  },
  {
   "cell_type": "markdown",
   "id": "3741fa0e",
   "metadata": {},
   "source": [
    "<div class=\"alert alert-block alert-warning\">\n",
    "<b>Вывод уникальных значений категориальных признаков</b>\n",
    "</div>"
   ]
  },
  {
   "cell_type": "code",
   "execution_count": 28,
   "id": "256b2abd",
   "metadata": {
    "scrolled": true
   },
   "outputs": [
    {
     "data": {
      "text/plain": [
       "[['club_member, уник. значений: 3',\n",
       "  array(['ACTIVE', 'PRE-CREATE', 'LEFT CLUB'], dtype=object)],\n",
       " '----------',\n",
       " ['fashion_news, уник. значений: 3',\n",
       "  array(['NONE', 'Regularly', 'Monthly'], dtype=object)],\n",
       " '----------']"
      ]
     },
     "execution_count": 28,
     "metadata": {},
     "output_type": "execute_result"
    }
   ],
   "source": [
    "raw_list_customers = []\n",
    "for col in df_customers_cleaned.columns:\n",
    "    if df_customers_cleaned[col].dtype == 'object':\n",
    "        raw_list_customers.append([f'{col}, уник. значений: {df_customers_cleaned[col].nunique()}', df_customers_cleaned[col].unique()])\n",
    "        raw_list_customers.append('----------')\n",
    "raw_list_customers"
   ]
  },
  {
   "cell_type": "markdown",
   "id": "c6d5ae11",
   "metadata": {},
   "source": [
    "<div class=\"alert alert-block alert-success\">\n",
    "<b>Уникальные значения вопросов не вызывают</b>\n",
    "</div>"
   ]
  },
  {
   "cell_type": "markdown",
   "id": "46c067fb",
   "metadata": {},
   "source": [
    "<div class=\"alert alert-block alert-warning\">\n",
    "<b>Оценка и удаление выбросов признака age</b>\n",
    "</div>"
   ]
  },
  {
   "cell_type": "code",
   "execution_count": 29,
   "id": "f2f57510",
   "metadata": {
    "scrolled": false
   },
   "outputs": [
    {
     "data": {
      "image/png": "[encoded data removed]",
      "text/plain": [
       "<Figure size 432x288 with 1 Axes>"
      ]
     },
     "metadata": {
      "needs_background": "light"
     },
     "output_type": "display_data"
    }
   ],
   "source": [
    "sns.boxplot(x= df_customers_cleaned['age']);"
   ]
  },
  {
   "cell_type": "markdown",
   "id": "892b359b",
   "metadata": {},
   "source": [
    "<div class=\"alert alert-block alert-success\">\n",
    "<b>Из графика видно, что есть выбросы данных. Средняя продолжительность в мире не превышает 80 лет, поэтому такие выбросы могут быть удалены. Для дальнейшего анализа датасет будет очищен от записей, у которых значение признака age выше 82 лет</b>\n",
    "</div>"
   ]
  },
  {
   "cell_type": "code",
   "execution_count": 30,
   "id": "e76a43e4",
   "metadata": {
    "scrolled": true
   },
   "outputs": [
    {
     "name": "stderr",
     "output_type": "stream",
     "text": [
      "C:\\Users\\PUSHKINY\\AppData\\Local\\Temp\\ipykernel_13524\\1365347936.py:1: SettingWithCopyWarning: \n",
      "A value is trying to be set on a copy of a slice from a DataFrame\n",
      "\n",
      "See the caveats in the documentation: https://pandas.pydata.org/pandas-docs/stable/user_guide/indexing.html#returning-a-view-versus-a-copy\n",
      "  df_customers_cleaned.drop(df_customers_cleaned[df_customers_cleaned['age'] > 82].index, inplace=True)\n"
     ]
    }
   ],
   "source": [
    "df_customers_cleaned.drop(df_customers_cleaned[df_customers_cleaned['age'] > 82].index, inplace=True)"
   ]
  },
  {
   "cell_type": "markdown",
   "id": "5a989d87",
   "metadata": {},
   "source": [
    "<div class=\"alert alert-block alert-warning\">\n",
    "<b>Визуальная и статистическая оценка результата удаления данных</b>\n",
    "</div>"
   ]
  },
  {
   "cell_type": "code",
   "execution_count": 31,
   "id": "af98aa92",
   "metadata": {
    "scrolled": true
   },
   "outputs": [
    {
     "data": {
      "image/png": "[encoded data removed]",
      "text/plain": [
       "<Figure size 432x288 with 1 Axes>"
      ]
     },
     "metadata": {
      "needs_background": "light"
     },
     "output_type": "display_data"
    }
   ],
   "source": [
    "sns.boxplot(x= df_customers_cleaned['age']);"
   ]
  },
  {
   "cell_type": "code",
   "execution_count": 32,
   "id": "619c5370",
   "metadata": {
    "scrolled": true
   },
   "outputs": [
    {
     "data": {
      "image/png": "[encoded data removed]",
      "text/plain": [
       "<Figure size 432x288 with 1 Axes>"
      ]
     },
     "metadata": {
      "needs_background": "light"
     },
     "output_type": "display_data"
    }
   ],
   "source": [
    "sns.histplot(x = df_customers_cleaned['age'], data = df_customers_cleaned, legend = False);"
   ]
  },
  {
   "cell_type": "code",
   "execution_count": 33,
   "id": "70375bd6",
   "metadata": {
    "scrolled": false
   },
   "outputs": [
    {
     "data": {
      "text/html": [
       "<div>\n",
       "<style scoped>\n",
       "    .dataframe tbody tr th:only-of-type {\n",
       "        vertical-align: middle;\n",
       "    }\n",
       "\n",
       "    .dataframe tbody tr th {\n",
       "        vertical-align: top;\n",
       "    }\n",
       "\n",
       "    .dataframe thead th {\n",
       "        text-align: right;\n",
       "    }\n",
       "</style>\n",
       "<table border=\"1\" class=\"dataframe\">\n",
       "  <thead>\n",
       "    <tr style=\"text-align: right;\">\n",
       "      <th></th>\n",
       "      <th>club_member</th>\n",
       "      <th>fashion_news</th>\n",
       "      <th>age</th>\n",
       "      <th>customer_id</th>\n",
       "    </tr>\n",
       "  </thead>\n",
       "  <tbody>\n",
       "    <tr>\n",
       "      <th>count</th>\n",
       "      <td>227111</td>\n",
       "      <td>227111</td>\n",
       "      <td>227111.000000</td>\n",
       "      <td>227111.00000</td>\n",
       "    </tr>\n",
       "    <tr>\n",
       "      <th>unique</th>\n",
       "      <td>3</td>\n",
       "      <td>3</td>\n",
       "      <td>NaN</td>\n",
       "      <td>NaN</td>\n",
       "    </tr>\n",
       "    <tr>\n",
       "      <th>top</th>\n",
       "      <td>ACTIVE</td>\n",
       "      <td>NONE</td>\n",
       "      <td>NaN</td>\n",
       "      <td>NaN</td>\n",
       "    </tr>\n",
       "    <tr>\n",
       "      <th>freq</th>\n",
       "      <td>221532</td>\n",
       "      <td>132722</td>\n",
       "      <td>NaN</td>\n",
       "      <td>NaN</td>\n",
       "    </tr>\n",
       "    <tr>\n",
       "      <th>mean</th>\n",
       "      <td>NaN</td>\n",
       "      <td>NaN</td>\n",
       "      <td>35.973925</td>\n",
       "      <td>114858.39700</td>\n",
       "    </tr>\n",
       "    <tr>\n",
       "      <th>std</th>\n",
       "      <td>NaN</td>\n",
       "      <td>NaN</td>\n",
       "      <td>13.177406</td>\n",
       "      <td>66338.45391</td>\n",
       "    </tr>\n",
       "    <tr>\n",
       "      <th>min</th>\n",
       "      <td>NaN</td>\n",
       "      <td>NaN</td>\n",
       "      <td>16.000000</td>\n",
       "      <td>1.00000</td>\n",
       "    </tr>\n",
       "    <tr>\n",
       "      <th>25%</th>\n",
       "      <td>NaN</td>\n",
       "      <td>NaN</td>\n",
       "      <td>25.000000</td>\n",
       "      <td>57402.50000</td>\n",
       "    </tr>\n",
       "    <tr>\n",
       "      <th>50%</th>\n",
       "      <td>NaN</td>\n",
       "      <td>NaN</td>\n",
       "      <td>31.000000</td>\n",
       "      <td>114840.00000</td>\n",
       "    </tr>\n",
       "    <tr>\n",
       "      <th>75%</th>\n",
       "      <td>NaN</td>\n",
       "      <td>NaN</td>\n",
       "      <td>48.000000</td>\n",
       "      <td>172290.50000</td>\n",
       "    </tr>\n",
       "    <tr>\n",
       "      <th>max</th>\n",
       "      <td>NaN</td>\n",
       "      <td>NaN</td>\n",
       "      <td>82.000000</td>\n",
       "      <td>229803.00000</td>\n",
       "    </tr>\n",
       "  </tbody>\n",
       "</table>\n",
       "</div>"
      ],
      "text/plain": [
       "       club_member fashion_news            age   customer_id\n",
       "count       227111       227111  227111.000000  227111.00000\n",
       "unique           3            3            NaN           NaN\n",
       "top         ACTIVE         NONE            NaN           NaN\n",
       "freq        221532       132722            NaN           NaN\n",
       "mean           NaN          NaN      35.973925  114858.39700\n",
       "std            NaN          NaN      13.177406   66338.45391\n",
       "min            NaN          NaN      16.000000       1.00000\n",
       "25%            NaN          NaN      25.000000   57402.50000\n",
       "50%            NaN          NaN      31.000000  114840.00000\n",
       "75%            NaN          NaN      48.000000  172290.50000\n",
       "max            NaN          NaN      82.000000  229803.00000"
      ]
     },
     "execution_count": 33,
     "metadata": {},
     "output_type": "execute_result"
    }
   ],
   "source": [
    "df_customers_cleaned.describe(include='all')"
   ]
  },
  {
   "cell_type": "markdown",
   "id": "cc1ea369",
   "metadata": {},
   "source": [
    "<div class=\"alert alert-block alert-success\">\n",
    "<b>Датасет очищен успешно, о чем говорит изменившееся значение максимального значения признака price и общее количество записей</b>\n",
    "</div>"
   ]
  },
  {
   "cell_type": "markdown",
   "id": "0693ea2a",
   "metadata": {},
   "source": [
    "#### -- Набор данных `3` --"
   ]
  },
  {
   "cell_type": "markdown",
   "id": "064413c5",
   "metadata": {},
   "source": [
    "<div class=\"alert alert-block alert-warning\">\n",
    "<b>Загрузка данных в переменную с преобразованием в табличный вид для дальнейшей работы</b>\n",
    "</div>"
   ]
  },
  {
   "cell_type": "code",
   "execution_count": 34,
   "id": "1505faae",
   "metadata": {},
   "outputs": [],
   "source": [
    "df_product = pd.read_csv(product_data, index_col='Unnamed: 0')"
   ]
  },
  {
   "cell_type": "markdown",
   "id": "9f9f2c0e",
   "metadata": {},
   "source": [
    "<div class=\"alert alert-block alert-warning\">\n",
    "<b>Вывод на экран части полученного набора данных</b>\n",
    "</div>"
   ]
  },
  {
   "cell_type": "code",
   "execution_count": 35,
   "id": "0ca5dc1e",
   "metadata": {},
   "outputs": [
    {
     "data": {
      "text/html": [
       "<div>\n",
       "<style scoped>\n",
       "    .dataframe tbody tr th:only-of-type {\n",
       "        vertical-align: middle;\n",
       "    }\n",
       "\n",
       "    .dataframe tbody tr th {\n",
       "        vertical-align: top;\n",
       "    }\n",
       "\n",
       "    .dataframe thead th {\n",
       "        text-align: right;\n",
       "    }\n",
       "</style>\n",
       "<table border=\"1\" class=\"dataframe\">\n",
       "  <thead>\n",
       "    <tr style=\"text-align: right;\">\n",
       "      <th></th>\n",
       "      <th>article_id</th>\n",
       "      <th>product_name</th>\n",
       "      <th>color</th>\n",
       "    </tr>\n",
       "  </thead>\n",
       "  <tbody>\n",
       "    <tr>\n",
       "      <th>0</th>\n",
       "      <td>108775015</td>\n",
       "      <td>Vest top</td>\n",
       "      <td>Black</td>\n",
       "    </tr>\n",
       "    <tr>\n",
       "      <th>1</th>\n",
       "      <td>108775044</td>\n",
       "      <td>Vest top</td>\n",
       "      <td>White</td>\n",
       "    </tr>\n",
       "    <tr>\n",
       "      <th>2</th>\n",
       "      <td>110065001</td>\n",
       "      <td>Bra</td>\n",
       "      <td>Black</td>\n",
       "    </tr>\n",
       "    <tr>\n",
       "      <th>3</th>\n",
       "      <td>110065002</td>\n",
       "      <td>Bra</td>\n",
       "      <td>White</td>\n",
       "    </tr>\n",
       "    <tr>\n",
       "      <th>4</th>\n",
       "      <td>110065011</td>\n",
       "      <td>Bra</td>\n",
       "      <td>Light Beige</td>\n",
       "    </tr>\n",
       "    <tr>\n",
       "      <th>...</th>\n",
       "      <td>...</td>\n",
       "      <td>...</td>\n",
       "      <td>...</td>\n",
       "    </tr>\n",
       "    <tr>\n",
       "      <th>53621</th>\n",
       "      <td>947934001</td>\n",
       "      <td>Underwear Tights</td>\n",
       "      <td>Black</td>\n",
       "    </tr>\n",
       "    <tr>\n",
       "      <th>53622</th>\n",
       "      <td>949198001</td>\n",
       "      <td>Trousers</td>\n",
       "      <td>Black</td>\n",
       "    </tr>\n",
       "    <tr>\n",
       "      <th>53623</th>\n",
       "      <td>949551002</td>\n",
       "      <td>Sweater</td>\n",
       "      <td>Pink</td>\n",
       "    </tr>\n",
       "    <tr>\n",
       "      <th>53624</th>\n",
       "      <td>952267001</td>\n",
       "      <td>Underwear Tights</td>\n",
       "      <td>Black</td>\n",
       "    </tr>\n",
       "    <tr>\n",
       "      <th>53625</th>\n",
       "      <td>953450001</td>\n",
       "      <td>Socks</td>\n",
       "      <td>Black</td>\n",
       "    </tr>\n",
       "  </tbody>\n",
       "</table>\n",
       "<p>53626 rows × 3 columns</p>\n",
       "</div>"
      ],
      "text/plain": [
       "       article_id      product_name        color\n",
       "0       108775015          Vest top        Black\n",
       "1       108775044          Vest top        White\n",
       "2       110065001               Bra        Black\n",
       "3       110065002               Bra        White\n",
       "4       110065011               Bra  Light Beige\n",
       "...           ...               ...          ...\n",
       "53621   947934001  Underwear Tights        Black\n",
       "53622   949198001          Trousers        Black\n",
       "53623   949551002           Sweater         Pink\n",
       "53624   952267001  Underwear Tights        Black\n",
       "53625   953450001             Socks        Black\n",
       "\n",
       "[53626 rows x 3 columns]"
      ]
     },
     "execution_count": 35,
     "metadata": {},
     "output_type": "execute_result"
    }
   ],
   "source": [
    "df_product"
   ]
  },
  {
   "cell_type": "markdown",
   "id": "39dc6083",
   "metadata": {},
   "source": [
    "<div class=\"alert alert-block alert-warning\">\n",
    "<b>Определение размера датасета, типа данных по каждому признаку</b>\n",
    "</div>"
   ]
  },
  {
   "cell_type": "code",
   "execution_count": 36,
   "id": "2aeb9354",
   "metadata": {},
   "outputs": [
    {
     "name": "stdout",
     "output_type": "stream",
     "text": [
      "<class 'pandas.core.frame.DataFrame'>\n",
      "Int64Index: 53626 entries, 0 to 53625\n",
      "Data columns (total 3 columns):\n",
      " #   Column        Non-Null Count  Dtype \n",
      "---  ------        --------------  ----- \n",
      " 0   article_id    53626 non-null  int64 \n",
      " 1   product_name  53626 non-null  object\n",
      " 2   color         53626 non-null  object\n",
      "dtypes: int64(1), object(2)\n",
      "memory usage: 1.6+ MB\n"
     ]
    }
   ],
   "source": [
    "df_product.info()"
   ]
  },
  {
   "cell_type": "markdown",
   "id": "1d17c37f",
   "metadata": {},
   "source": [
    "<div class=\"alert alert-block alert-warning\">\n",
    "<b>Уточнение наличия нулевых значений</b>\n",
    "</div>"
   ]
  },
  {
   "cell_type": "code",
   "execution_count": 37,
   "id": "ade55c27",
   "metadata": {
    "scrolled": true
   },
   "outputs": [
    {
     "data": {
      "text/plain": [
       "article_id      0\n",
       "product_name    0\n",
       "color           0\n",
       "dtype: int64"
      ]
     },
     "execution_count": 37,
     "metadata": {},
     "output_type": "execute_result"
    }
   ],
   "source": [
    "df_product.isnull().sum()"
   ]
  },
  {
   "cell_type": "code",
   "execution_count": 38,
   "id": "fc737acf",
   "metadata": {
    "scrolled": false
   },
   "outputs": [
    {
     "data": {
      "text/plain": [
       "article_id      0\n",
       "product_name    0\n",
       "color           0\n",
       "dtype: int64"
      ]
     },
     "execution_count": 38,
     "metadata": {},
     "output_type": "execute_result"
    }
   ],
   "source": [
    "df_product.isna().sum()"
   ]
  },
  {
   "cell_type": "markdown",
   "id": "879da344",
   "metadata": {},
   "source": [
    "<div class=\"alert alert-block alert-success\">\n",
    "<b>Набор данных df_product состоит из 53 626 записей и 3 признаков. Нулевые значения не обнаружены ни в одном признаке</b>\n",
    "</div>"
   ]
  },
  {
   "cell_type": "code",
   "execution_count": 39,
   "id": "3a3b9b1d",
   "metadata": {
    "scrolled": true
   },
   "outputs": [
    {
     "data": {
      "text/html": [
       "<div>\n",
       "<style scoped>\n",
       "    .dataframe tbody tr th:only-of-type {\n",
       "        vertical-align: middle;\n",
       "    }\n",
       "\n",
       "    .dataframe tbody tr th {\n",
       "        vertical-align: top;\n",
       "    }\n",
       "\n",
       "    .dataframe thead th {\n",
       "        text-align: right;\n",
       "    }\n",
       "</style>\n",
       "<table border=\"1\" class=\"dataframe\">\n",
       "  <thead>\n",
       "    <tr style=\"text-align: right;\">\n",
       "      <th></th>\n",
       "      <th>article_id</th>\n",
       "      <th>product_name</th>\n",
       "      <th>color</th>\n",
       "    </tr>\n",
       "  </thead>\n",
       "  <tbody>\n",
       "    <tr>\n",
       "      <th>count</th>\n",
       "      <td>5.362600e+04</td>\n",
       "      <td>53626</td>\n",
       "      <td>53626</td>\n",
       "    </tr>\n",
       "    <tr>\n",
       "      <th>unique</th>\n",
       "      <td>NaN</td>\n",
       "      <td>118</td>\n",
       "      <td>50</td>\n",
       "    </tr>\n",
       "    <tr>\n",
       "      <th>top</th>\n",
       "      <td>NaN</td>\n",
       "      <td>Dress</td>\n",
       "      <td>Black</td>\n",
       "    </tr>\n",
       "    <tr>\n",
       "      <th>freq</th>\n",
       "      <td>NaN</td>\n",
       "      <td>6057</td>\n",
       "      <td>13758</td>\n",
       "    </tr>\n",
       "    <tr>\n",
       "      <th>mean</th>\n",
       "      <td>7.088432e+08</td>\n",
       "      <td>NaN</td>\n",
       "      <td>NaN</td>\n",
       "    </tr>\n",
       "    <tr>\n",
       "      <th>std</th>\n",
       "      <td>1.231297e+08</td>\n",
       "      <td>NaN</td>\n",
       "      <td>NaN</td>\n",
       "    </tr>\n",
       "    <tr>\n",
       "      <th>min</th>\n",
       "      <td>1.087750e+08</td>\n",
       "      <td>NaN</td>\n",
       "      <td>NaN</td>\n",
       "    </tr>\n",
       "    <tr>\n",
       "      <th>25%</th>\n",
       "      <td>6.375150e+08</td>\n",
       "      <td>NaN</td>\n",
       "      <td>NaN</td>\n",
       "    </tr>\n",
       "    <tr>\n",
       "      <th>50%</th>\n",
       "      <td>7.154180e+08</td>\n",
       "      <td>NaN</td>\n",
       "      <td>NaN</td>\n",
       "    </tr>\n",
       "    <tr>\n",
       "      <th>75%</th>\n",
       "      <td>7.989720e+08</td>\n",
       "      <td>NaN</td>\n",
       "      <td>NaN</td>\n",
       "    </tr>\n",
       "    <tr>\n",
       "      <th>max</th>\n",
       "      <td>9.534500e+08</td>\n",
       "      <td>NaN</td>\n",
       "      <td>NaN</td>\n",
       "    </tr>\n",
       "  </tbody>\n",
       "</table>\n",
       "</div>"
      ],
      "text/plain": [
       "          article_id product_name  color\n",
       "count   5.362600e+04        53626  53626\n",
       "unique           NaN          118     50\n",
       "top              NaN        Dress  Black\n",
       "freq             NaN         6057  13758\n",
       "mean    7.088432e+08          NaN    NaN\n",
       "std     1.231297e+08          NaN    NaN\n",
       "min     1.087750e+08          NaN    NaN\n",
       "25%     6.375150e+08          NaN    NaN\n",
       "50%     7.154180e+08          NaN    NaN\n",
       "75%     7.989720e+08          NaN    NaN\n",
       "max     9.534500e+08          NaN    NaN"
      ]
     },
     "execution_count": 39,
     "metadata": {},
     "output_type": "execute_result"
    }
   ],
   "source": [
    "df_product.describe(include='all')"
   ]
  },
  {
   "cell_type": "markdown",
   "id": "897da6bf",
   "metadata": {},
   "source": [
    "<div class=\"alert alert-block alert-warning\">\n",
    "<b>Проверка на наличие дубликатов</b>\n",
    "</div>"
   ]
  },
  {
   "cell_type": "code",
   "execution_count": 40,
   "id": "60c105d3",
   "metadata": {},
   "outputs": [
    {
     "data": {
      "text/plain": [
       "0"
      ]
     },
     "execution_count": 40,
     "metadata": {},
     "output_type": "execute_result"
    }
   ],
   "source": [
    "df_product.duplicated().sum()"
   ]
  },
  {
   "cell_type": "markdown",
   "id": "7f0cba93",
   "metadata": {},
   "source": [
    "<div class=\"alert alert-block alert-warning\">\n",
    "<b>Дубликатов нет в наборе df_product</b>\n",
    "</div>"
   ]
  },
  {
   "cell_type": "markdown",
   "id": "a8e79cbf",
   "metadata": {},
   "source": [
    "<div class=\"alert alert-block alert-warning\">\n",
    "<b>Вывод уникальных значений категориальных признаков</b>\n",
    "</div>"
   ]
  },
  {
   "cell_type": "code",
   "execution_count": 41,
   "id": "adfb61dd",
   "metadata": {},
   "outputs": [
    {
     "data": {
      "text/plain": [
       "[['product_name, уник. значений: 118',\n",
       "  array(['Vest top', 'Bra', 'Underwear Tights', 'Leggings/Tights',\n",
       "         'Trousers', 'Hair clip', 'Umbrella', 'Sweater', 'Bodysuit',\n",
       "         'Hair string', 'Socks', 'Unknown', 'Top',\n",
       "         'Pyjama jumpsuit/playsuit', 'Hoodie', 'Hair/alice band', 'Belt',\n",
       "         'Bikini top', 'Underwear bottom', 'Swimsuit', 'Skirt',\n",
       "         'Hat/beanie', 'Kids Underwear top', 'Shorts', 'T-shirt',\n",
       "         'Cap/peaked', 'Pyjama set', 'Sneakers', 'Dress', 'Sunglasses',\n",
       "         'Cardigan', 'Gloves', 'Earring', 'Blazer', 'Swimwear bottom',\n",
       "         'Jacket', 'Shirt', 'Costumes', 'Robe', 'Scarf', 'Coat',\n",
       "         'Other accessories', 'Polo shirt', 'Slippers', 'Night gown',\n",
       "         'Alice band', 'Straw hat', 'Tailored Waistcoat', 'Ballerinas',\n",
       "         'Tie', 'Necklace', 'Pyjama bottom', 'Felt hat', 'Bag', 'Bracelet',\n",
       "         'Boots', 'Blouse', 'Watch', 'Beanie', 'Hat/brim', 'Dungarees',\n",
       "         'Other shoe', 'Swimwear set', 'Underwear body', 'Swimwear top',\n",
       "         'Flat shoe', 'Ring', 'Jumpsuit/Playsuit', 'Sandals', 'Wedge',\n",
       "         'Long John', 'Flip flop', 'Braces', 'Outdoor trousers',\n",
       "         'Fine cosmetics', 'Garment Set', 'Heeled sandals', 'Nipple covers',\n",
       "         'Hair ties', 'Bra extender', 'Pumps', 'Underdress',\n",
       "         'Outdoor Waistcoat', 'Underwear corset', 'Sarong', 'Wallet',\n",
       "         'Outdoor overall', 'Hairband', 'Soft Toys', 'Tote bag',\n",
       "         'Underwear set', 'Waterbottle', 'Bootie', 'Weekend/Gym bag',\n",
       "         'Sleeping sack', 'Giftbox', 'Backpack', 'Earrings', 'Bucket hat',\n",
       "         'Flat shoes', 'Leg warmers', 'Heels', 'Shoulder bag',\n",
       "         'Accessories set', 'Headband', 'Cap', 'Keychain', 'Dog Wear',\n",
       "         'Washing bag', 'Sewing kit', 'Side table', 'Cross-body bag',\n",
       "         'Zipper head', 'Mobile case', 'Marker pen',\n",
       "         'Wireless earphone case', 'Stain remover spray', 'Dog wear'],\n",
       "        dtype=object)],\n",
       " '----------',\n",
       " ['color, уник. значений: 50',\n",
       "  array(['Black', 'White', 'Light Beige', 'Light Grey', 'Grey', 'Dark Grey',\n",
       "         'Dark Blue', 'Greyish Beige', 'Light Orange', 'Gold', 'Silver',\n",
       "         'Beige', 'Dark Pink', 'Yellowish Brown', 'Light Pink',\n",
       "         'Dark Yellow', 'Other Pink', 'Dark Purple', 'Red', 'Yellow',\n",
       "         'Dark Red', 'Dark Green', 'Light Blue', 'Greenish Khaki',\n",
       "         'Dark Orange', 'Off White', 'Blue', 'Orange', 'Other Orange',\n",
       "         'Purple', 'Light Turquoise', 'Pink', 'Dark Beige', 'Green',\n",
       "         'Other', 'Transparent', 'Other Red', 'Light Yellow',\n",
       "         'Dark Turquoise', 'Light Purple', 'Light Green', 'Bronze/Copper',\n",
       "         'Other Purple', 'Turquoise', 'Other Green', 'Light Red',\n",
       "         'Other Yellow', 'Other Blue', 'Unknown', 'Other Turquoise'],\n",
       "        dtype=object)],\n",
       " '----------']"
      ]
     },
     "execution_count": 41,
     "metadata": {},
     "output_type": "execute_result"
    }
   ],
   "source": [
    "raw_list_product = []\n",
    "for col in df_product.columns:\n",
    "    if df_product[col].dtype == 'object':\n",
    "        raw_list_product.append([f'{col}, уник. значений: {df_product[col].nunique()}', df_product[col].unique()])\n",
    "        raw_list_product.append('----------')\n",
    "raw_list_product"
   ]
  },
  {
   "cell_type": "markdown",
   "id": "64c1f0d6",
   "metadata": {},
   "source": [
    "<div class=\"alert alert-block alert-success\">\n",
    "<b>Обнаружены уникальные значения Unknown. Значение Unknown в признаке product_name останется без изменений, а в признаке color будет заменено на также существующее значение Other</b>\n",
    "</div>"
   ]
  },
  {
   "cell_type": "code",
   "execution_count": 42,
   "id": "31d0bdad",
   "metadata": {
    "scrolled": false
   },
   "outputs": [
    {
     "data": {
      "text/plain": [
       "83"
      ]
     },
     "execution_count": 42,
     "metadata": {},
     "output_type": "execute_result"
    }
   ],
   "source": [
    "df_product['product_name'][df_product['product_name'] == 'Unknown'].count()"
   ]
  },
  {
   "cell_type": "code",
   "execution_count": 43,
   "id": "210036ee",
   "metadata": {
    "scrolled": false
   },
   "outputs": [
    {
     "data": {
      "text/plain": [
       "20"
      ]
     },
     "execution_count": 43,
     "metadata": {},
     "output_type": "execute_result"
    }
   ],
   "source": [
    "df_product.color[df_product.color == 'Unknown'].count()"
   ]
  },
  {
   "cell_type": "markdown",
   "id": "055a1cbd",
   "metadata": {},
   "source": [
    "<div class=\"alert alert-block alert-warning\">\n",
    "<b>Замена цвета изделия Unknown на другую категорию Other</b>\n",
    "</div>"
   ]
  },
  {
   "cell_type": "code",
   "execution_count": 44,
   "id": "0c84f0d6",
   "metadata": {
    "scrolled": true
   },
   "outputs": [],
   "source": [
    "df_product.color = df_product.color.replace({'Unknown': 'Other'})"
   ]
  },
  {
   "cell_type": "code",
   "execution_count": 45,
   "id": "c444abde",
   "metadata": {},
   "outputs": [
    {
     "data": {
      "text/plain": [
       "0"
      ]
     },
     "execution_count": 45,
     "metadata": {},
     "output_type": "execute_result"
    }
   ],
   "source": [
    "df_product.color[df_product.color == 'Unknown'].count()"
   ]
  },
  {
   "cell_type": "markdown",
   "id": "8310ee55",
   "metadata": {},
   "source": [
    "<div class=\"alert alert-block alert-success\">\n",
    "<b>Замена Unknown в признаке color произошла успешно</b>\n",
    "</div>"
   ]
  },
  {
   "cell_type": "markdown",
   "id": "7c101f39",
   "metadata": {},
   "source": [
    "## Выводы раздела 1"
   ]
  },
  {
   "cell_type": "markdown",
   "id": "d82b402c",
   "metadata": {},
   "source": [
    "$\\blacktriangleright$ Загружены данные из сторонных источников, преобразованы в табличный вид для дальнейшей работы"
   ]
  },
  {
   "cell_type": "markdown",
   "id": "0bfc7961",
   "metadata": {},
   "source": [
    "$\\blacktriangleright$ Произведена очистка данных"
   ]
  },
  {
   "cell_type": "markdown",
   "id": "554d5ab6",
   "metadata": {},
   "source": [
    "### ----------"
   ]
  },
  {
   "cell_type": "markdown",
   "id": "e58c59a5",
   "metadata": {},
   "source": [
    "## Раздел 2 - Разведочный анализ данных"
   ]
  },
  {
   "cell_type": "markdown",
   "id": "3f3d4e3d",
   "metadata": {},
   "source": [
    "* Шаг 4. Разведочный (исследовательский) анализ данных\n",
    "    1. Определить сколько товаров продавалось в разные месяцы, построить график плотности\n",
    "    1. Определить список товаров ТОП-10 с максимальной выручкой за все время, построить столбчатую диаграмму\n",
    "    1. Определить список популярных товаров ТОП-10 за все время, построить столбчатую диаграмму\n",
    "    1. Определить долю товаров, которые были проданы один раз, построить круговую диаграмму\n",
    "    1. Определить какая возрастная группа покупает больше товаров, группы формировать с шагом 10 лет, построить столбчатую диаграмму и график плотности распределения\n",
    "    1. Определить покупают ли больше товаров те, кто активно следит за новостями о моде, построить стобчатую диаграмму"
   ]
  },
  {
   "cell_type": "markdown",
   "id": "dedb6ffd",
   "metadata": {},
   "source": [
    "<div class=\"alert alert-block alert-warning\">\n",
    "<b>4.1 Определение количества товаров, проданных в каждый месяц, построение графика плотности</b>\n",
    "</div>"
   ]
  },
  {
   "cell_type": "markdown",
   "id": "df666182",
   "metadata": {},
   "source": [
    "<div class=\"alert alert-block alert-warning\">\n",
    "<b>Создание функции определения месяца с последующим применением к датасету и оценкой правильности выделения месяца</b>\n",
    "</div>"
   ]
  },
  {
   "cell_type": "code",
   "execution_count": 46,
   "id": "07e16e3d",
   "metadata": {},
   "outputs": [],
   "source": [
    "def to_month(line):\n",
    "    return line.month"
   ]
  },
  {
   "cell_type": "code",
   "execution_count": 47,
   "id": "3f94a42a",
   "metadata": {
    "scrolled": true
   },
   "outputs": [
    {
     "name": "stdout",
     "output_type": "stream",
     "text": [
      "<class 'pandas.core.frame.DataFrame'>\n",
      "Int64Index: 316614 entries, 0 to 317883\n",
      "Data columns (total 5 columns):\n",
      " #   Column       Non-Null Count   Dtype         \n",
      "---  ------       --------------   -----         \n",
      " 0   t_dat        316614 non-null  datetime64[ns]\n",
      " 1   article_id   316614 non-null  int64         \n",
      " 2   price        316614 non-null  float64       \n",
      " 3   customer_id  316614 non-null  int64         \n",
      " 4   month        316614 non-null  int64         \n",
      "dtypes: datetime64[ns](1), float64(1), int64(3)\n",
      "memory usage: 14.5 MB\n"
     ]
    }
   ],
   "source": [
    "df_transactions_cleaned['month'] = df_transactions_cleaned['t_dat'].apply(to_month,1)\n",
    "df_transactions_cleaned.info()"
   ]
  },
  {
   "cell_type": "code",
   "execution_count": 48,
   "id": "a0a51279",
   "metadata": {
    "scrolled": false
   },
   "outputs": [
    {
     "data": {
      "text/html": [
       "<div>\n",
       "<style scoped>\n",
       "    .dataframe tbody tr th:only-of-type {\n",
       "        vertical-align: middle;\n",
       "    }\n",
       "\n",
       "    .dataframe tbody tr th {\n",
       "        vertical-align: top;\n",
       "    }\n",
       "\n",
       "    .dataframe thead th {\n",
       "        text-align: right;\n",
       "    }\n",
       "</style>\n",
       "<table border=\"1\" class=\"dataframe\">\n",
       "  <thead>\n",
       "    <tr style=\"text-align: right;\">\n",
       "      <th></th>\n",
       "      <th>t_dat</th>\n",
       "      <th>article_id</th>\n",
       "      <th>price</th>\n",
       "      <th>customer_id</th>\n",
       "      <th>month</th>\n",
       "    </tr>\n",
       "  </thead>\n",
       "  <tbody>\n",
       "    <tr>\n",
       "      <th>0</th>\n",
       "      <td>2020-04-13</td>\n",
       "      <td>706016003</td>\n",
       "      <td>33.88</td>\n",
       "      <td>0</td>\n",
       "      <td>4</td>\n",
       "    </tr>\n",
       "    <tr>\n",
       "      <th>1</th>\n",
       "      <td>2018-09-21</td>\n",
       "      <td>493810014</td>\n",
       "      <td>19.05</td>\n",
       "      <td>1</td>\n",
       "      <td>9</td>\n",
       "    </tr>\n",
       "    <tr>\n",
       "      <th>2</th>\n",
       "      <td>2018-10-04</td>\n",
       "      <td>594541012</td>\n",
       "      <td>16.93</td>\n",
       "      <td>2</td>\n",
       "      <td>10</td>\n",
       "    </tr>\n",
       "    <tr>\n",
       "      <th>3</th>\n",
       "      <td>2018-12-11</td>\n",
       "      <td>719712001</td>\n",
       "      <td>36.00</td>\n",
       "      <td>3</td>\n",
       "      <td>12</td>\n",
       "    </tr>\n",
       "    <tr>\n",
       "      <th>4</th>\n",
       "      <td>2019-04-08</td>\n",
       "      <td>700737007</td>\n",
       "      <td>25.41</td>\n",
       "      <td>4</td>\n",
       "      <td>4</td>\n",
       "    </tr>\n",
       "    <tr>\n",
       "      <th>...</th>\n",
       "      <td>...</td>\n",
       "      <td>...</td>\n",
       "      <td>...</td>\n",
       "      <td>...</td>\n",
       "      <td>...</td>\n",
       "    </tr>\n",
       "    <tr>\n",
       "      <th>317879</th>\n",
       "      <td>2019-01-20</td>\n",
       "      <td>589924010</td>\n",
       "      <td>10.15</td>\n",
       "      <td>229802</td>\n",
       "      <td>1</td>\n",
       "    </tr>\n",
       "    <tr>\n",
       "      <th>317880</th>\n",
       "      <td>2019-04-30</td>\n",
       "      <td>706268029</td>\n",
       "      <td>3.39</td>\n",
       "      <td>205253</td>\n",
       "      <td>4</td>\n",
       "    </tr>\n",
       "    <tr>\n",
       "      <th>317881</th>\n",
       "      <td>2019-07-03</td>\n",
       "      <td>554792001</td>\n",
       "      <td>25.41</td>\n",
       "      <td>100940</td>\n",
       "      <td>7</td>\n",
       "    </tr>\n",
       "    <tr>\n",
       "      <th>317882</th>\n",
       "      <td>2020-02-20</td>\n",
       "      <td>243937028</td>\n",
       "      <td>16.93</td>\n",
       "      <td>162847</td>\n",
       "      <td>2</td>\n",
       "    </tr>\n",
       "    <tr>\n",
       "      <th>317883</th>\n",
       "      <td>2019-04-03</td>\n",
       "      <td>720506003</td>\n",
       "      <td>59.31</td>\n",
       "      <td>229803</td>\n",
       "      <td>4</td>\n",
       "    </tr>\n",
       "  </tbody>\n",
       "</table>\n",
       "<p>316614 rows × 5 columns</p>\n",
       "</div>"
      ],
      "text/plain": [
       "            t_dat  article_id  price  customer_id  month\n",
       "0      2020-04-13   706016003  33.88            0      4\n",
       "1      2018-09-21   493810014  19.05            1      9\n",
       "2      2018-10-04   594541012  16.93            2     10\n",
       "3      2018-12-11   719712001  36.00            3     12\n",
       "4      2019-04-08   700737007  25.41            4      4\n",
       "...           ...         ...    ...          ...    ...\n",
       "317879 2019-01-20   589924010  10.15       229802      1\n",
       "317880 2019-04-30   706268029   3.39       205253      4\n",
       "317881 2019-07-03   554792001  25.41       100940      7\n",
       "317882 2020-02-20   243937028  16.93       162847      2\n",
       "317883 2019-04-03   720506003  59.31       229803      4\n",
       "\n",
       "[316614 rows x 5 columns]"
      ]
     },
     "execution_count": 48,
     "metadata": {},
     "output_type": "execute_result"
    }
   ],
   "source": [
    "df_transactions_cleaned"
   ]
  },
  {
   "cell_type": "markdown",
   "id": "3a64e96e",
   "metadata": {},
   "source": [
    "<div class=\"alert alert-block alert-success\">\n",
    "<b>Выделение месяца из даты прошло успешно</b>\n",
    "</div>"
   ]
  },
  {
   "cell_type": "markdown",
   "id": "fcf30872",
   "metadata": {},
   "source": [
    "<div class=\"alert alert-block alert-warning\">\n",
    "<b>Подсчет количества проданных товаров в каждый месяц</b>\n",
    "</div>"
   ]
  },
  {
   "cell_type": "code",
   "execution_count": 49,
   "id": "6645c006",
   "metadata": {
    "scrolled": false
   },
   "outputs": [
    {
     "data": {
      "text/html": [
       "<div>\n",
       "<style scoped>\n",
       "    .dataframe tbody tr th:only-of-type {\n",
       "        vertical-align: middle;\n",
       "    }\n",
       "\n",
       "    .dataframe tbody tr th {\n",
       "        vertical-align: top;\n",
       "    }\n",
       "\n",
       "    .dataframe thead th {\n",
       "        text-align: right;\n",
       "    }\n",
       "</style>\n",
       "<table border=\"1\" class=\"dataframe\">\n",
       "  <thead>\n",
       "    <tr style=\"text-align: right;\">\n",
       "      <th></th>\n",
       "      <th>month</th>\n",
       "      <th>article_id</th>\n",
       "    </tr>\n",
       "  </thead>\n",
       "  <tbody>\n",
       "    <tr>\n",
       "      <th>0</th>\n",
       "      <td>1</td>\n",
       "      <td>23100</td>\n",
       "    </tr>\n",
       "    <tr>\n",
       "      <th>1</th>\n",
       "      <td>2</td>\n",
       "      <td>21623</td>\n",
       "    </tr>\n",
       "    <tr>\n",
       "      <th>2</th>\n",
       "      <td>3</td>\n",
       "      <td>23212</td>\n",
       "    </tr>\n",
       "    <tr>\n",
       "      <th>3</th>\n",
       "      <td>4</td>\n",
       "      <td>28170</td>\n",
       "    </tr>\n",
       "    <tr>\n",
       "      <th>4</th>\n",
       "      <td>5</td>\n",
       "      <td>29339</td>\n",
       "    </tr>\n",
       "    <tr>\n",
       "      <th>5</th>\n",
       "      <td>6</td>\n",
       "      <td>36818</td>\n",
       "    </tr>\n",
       "    <tr>\n",
       "      <th>6</th>\n",
       "      <td>7</td>\n",
       "      <td>31679</td>\n",
       "    </tr>\n",
       "    <tr>\n",
       "      <th>7</th>\n",
       "      <td>8</td>\n",
       "      <td>24771</td>\n",
       "    </tr>\n",
       "    <tr>\n",
       "      <th>8</th>\n",
       "      <td>9</td>\n",
       "      <td>25910</td>\n",
       "    </tr>\n",
       "    <tr>\n",
       "      <th>9</th>\n",
       "      <td>10</td>\n",
       "      <td>25192</td>\n",
       "    </tr>\n",
       "    <tr>\n",
       "      <th>10</th>\n",
       "      <td>11</td>\n",
       "      <td>24371</td>\n",
       "    </tr>\n",
       "    <tr>\n",
       "      <th>11</th>\n",
       "      <td>12</td>\n",
       "      <td>22429</td>\n",
       "    </tr>\n",
       "  </tbody>\n",
       "</table>\n",
       "</div>"
      ],
      "text/plain": [
       "    month  article_id\n",
       "0       1       23100\n",
       "1       2       21623\n",
       "2       3       23212\n",
       "3       4       28170\n",
       "4       5       29339\n",
       "5       6       36818\n",
       "6       7       31679\n",
       "7       8       24771\n",
       "8       9       25910\n",
       "9      10       25192\n",
       "10     11       24371\n",
       "11     12       22429"
      ]
     },
     "execution_count": 49,
     "metadata": {},
     "output_type": "execute_result"
    }
   ],
   "source": [
    "df_monthly_orders = df_transactions_cleaned.groupby(['month']).count()['article_id'].reset_index()\n",
    "df_monthly_orders"
   ]
  },
  {
   "cell_type": "markdown",
   "id": "b7945fd3",
   "metadata": {},
   "source": [
    "<div class=\"alert alert-block alert-warning\">\n",
    "<b>Построение графика плотности</b>\n",
    "</div>"
   ]
  },
  {
   "cell_type": "code",
   "execution_count": 50,
   "id": "be995216",
   "metadata": {
    "scrolled": false
   },
   "outputs": [
    {
     "name": "stderr",
     "output_type": "stream",
     "text": [
      "C:\\ProgramData\\Anaconda3\\lib\\site-packages\\seaborn\\distributions.py:2619: FutureWarning: `distplot` is a deprecated function and will be removed in a future version. Please adapt your code to use either `displot` (a figure-level function with similar flexibility) or `histplot` (an axes-level function for histograms).\n",
      "  warnings.warn(msg, FutureWarning)\n"
     ]
    },
    {
     "data": {
      "image/png": "[encoded data removed]",
      "text/plain": [
       "<Figure size 432x288 with 1 Axes>"
      ]
     },
     "metadata": {
      "needs_background": "light"
     },
     "output_type": "display_data"
    }
   ],
   "source": [
    "qnty_montly = sns.distplot(df_monthly_orders['article_id']);\n",
    "\n",
    "qnty_montly.set(xlabel = 'Value', ylabel = 'Frequency', title = \"Bought goods\")\n",
    "\n",
    "sns.despine()"
   ]
  },
  {
   "cell_type": "code",
   "execution_count": 51,
   "id": "368d4c4f",
   "metadata": {},
   "outputs": [
    {
     "data": {
      "image/png": "[encoded data removed]",
      "text/plain": [
       "<Figure size 432x288 with 1 Axes>"
      ]
     },
     "metadata": {
      "needs_background": "light"
     },
     "output_type": "display_data"
    }
   ],
   "source": [
    "df_monthly_orders['article_id'].plot(kind='density');"
   ]
  },
  {
   "cell_type": "markdown",
   "id": "d7e9f4f1",
   "metadata": {},
   "source": [
    "<div class=\"alert alert-block alert-success\">\n",
    "<b>Диаграмма плотности построена</b>\n",
    "</div>"
   ]
  },
  {
   "cell_type": "markdown",
   "id": "5605088b",
   "metadata": {},
   "source": [
    "<div class=\"alert alert-block alert-warning\">\n",
    "<b>4.2 Выделение ТОП-10 товаров с максимальной выручкой, построение столбчатой диаграммы</b>\n",
    "</div>"
   ]
  },
  {
   "cell_type": "code",
   "execution_count": 52,
   "id": "637b2a7e",
   "metadata": {},
   "outputs": [
    {
     "data": {
      "text/plain": [
       "53180"
      ]
     },
     "execution_count": 52,
     "metadata": {},
     "output_type": "execute_result"
    }
   ],
   "source": [
    "df_transactions_cleaned.article_id.nunique()"
   ]
  },
  {
   "cell_type": "code",
   "execution_count": 53,
   "id": "9c148560",
   "metadata": {
    "scrolled": true
   },
   "outputs": [
    {
     "data": {
      "text/plain": [
       "53626"
      ]
     },
     "execution_count": 53,
     "metadata": {},
     "output_type": "execute_result"
    }
   ],
   "source": [
    "df_product.article_id.nunique()"
   ]
  },
  {
   "cell_type": "code",
   "execution_count": 54,
   "id": "885a6f04",
   "metadata": {
    "scrolled": false
   },
   "outputs": [
    {
     "data": {
      "text/html": [
       "<div>\n",
       "<style scoped>\n",
       "    .dataframe tbody tr th:only-of-type {\n",
       "        vertical-align: middle;\n",
       "    }\n",
       "\n",
       "    .dataframe tbody tr th {\n",
       "        vertical-align: top;\n",
       "    }\n",
       "\n",
       "    .dataframe thead th {\n",
       "        text-align: right;\n",
       "    }\n",
       "</style>\n",
       "<table border=\"1\" class=\"dataframe\">\n",
       "  <thead>\n",
       "    <tr style=\"text-align: right;\">\n",
       "      <th></th>\n",
       "      <th>article_id</th>\n",
       "      <th>price</th>\n",
       "      <th>product_name</th>\n",
       "      <th>color</th>\n",
       "    </tr>\n",
       "  </thead>\n",
       "  <tbody>\n",
       "    <tr>\n",
       "      <th>0</th>\n",
       "      <td>706016001</td>\n",
       "      <td>16364.05</td>\n",
       "      <td>Trousers</td>\n",
       "      <td>Black</td>\n",
       "    </tr>\n",
       "    <tr>\n",
       "      <th>1</th>\n",
       "      <td>706016002</td>\n",
       "      <td>11309.68</td>\n",
       "      <td>Trousers</td>\n",
       "      <td>Light Blue</td>\n",
       "    </tr>\n",
       "    <tr>\n",
       "      <th>2</th>\n",
       "      <td>568601006</td>\n",
       "      <td>9659.58</td>\n",
       "      <td>Blazer</td>\n",
       "      <td>Black</td>\n",
       "    </tr>\n",
       "    <tr>\n",
       "      <th>3</th>\n",
       "      <td>448509014</td>\n",
       "      <td>7720.95</td>\n",
       "      <td>Trousers</td>\n",
       "      <td>Blue</td>\n",
       "    </tr>\n",
       "    <tr>\n",
       "      <th>4</th>\n",
       "      <td>706016003</td>\n",
       "      <td>7001.72</td>\n",
       "      <td>Trousers</td>\n",
       "      <td>Dark Blue</td>\n",
       "    </tr>\n",
       "    <tr>\n",
       "      <th>5</th>\n",
       "      <td>562245046</td>\n",
       "      <td>6886.59</td>\n",
       "      <td>Trousers</td>\n",
       "      <td>Black</td>\n",
       "    </tr>\n",
       "    <tr>\n",
       "      <th>6</th>\n",
       "      <td>399223001</td>\n",
       "      <td>6772.23</td>\n",
       "      <td>Trousers</td>\n",
       "      <td>Black</td>\n",
       "    </tr>\n",
       "    <tr>\n",
       "      <th>7</th>\n",
       "      <td>720125001</td>\n",
       "      <td>6312.63</td>\n",
       "      <td>Leggings/Tights</td>\n",
       "      <td>Black</td>\n",
       "    </tr>\n",
       "    <tr>\n",
       "      <th>8</th>\n",
       "      <td>562245001</td>\n",
       "      <td>5761.51</td>\n",
       "      <td>Trousers</td>\n",
       "      <td>Black</td>\n",
       "    </tr>\n",
       "    <tr>\n",
       "      <th>9</th>\n",
       "      <td>751471001</td>\n",
       "      <td>5630.73</td>\n",
       "      <td>Trousers</td>\n",
       "      <td>Black</td>\n",
       "    </tr>\n",
       "  </tbody>\n",
       "</table>\n",
       "</div>"
      ],
      "text/plain": [
       "   article_id     price     product_name       color\n",
       "0   706016001  16364.05         Trousers       Black\n",
       "1   706016002  11309.68         Trousers  Light Blue\n",
       "2   568601006   9659.58           Blazer       Black\n",
       "3   448509014   7720.95         Trousers        Blue\n",
       "4   706016003   7001.72         Trousers   Dark Blue\n",
       "5   562245046   6886.59         Trousers       Black\n",
       "6   399223001   6772.23         Trousers       Black\n",
       "7   720125001   6312.63  Leggings/Tights       Black\n",
       "8   562245001   5761.51         Trousers       Black\n",
       "9   751471001   5630.73         Trousers       Black"
      ]
     },
     "execution_count": 54,
     "metadata": {},
     "output_type": "execute_result"
    }
   ],
   "source": [
    "TOP_products_price = df_transactions_cleaned.groupby(['article_id']).sum()['price'].reset_index().sort_values(['price'], ascending= False)\n",
    "TOP_products_price_with_names = TOP_products_price.merge(right= df_product, right_on='article_id', left_on= 'article_id')\n",
    "TOP_products_price_with_names[:10]"
   ]
  },
  {
   "cell_type": "markdown",
   "id": "66b09a2e",
   "metadata": {},
   "source": [
    "<div class=\"alert alert-block alert-warning\">\n",
    "<b>Построение столбчатой диаграммы</b>\n",
    "</div>"
   ]
  },
  {
   "cell_type": "code",
   "execution_count": 55,
   "id": "3f6559e8",
   "metadata": {
    "scrolled": true
   },
   "outputs": [
    {
     "data": {
      "text/plain": [
       "Text(0, 0.5, 'price')"
      ]
     },
     "execution_count": 55,
     "metadata": {},
     "output_type": "execute_result"
    },
    {
     "data": {
      "image/png": "[encoded data removed]",
      "text/plain": [
       "<Figure size 288x216 with 1 Axes>"
      ]
     },
     "metadata": {
      "needs_background": "light"
     },
     "output_type": "display_data"
    }
   ],
   "source": [
    "fig = plt.figure(figsize=(4, 3))\n",
    "ax = fig.gca()\n",
    "TOP_products_price_with_names[:10].plot.bar(x= 'article_id', ax = ax, color='steelblue')\n",
    "ax.set_ylabel('price')"
   ]
  },
  {
   "cell_type": "markdown",
   "id": "aa5335c3",
   "metadata": {},
   "source": [
    "<div class=\"alert alert-block alert-success\">\n",
    "<b>8 из 10 наименований товаров с максимальной выручкой - штаны</b>\n",
    "</div>"
   ]
  },
  {
   "cell_type": "markdown",
   "id": "38351116",
   "metadata": {},
   "source": [
    "<div class=\"alert alert-block alert-warning\">\n",
    "<b>4.3 Определение списка ТОП-10 популярных товаров за все время, построение столбчатой диаграммы</b>\n",
    "</div>"
   ]
  },
  {
   "cell_type": "code",
   "execution_count": 56,
   "id": "23beda4b",
   "metadata": {},
   "outputs": [
    {
     "data": {
      "text/html": [
       "<div>\n",
       "<style scoped>\n",
       "    .dataframe tbody tr th:only-of-type {\n",
       "        vertical-align: middle;\n",
       "    }\n",
       "\n",
       "    .dataframe tbody tr th {\n",
       "        vertical-align: top;\n",
       "    }\n",
       "\n",
       "    .dataframe thead th {\n",
       "        text-align: right;\n",
       "    }\n",
       "</style>\n",
       "<table border=\"1\" class=\"dataframe\">\n",
       "  <thead>\n",
       "    <tr style=\"text-align: right;\">\n",
       "      <th></th>\n",
       "      <th>article_id</th>\n",
       "      <th>amount</th>\n",
       "      <th>product_name</th>\n",
       "      <th>color</th>\n",
       "    </tr>\n",
       "  </thead>\n",
       "  <tbody>\n",
       "    <tr>\n",
       "      <th>0</th>\n",
       "      <td>706016001</td>\n",
       "      <td>506</td>\n",
       "      <td>Trousers</td>\n",
       "      <td>Black</td>\n",
       "    </tr>\n",
       "    <tr>\n",
       "      <th>1</th>\n",
       "      <td>706016002</td>\n",
       "      <td>348</td>\n",
       "      <td>Trousers</td>\n",
       "      <td>Light Blue</td>\n",
       "    </tr>\n",
       "    <tr>\n",
       "      <th>2</th>\n",
       "      <td>372860001</td>\n",
       "      <td>295</td>\n",
       "      <td>Socks</td>\n",
       "      <td>Black</td>\n",
       "    </tr>\n",
       "    <tr>\n",
       "      <th>3</th>\n",
       "      <td>610776002</td>\n",
       "      <td>275</td>\n",
       "      <td>T-shirt</td>\n",
       "      <td>Black</td>\n",
       "    </tr>\n",
       "    <tr>\n",
       "      <th>4</th>\n",
       "      <td>759871002</td>\n",
       "      <td>275</td>\n",
       "      <td>Vest top</td>\n",
       "      <td>Black</td>\n",
       "    </tr>\n",
       "    <tr>\n",
       "      <th>5</th>\n",
       "      <td>464297007</td>\n",
       "      <td>273</td>\n",
       "      <td>Underwear bottom</td>\n",
       "      <td>Black</td>\n",
       "    </tr>\n",
       "    <tr>\n",
       "      <th>6</th>\n",
       "      <td>372860002</td>\n",
       "      <td>255</td>\n",
       "      <td>Socks</td>\n",
       "      <td>White</td>\n",
       "    </tr>\n",
       "    <tr>\n",
       "      <th>7</th>\n",
       "      <td>156231001</td>\n",
       "      <td>244</td>\n",
       "      <td>Underwear Tights</td>\n",
       "      <td>Black</td>\n",
       "    </tr>\n",
       "    <tr>\n",
       "      <th>8</th>\n",
       "      <td>399256001</td>\n",
       "      <td>221</td>\n",
       "      <td>Trousers</td>\n",
       "      <td>Black</td>\n",
       "    </tr>\n",
       "    <tr>\n",
       "      <th>9</th>\n",
       "      <td>562245046</td>\n",
       "      <td>220</td>\n",
       "      <td>Trousers</td>\n",
       "      <td>Black</td>\n",
       "    </tr>\n",
       "  </tbody>\n",
       "</table>\n",
       "</div>"
      ],
      "text/plain": [
       "   article_id  amount      product_name       color\n",
       "0   706016001     506          Trousers       Black\n",
       "1   706016002     348          Trousers  Light Blue\n",
       "2   372860001     295             Socks       Black\n",
       "3   610776002     275           T-shirt       Black\n",
       "4   759871002     275          Vest top       Black\n",
       "5   464297007     273  Underwear bottom       Black\n",
       "6   372860002     255             Socks       White\n",
       "7   156231001     244  Underwear Tights       Black\n",
       "8   399256001     221          Trousers       Black\n",
       "9   562245046     220          Trousers       Black"
      ]
     },
     "execution_count": 56,
     "metadata": {},
     "output_type": "execute_result"
    }
   ],
   "source": [
    "TOP_products_amount = df_transactions_cleaned.groupby(['article_id']).count()['price'].reset_index().sort_values(['price'], ascending= False)\n",
    "TOP_products_amount_with_names = TOP_products_amount.merge(right= df_product, right_on='article_id', left_on= 'article_id')\n",
    "TOP_products_amount_with_names.rename(columns= {'price': 'amount'}, inplace= True)\n",
    "TOP_products_amount_with_names[:10]"
   ]
  },
  {
   "cell_type": "code",
   "execution_count": 57,
   "id": "94243f0f",
   "metadata": {},
   "outputs": [
    {
     "data": {
      "image/png": "[encoded data removed]",
      "text/plain": [
       "<Figure size 288x216 with 1 Axes>"
      ]
     },
     "metadata": {
      "needs_background": "light"
     },
     "output_type": "display_data"
    }
   ],
   "source": [
    "fig = plt.figure(figsize=(4, 3))\n",
    "ax = fig.gca()\n",
    "TOP_products_amount_with_names[:10].plot.bar(x= 'article_id', ax = ax, color='steelblue')\n",
    "ax.set_ylabel('amount');"
   ]
  },
  {
   "cell_type": "markdown",
   "id": "874c5806",
   "metadata": {},
   "source": [
    "<div class=\"alert alert-block alert-warning\">\n",
    "Сравнение полученных данных ТОП-10 по выручке и ТОП-10 по количеству\n",
    "</div>"
   ]
  },
  {
   "cell_type": "code",
   "execution_count": 58,
   "id": "79baccc3",
   "metadata": {
    "scrolled": false
   },
   "outputs": [
    {
     "data": {
      "text/plain": [
       "0     True\n",
       "1     True\n",
       "2    False\n",
       "3    False\n",
       "4    False\n",
       "5    False\n",
       "6    False\n",
       "7    False\n",
       "8    False\n",
       "9    False\n",
       "Name: article_id, dtype: bool"
      ]
     },
     "execution_count": 58,
     "metadata": {},
     "output_type": "execute_result"
    }
   ],
   "source": [
    "TOP_products_price_with_names[:10]['article_id'] == TOP_products_amount_with_names[:10]['article_id']"
   ]
  },
  {
   "cell_type": "markdown",
   "id": "7ca284fd",
   "metadata": {},
   "source": [
    "<div class=\"alert alert-block alert-success\">\n",
    "Первые две позиции совпали. Это значит, что самые популярные товары также дают самую высокую выручку\n",
    "</div>"
   ]
  },
  {
   "cell_type": "markdown",
   "id": "863954d2",
   "metadata": {},
   "source": [
    "<div class=\"alert alert-block alert-warning\">\n",
    "<b>4.4 Определение доли товаров, которые были проданы один раз, построение круговой диаграммы</b>\n",
    "</div>"
   ]
  },
  {
   "cell_type": "code",
   "execution_count": 59,
   "id": "826de081",
   "metadata": {
    "scrolled": false
   },
   "outputs": [
    {
     "data": {
      "text/html": [
       "<div>\n",
       "<style scoped>\n",
       "    .dataframe tbody tr th:only-of-type {\n",
       "        vertical-align: middle;\n",
       "    }\n",
       "\n",
       "    .dataframe tbody tr th {\n",
       "        vertical-align: top;\n",
       "    }\n",
       "\n",
       "    .dataframe thead th {\n",
       "        text-align: right;\n",
       "    }\n",
       "</style>\n",
       "<table border=\"1\" class=\"dataframe\">\n",
       "  <thead>\n",
       "    <tr style=\"text-align: right;\">\n",
       "      <th></th>\n",
       "      <th>article_id</th>\n",
       "      <th>amount</th>\n",
       "      <th>product_name</th>\n",
       "      <th>color</th>\n",
       "    </tr>\n",
       "  </thead>\n",
       "  <tbody>\n",
       "    <tr>\n",
       "      <th>36885</th>\n",
       "      <td>857357002.0</td>\n",
       "      <td>1.0</td>\n",
       "      <td>Necklace</td>\n",
       "      <td>Gold</td>\n",
       "    </tr>\n",
       "    <tr>\n",
       "      <th>36886</th>\n",
       "      <td>594394002.0</td>\n",
       "      <td>1.0</td>\n",
       "      <td>Top</td>\n",
       "      <td>Dark Blue</td>\n",
       "    </tr>\n",
       "    <tr>\n",
       "      <th>36887</th>\n",
       "      <td>619229001.0</td>\n",
       "      <td>1.0</td>\n",
       "      <td>Slippers</td>\n",
       "      <td>Grey</td>\n",
       "    </tr>\n",
       "    <tr>\n",
       "      <th>36888</th>\n",
       "      <td>594541047.0</td>\n",
       "      <td>1.0</td>\n",
       "      <td>Trousers</td>\n",
       "      <td>Grey</td>\n",
       "    </tr>\n",
       "    <tr>\n",
       "      <th>36889</th>\n",
       "      <td>594542008.0</td>\n",
       "      <td>1.0</td>\n",
       "      <td>Hoodie</td>\n",
       "      <td>Dark Green</td>\n",
       "    </tr>\n",
       "    <tr>\n",
       "      <th>...</th>\n",
       "      <td>...</td>\n",
       "      <td>...</td>\n",
       "      <td>...</td>\n",
       "      <td>...</td>\n",
       "    </tr>\n",
       "    <tr>\n",
       "      <th>53175</th>\n",
       "      <td>799660001.0</td>\n",
       "      <td>1.0</td>\n",
       "      <td>Hat/beanie</td>\n",
       "      <td>Red</td>\n",
       "    </tr>\n",
       "    <tr>\n",
       "      <th>53176</th>\n",
       "      <td>670316002.0</td>\n",
       "      <td>1.0</td>\n",
       "      <td>Necklace</td>\n",
       "      <td>Silver</td>\n",
       "    </tr>\n",
       "    <tr>\n",
       "      <th>53177</th>\n",
       "      <td>799681001.0</td>\n",
       "      <td>1.0</td>\n",
       "      <td>Earring</td>\n",
       "      <td>Gold</td>\n",
       "    </tr>\n",
       "    <tr>\n",
       "      <th>53178</th>\n",
       "      <td>799683001.0</td>\n",
       "      <td>1.0</td>\n",
       "      <td>Ring</td>\n",
       "      <td>Gold</td>\n",
       "    </tr>\n",
       "    <tr>\n",
       "      <th>53179</th>\n",
       "      <td>953450001.0</td>\n",
       "      <td>1.0</td>\n",
       "      <td>Socks</td>\n",
       "      <td>Black</td>\n",
       "    </tr>\n",
       "  </tbody>\n",
       "</table>\n",
       "<p>16295 rows × 4 columns</p>\n",
       "</div>"
      ],
      "text/plain": [
       "        article_id  amount product_name       color\n",
       "36885  857357002.0     1.0     Necklace        Gold\n",
       "36886  594394002.0     1.0          Top   Dark Blue\n",
       "36887  619229001.0     1.0     Slippers        Grey\n",
       "36888  594541047.0     1.0     Trousers        Grey\n",
       "36889  594542008.0     1.0       Hoodie  Dark Green\n",
       "...            ...     ...          ...         ...\n",
       "53175  799660001.0     1.0   Hat/beanie         Red\n",
       "53176  670316002.0     1.0     Necklace      Silver\n",
       "53177  799681001.0     1.0      Earring        Gold\n",
       "53178  799683001.0     1.0         Ring        Gold\n",
       "53179  953450001.0     1.0        Socks       Black\n",
       "\n",
       "[16295 rows x 4 columns]"
      ]
     },
     "execution_count": 59,
     "metadata": {},
     "output_type": "execute_result"
    }
   ],
   "source": [
    "once_products = TOP_products_amount_with_names.where(TOP_products_amount_with_names.amount == 1).dropna()\n",
    "once_products"
   ]
  },
  {
   "cell_type": "code",
   "execution_count": 60,
   "id": "0a7ddfe2",
   "metadata": {},
   "outputs": [
    {
     "data": {
      "image/png": "[encoded data removed]",
      "text/plain": [
       "<Figure size 432x288 with 1 Axes>"
      ]
     },
     "metadata": {},
     "output_type": "display_data"
    }
   ],
   "source": [
    "piece_of_pie1 = once_products['article_id'].count()\n",
    "piece_of_pie2 = TOP_products_amount_with_names['article_id'].count()\n",
    "full_pie = [piece_of_pie1, piece_of_pie2]\n",
    "label = ['once sold','more than once sold']\n",
    "plt.pie(full_pie, autopct='%.1f%%', labels=label, explode = (0.15,0))\n",
    "plt.show()"
   ]
  },
  {
   "cell_type": "markdown",
   "id": "f6dba79d",
   "metadata": {},
   "source": [
    "<div class=\"alert alert-block alert-success\">\n",
    "<b>23,5% товаров проданы всего однажды</b>\n",
    "</div>"
   ]
  },
  {
   "cell_type": "markdown",
   "id": "8693be41",
   "metadata": {},
   "source": [
    "<div class=\"alert alert-block alert-warning\">\n",
    "<b>4.5 Определение возрастной группы, покупающей больше товаров. Формирование групп с шагом 10 лет. Построение столбчатой диаграммы и графика плотности распределения</b>\n",
    "</div>"
   ]
  },
  {
   "cell_type": "code",
   "execution_count": 61,
   "id": "0903c8a1",
   "metadata": {
    "scrolled": false
   },
   "outputs": [
    {
     "data": {
      "text/html": [
       "<div>\n",
       "<style scoped>\n",
       "    .dataframe tbody tr th:only-of-type {\n",
       "        vertical-align: middle;\n",
       "    }\n",
       "\n",
       "    .dataframe tbody tr th {\n",
       "        vertical-align: top;\n",
       "    }\n",
       "\n",
       "    .dataframe thead th {\n",
       "        text-align: right;\n",
       "    }\n",
       "</style>\n",
       "<table border=\"1\" class=\"dataframe\">\n",
       "  <thead>\n",
       "    <tr style=\"text-align: right;\">\n",
       "      <th></th>\n",
       "      <th>t_dat</th>\n",
       "      <th>article_id</th>\n",
       "      <th>price</th>\n",
       "      <th>customer_id</th>\n",
       "      <th>month</th>\n",
       "      <th>club_member</th>\n",
       "      <th>fashion_news</th>\n",
       "      <th>age</th>\n",
       "    </tr>\n",
       "  </thead>\n",
       "  <tbody>\n",
       "    <tr>\n",
       "      <th>0</th>\n",
       "      <td>2018-09-21</td>\n",
       "      <td>493810014</td>\n",
       "      <td>19.05</td>\n",
       "      <td>1</td>\n",
       "      <td>9</td>\n",
       "      <td>ACTIVE</td>\n",
       "      <td>Regularly</td>\n",
       "      <td>24.0</td>\n",
       "    </tr>\n",
       "    <tr>\n",
       "      <th>1</th>\n",
       "      <td>2018-10-04</td>\n",
       "      <td>594541012</td>\n",
       "      <td>16.93</td>\n",
       "      <td>2</td>\n",
       "      <td>10</td>\n",
       "      <td>ACTIVE</td>\n",
       "      <td>Monthly</td>\n",
       "      <td>45.0</td>\n",
       "    </tr>\n",
       "    <tr>\n",
       "      <th>2</th>\n",
       "      <td>2018-12-11</td>\n",
       "      <td>719712001</td>\n",
       "      <td>36.00</td>\n",
       "      <td>3</td>\n",
       "      <td>12</td>\n",
       "      <td>ACTIVE</td>\n",
       "      <td>NONE</td>\n",
       "      <td>48.0</td>\n",
       "    </tr>\n",
       "    <tr>\n",
       "      <th>3</th>\n",
       "      <td>2019-04-08</td>\n",
       "      <td>700737007</td>\n",
       "      <td>25.41</td>\n",
       "      <td>4</td>\n",
       "      <td>4</td>\n",
       "      <td>ACTIVE</td>\n",
       "      <td>Regularly</td>\n",
       "      <td>23.0</td>\n",
       "    </tr>\n",
       "    <tr>\n",
       "      <th>4</th>\n",
       "      <td>2020-07-23</td>\n",
       "      <td>864513001</td>\n",
       "      <td>22.02</td>\n",
       "      <td>4</td>\n",
       "      <td>7</td>\n",
       "      <td>ACTIVE</td>\n",
       "      <td>Regularly</td>\n",
       "      <td>23.0</td>\n",
       "    </tr>\n",
       "    <tr>\n",
       "      <th>...</th>\n",
       "      <td>...</td>\n",
       "      <td>...</td>\n",
       "      <td>...</td>\n",
       "      <td>...</td>\n",
       "      <td>...</td>\n",
       "      <td>...</td>\n",
       "      <td>...</td>\n",
       "      <td>...</td>\n",
       "    </tr>\n",
       "    <tr>\n",
       "      <th>313451</th>\n",
       "      <td>2018-09-27</td>\n",
       "      <td>636323001</td>\n",
       "      <td>16.93</td>\n",
       "      <td>229799</td>\n",
       "      <td>9</td>\n",
       "      <td>ACTIVE</td>\n",
       "      <td>NONE</td>\n",
       "      <td>27.0</td>\n",
       "    </tr>\n",
       "    <tr>\n",
       "      <th>313452</th>\n",
       "      <td>2018-11-23</td>\n",
       "      <td>657795001</td>\n",
       "      <td>40.66</td>\n",
       "      <td>229800</td>\n",
       "      <td>11</td>\n",
       "      <td>ACTIVE</td>\n",
       "      <td>NONE</td>\n",
       "      <td>48.0</td>\n",
       "    </tr>\n",
       "    <tr>\n",
       "      <th>313453</th>\n",
       "      <td>2019-07-10</td>\n",
       "      <td>636323001</td>\n",
       "      <td>16.93</td>\n",
       "      <td>229801</td>\n",
       "      <td>7</td>\n",
       "      <td>ACTIVE</td>\n",
       "      <td>Regularly</td>\n",
       "      <td>23.0</td>\n",
       "    </tr>\n",
       "    <tr>\n",
       "      <th>313454</th>\n",
       "      <td>2019-01-20</td>\n",
       "      <td>589924010</td>\n",
       "      <td>10.15</td>\n",
       "      <td>229802</td>\n",
       "      <td>1</td>\n",
       "      <td>ACTIVE</td>\n",
       "      <td>Regularly</td>\n",
       "      <td>21.0</td>\n",
       "    </tr>\n",
       "    <tr>\n",
       "      <th>313455</th>\n",
       "      <td>2019-04-03</td>\n",
       "      <td>720506003</td>\n",
       "      <td>59.31</td>\n",
       "      <td>229803</td>\n",
       "      <td>4</td>\n",
       "      <td>ACTIVE</td>\n",
       "      <td>NONE</td>\n",
       "      <td>68.0</td>\n",
       "    </tr>\n",
       "  </tbody>\n",
       "</table>\n",
       "<p>313456 rows × 8 columns</p>\n",
       "</div>"
      ],
      "text/plain": [
       "            t_dat  article_id  price  customer_id  month club_member  \\\n",
       "0      2018-09-21   493810014  19.05            1      9      ACTIVE   \n",
       "1      2018-10-04   594541012  16.93            2     10      ACTIVE   \n",
       "2      2018-12-11   719712001  36.00            3     12      ACTIVE   \n",
       "3      2019-04-08   700737007  25.41            4      4      ACTIVE   \n",
       "4      2020-07-23   864513001  22.02            4      7      ACTIVE   \n",
       "...           ...         ...    ...          ...    ...         ...   \n",
       "313451 2018-09-27   636323001  16.93       229799      9      ACTIVE   \n",
       "313452 2018-11-23   657795001  40.66       229800     11      ACTIVE   \n",
       "313453 2019-07-10   636323001  16.93       229801      7      ACTIVE   \n",
       "313454 2019-01-20   589924010  10.15       229802      1      ACTIVE   \n",
       "313455 2019-04-03   720506003  59.31       229803      4      ACTIVE   \n",
       "\n",
       "       fashion_news   age  \n",
       "0         Regularly  24.0  \n",
       "1           Monthly  45.0  \n",
       "2              NONE  48.0  \n",
       "3         Regularly  23.0  \n",
       "4         Regularly  23.0  \n",
       "...             ...   ...  \n",
       "313451         NONE  27.0  \n",
       "313452         NONE  48.0  \n",
       "313453    Regularly  23.0  \n",
       "313454    Regularly  21.0  \n",
       "313455         NONE  68.0  \n",
       "\n",
       "[313456 rows x 8 columns]"
      ]
     },
     "execution_count": 61,
     "metadata": {},
     "output_type": "execute_result"
    }
   ],
   "source": [
    "df_age_group = df_transactions_cleaned.merge(right= df_customers_cleaned, right_on= 'customer_id', left_on= 'customer_id')\n",
    "df_age_group"
   ]
  },
  {
   "cell_type": "code",
   "execution_count": 62,
   "id": "007accb7",
   "metadata": {},
   "outputs": [],
   "source": [
    "df_age_group['age_group'] = pd.cut(df_age_group['age'], bins=[x for x in range(10,100,10)], labels=['20-','21-30','31-40','41-50','51-60','61-70','71-80','81+'])"
   ]
  },
  {
   "cell_type": "markdown",
   "id": "7a920da7",
   "metadata": {},
   "source": [
    "<div class=\"alert alert-block alert-warning\">\n",
    "<b>Проверка правильности распределения возрастных групп</b>\n",
    "</div>"
   ]
  },
  {
   "cell_type": "code",
   "execution_count": 63,
   "id": "50755cce",
   "metadata": {},
   "outputs": [
    {
     "data": {
      "text/html": [
       "<div>\n",
       "<style scoped>\n",
       "    .dataframe tbody tr th:only-of-type {\n",
       "        vertical-align: middle;\n",
       "    }\n",
       "\n",
       "    .dataframe tbody tr th {\n",
       "        vertical-align: top;\n",
       "    }\n",
       "\n",
       "    .dataframe thead th {\n",
       "        text-align: right;\n",
       "    }\n",
       "</style>\n",
       "<table border=\"1\" class=\"dataframe\">\n",
       "  <thead>\n",
       "    <tr style=\"text-align: right;\">\n",
       "      <th></th>\n",
       "      <th>t_dat</th>\n",
       "      <th>article_id</th>\n",
       "      <th>price</th>\n",
       "      <th>customer_id</th>\n",
       "      <th>month</th>\n",
       "      <th>club_member</th>\n",
       "      <th>fashion_news</th>\n",
       "      <th>age</th>\n",
       "      <th>age_group</th>\n",
       "    </tr>\n",
       "  </thead>\n",
       "  <tbody>\n",
       "    <tr>\n",
       "      <th>15</th>\n",
       "      <td>2020-09-03</td>\n",
       "      <td>875094002</td>\n",
       "      <td>19.44</td>\n",
       "      <td>12</td>\n",
       "      <td>9</td>\n",
       "      <td>ACTIVE</td>\n",
       "      <td>NONE</td>\n",
       "      <td>19.0</td>\n",
       "      <td>20-</td>\n",
       "    </tr>\n",
       "    <tr>\n",
       "      <th>67</th>\n",
       "      <td>2019-02-01</td>\n",
       "      <td>616088013</td>\n",
       "      <td>6.76</td>\n",
       "      <td>39</td>\n",
       "      <td>2</td>\n",
       "      <td>ACTIVE</td>\n",
       "      <td>Regularly</td>\n",
       "      <td>19.0</td>\n",
       "      <td>20-</td>\n",
       "    </tr>\n",
       "    <tr>\n",
       "      <th>103</th>\n",
       "      <td>2020-07-24</td>\n",
       "      <td>832453002</td>\n",
       "      <td>16.93</td>\n",
       "      <td>59</td>\n",
       "      <td>7</td>\n",
       "      <td>ACTIVE</td>\n",
       "      <td>NONE</td>\n",
       "      <td>19.0</td>\n",
       "      <td>20-</td>\n",
       "    </tr>\n",
       "    <tr>\n",
       "      <th>161</th>\n",
       "      <td>2019-09-05</td>\n",
       "      <td>677930066</td>\n",
       "      <td>16.93</td>\n",
       "      <td>87</td>\n",
       "      <td>9</td>\n",
       "      <td>ACTIVE</td>\n",
       "      <td>Regularly</td>\n",
       "      <td>19.0</td>\n",
       "      <td>20-</td>\n",
       "    </tr>\n",
       "    <tr>\n",
       "      <th>204</th>\n",
       "      <td>2019-07-22</td>\n",
       "      <td>325087002</td>\n",
       "      <td>13.54</td>\n",
       "      <td>112</td>\n",
       "      <td>7</td>\n",
       "      <td>ACTIVE</td>\n",
       "      <td>Regularly</td>\n",
       "      <td>19.0</td>\n",
       "      <td>20-</td>\n",
       "    </tr>\n",
       "    <tr>\n",
       "      <th>...</th>\n",
       "      <td>...</td>\n",
       "      <td>...</td>\n",
       "      <td>...</td>\n",
       "      <td>...</td>\n",
       "      <td>...</td>\n",
       "      <td>...</td>\n",
       "      <td>...</td>\n",
       "      <td>...</td>\n",
       "      <td>...</td>\n",
       "    </tr>\n",
       "    <tr>\n",
       "      <th>313343</th>\n",
       "      <td>2019-10-21</td>\n",
       "      <td>761221008</td>\n",
       "      <td>42.36</td>\n",
       "      <td>229688</td>\n",
       "      <td>10</td>\n",
       "      <td>ACTIVE</td>\n",
       "      <td>Regularly</td>\n",
       "      <td>19.0</td>\n",
       "      <td>20-</td>\n",
       "    </tr>\n",
       "    <tr>\n",
       "      <th>313344</th>\n",
       "      <td>2020-06-10</td>\n",
       "      <td>832036005</td>\n",
       "      <td>16.93</td>\n",
       "      <td>229689</td>\n",
       "      <td>6</td>\n",
       "      <td>ACTIVE</td>\n",
       "      <td>NONE</td>\n",
       "      <td>19.0</td>\n",
       "      <td>20-</td>\n",
       "    </tr>\n",
       "    <tr>\n",
       "      <th>313395</th>\n",
       "      <td>2020-04-24</td>\n",
       "      <td>714790021</td>\n",
       "      <td>50.83</td>\n",
       "      <td>229742</td>\n",
       "      <td>4</td>\n",
       "      <td>ACTIVE</td>\n",
       "      <td>NONE</td>\n",
       "      <td>19.0</td>\n",
       "      <td>20-</td>\n",
       "    </tr>\n",
       "    <tr>\n",
       "      <th>313426</th>\n",
       "      <td>2020-06-04</td>\n",
       "      <td>804811001</td>\n",
       "      <td>42.36</td>\n",
       "      <td>229773</td>\n",
       "      <td>6</td>\n",
       "      <td>ACTIVE</td>\n",
       "      <td>Regularly</td>\n",
       "      <td>19.0</td>\n",
       "      <td>20-</td>\n",
       "    </tr>\n",
       "    <tr>\n",
       "      <th>313431</th>\n",
       "      <td>2019-02-08</td>\n",
       "      <td>732222003</td>\n",
       "      <td>33.88</td>\n",
       "      <td>229778</td>\n",
       "      <td>2</td>\n",
       "      <td>ACTIVE</td>\n",
       "      <td>NONE</td>\n",
       "      <td>19.0</td>\n",
       "      <td>20-</td>\n",
       "    </tr>\n",
       "  </tbody>\n",
       "</table>\n",
       "<p>4265 rows × 9 columns</p>\n",
       "</div>"
      ],
      "text/plain": [
       "            t_dat  article_id  price  customer_id  month club_member  \\\n",
       "15     2020-09-03   875094002  19.44           12      9      ACTIVE   \n",
       "67     2019-02-01   616088013   6.76           39      2      ACTIVE   \n",
       "103    2020-07-24   832453002  16.93           59      7      ACTIVE   \n",
       "161    2019-09-05   677930066  16.93           87      9      ACTIVE   \n",
       "204    2019-07-22   325087002  13.54          112      7      ACTIVE   \n",
       "...           ...         ...    ...          ...    ...         ...   \n",
       "313343 2019-10-21   761221008  42.36       229688     10      ACTIVE   \n",
       "313344 2020-06-10   832036005  16.93       229689      6      ACTIVE   \n",
       "313395 2020-04-24   714790021  50.83       229742      4      ACTIVE   \n",
       "313426 2020-06-04   804811001  42.36       229773      6      ACTIVE   \n",
       "313431 2019-02-08   732222003  33.88       229778      2      ACTIVE   \n",
       "\n",
       "       fashion_news   age age_group  \n",
       "15             NONE  19.0       20-  \n",
       "67        Regularly  19.0       20-  \n",
       "103            NONE  19.0       20-  \n",
       "161       Regularly  19.0       20-  \n",
       "204       Regularly  19.0       20-  \n",
       "...             ...   ...       ...  \n",
       "313343    Regularly  19.0       20-  \n",
       "313344         NONE  19.0       20-  \n",
       "313395         NONE  19.0       20-  \n",
       "313426    Regularly  19.0       20-  \n",
       "313431         NONE  19.0       20-  \n",
       "\n",
       "[4265 rows x 9 columns]"
      ]
     },
     "execution_count": 63,
     "metadata": {},
     "output_type": "execute_result"
    }
   ],
   "source": [
    "df_age_group[df_age_group['age'] == 19]"
   ]
  },
  {
   "cell_type": "markdown",
   "id": "712e1280",
   "metadata": {},
   "source": [
    "<div class=\"alert alert-block alert-success\">\n",
    "<b>Возрастные группы присвоены верно, границы групп включены в эти же группы</b>\n",
    "</div>"
   ]
  },
  {
   "cell_type": "markdown",
   "id": "cbcdd9dd",
   "metadata": {},
   "source": [
    "<div class=\"alert alert-block alert-warning\">\n",
    "<b>Подсчет купленных товаров каждой возрастной категорией</b>\n",
    "</div>"
   ]
  },
  {
   "cell_type": "code",
   "execution_count": 64,
   "id": "e264efdd",
   "metadata": {
    "scrolled": true
   },
   "outputs": [
    {
     "data": {
      "text/html": [
       "<div>\n",
       "<style scoped>\n",
       "    .dataframe tbody tr th:only-of-type {\n",
       "        vertical-align: middle;\n",
       "    }\n",
       "\n",
       "    .dataframe tbody tr th {\n",
       "        vertical-align: top;\n",
       "    }\n",
       "\n",
       "    .dataframe thead th {\n",
       "        text-align: right;\n",
       "    }\n",
       "</style>\n",
       "<table border=\"1\" class=\"dataframe\">\n",
       "  <thead>\n",
       "    <tr style=\"text-align: right;\">\n",
       "      <th></th>\n",
       "      <th>age_group</th>\n",
       "      <th>amount</th>\n",
       "    </tr>\n",
       "  </thead>\n",
       "  <tbody>\n",
       "    <tr>\n",
       "      <th>1</th>\n",
       "      <td>21-30</td>\n",
       "      <td>133246</td>\n",
       "    </tr>\n",
       "    <tr>\n",
       "      <th>2</th>\n",
       "      <td>31-40</td>\n",
       "      <td>55966</td>\n",
       "    </tr>\n",
       "    <tr>\n",
       "      <th>3</th>\n",
       "      <td>41-50</td>\n",
       "      <td>51797</td>\n",
       "    </tr>\n",
       "    <tr>\n",
       "      <th>4</th>\n",
       "      <td>51-60</td>\n",
       "      <td>46241</td>\n",
       "    </tr>\n",
       "    <tr>\n",
       "      <th>0</th>\n",
       "      <td>20-</td>\n",
       "      <td>14516</td>\n",
       "    </tr>\n",
       "    <tr>\n",
       "      <th>5</th>\n",
       "      <td>61-70</td>\n",
       "      <td>9961</td>\n",
       "    </tr>\n",
       "    <tr>\n",
       "      <th>6</th>\n",
       "      <td>71-80</td>\n",
       "      <td>1680</td>\n",
       "    </tr>\n",
       "    <tr>\n",
       "      <th>7</th>\n",
       "      <td>81+</td>\n",
       "      <td>49</td>\n",
       "    </tr>\n",
       "  </tbody>\n",
       "</table>\n",
       "</div>"
      ],
      "text/plain": [
       "  age_group  amount\n",
       "1     21-30  133246\n",
       "2     31-40   55966\n",
       "3     41-50   51797\n",
       "4     51-60   46241\n",
       "0       20-   14516\n",
       "5     61-70    9961\n",
       "6     71-80    1680\n",
       "7       81+      49"
      ]
     },
     "execution_count": 64,
     "metadata": {},
     "output_type": "execute_result"
    }
   ],
   "source": [
    "TOP_age_group_amount = df_age_group.groupby(['age_group']).count()['price'].reset_index().sort_values(['price'], ascending= False)\n",
    "TOP_age_group_amount.rename(columns= {'price': 'amount'}, inplace= True)\n",
    "TOP_age_group_amount[:10]"
   ]
  },
  {
   "cell_type": "code",
   "execution_count": 65,
   "id": "20cdef36",
   "metadata": {},
   "outputs": [
    {
     "data": {
      "image/png": "[encoded data removed]",
      "text/plain": [
       "<Figure size 288x216 with 1 Axes>"
      ]
     },
     "metadata": {
      "needs_background": "light"
     },
     "output_type": "display_data"
    }
   ],
   "source": [
    "fig = plt.figure(figsize=(4, 3))\n",
    "ax = fig.gca()\n",
    "TOP_age_group_amount[:10].plot.bar(x= 'age_group', ax = ax, color='steelblue')\n",
    "ax.set_ylabel('amount');"
   ]
  },
  {
   "cell_type": "code",
   "execution_count": 66,
   "id": "64163202",
   "metadata": {
    "scrolled": true
   },
   "outputs": [
    {
     "data": {
      "image/png": "[encoded data removed]",
      "text/plain": [
       "<Figure size 432x288 with 1 Axes>"
      ]
     },
     "metadata": {
      "needs_background": "light"
     },
     "output_type": "display_data"
    }
   ],
   "source": [
    "TOP_age_group_amount[:10]['amount'].plot(kind='density');"
   ]
  },
  {
   "cell_type": "markdown",
   "id": "23b398fc",
   "metadata": {},
   "source": [
    "<div class=\"alert alert-block alert-success\">\n",
    "<b>Больше всего товаров покупает возрастная группа от 21 до 30 лет включительно</b>\n",
    "</div>"
   ]
  },
  {
   "cell_type": "markdown",
   "id": "21734a79",
   "metadata": {},
   "source": [
    "<div class=\"alert alert-block alert-warning\">\n",
    "<b>4.6 Определение зависимости покупки товаров от активности слежения за новостями о моде, построение стобчатой диаграммы</b>\n",
    "</div>"
   ]
  },
  {
   "cell_type": "code",
   "execution_count": 67,
   "id": "58a31e47",
   "metadata": {},
   "outputs": [
    {
     "data": {
      "text/html": [
       "<div>\n",
       "<style scoped>\n",
       "    .dataframe tbody tr th:only-of-type {\n",
       "        vertical-align: middle;\n",
       "    }\n",
       "\n",
       "    .dataframe tbody tr th {\n",
       "        vertical-align: top;\n",
       "    }\n",
       "\n",
       "    .dataframe thead th {\n",
       "        text-align: right;\n",
       "    }\n",
       "</style>\n",
       "<table border=\"1\" class=\"dataframe\">\n",
       "  <thead>\n",
       "    <tr style=\"text-align: right;\">\n",
       "      <th></th>\n",
       "      <th>fashion_news</th>\n",
       "      <th>amount</th>\n",
       "    </tr>\n",
       "  </thead>\n",
       "  <tbody>\n",
       "    <tr>\n",
       "      <th>1</th>\n",
       "      <td>NONE</td>\n",
       "      <td>178786</td>\n",
       "    </tr>\n",
       "    <tr>\n",
       "      <th>2</th>\n",
       "      <td>Regularly</td>\n",
       "      <td>134571</td>\n",
       "    </tr>\n",
       "    <tr>\n",
       "      <th>0</th>\n",
       "      <td>Monthly</td>\n",
       "      <td>99</td>\n",
       "    </tr>\n",
       "  </tbody>\n",
       "</table>\n",
       "</div>"
      ],
      "text/plain": [
       "  fashion_news  amount\n",
       "1         NONE  178786\n",
       "2    Regularly  134571\n",
       "0      Monthly      99"
      ]
     },
     "execution_count": 67,
     "metadata": {},
     "output_type": "execute_result"
    }
   ],
   "source": [
    "TOP_fashion_amount = df_age_group.groupby(['fashion_news']).count()['price'].reset_index().sort_values(['price'], ascending= False)\n",
    "TOP_fashion_amount.rename(columns= {'price': 'amount'}, inplace= True)\n",
    "TOP_fashion_amount[:10]"
   ]
  },
  {
   "cell_type": "code",
   "execution_count": 68,
   "id": "7d6b63df",
   "metadata": {},
   "outputs": [
    {
     "data": {
      "image/png": "[encoded data removed]",
      "text/plain": [
       "<Figure size 288x216 with 1 Axes>"
      ]
     },
     "metadata": {
      "needs_background": "light"
     },
     "output_type": "display_data"
    }
   ],
   "source": [
    "fig = plt.figure(figsize=(4, 3))\n",
    "ax = fig.gca()\n",
    "TOP_fashion_amount[:10].plot.bar(x= 'fashion_news', ax = ax, color='steelblue')\n",
    "ax.set_ylabel('amount');"
   ]
  },
  {
   "cell_type": "markdown",
   "id": "9cd496c6",
   "metadata": {},
   "source": [
    "<div class=\"alert alert-block alert-success\">\n",
    "<b>Те, кто активно следит за новостями моды, покупают товаров меньше тех, кто ими не интересуется вовсе</b>\n",
    "</div>"
   ]
  },
  {
   "cell_type": "markdown",
   "id": "fb07cbca",
   "metadata": {},
   "source": [
    "## Выводы раздела 2"
   ]
  },
  {
   "cell_type": "markdown",
   "id": "c5c388e1",
   "metadata": {},
   "source": [
    "$\\blacktriangleright$ Произведен разведочный анализ данных"
   ]
  },
  {
   "cell_type": "markdown",
   "id": "bf05a50c",
   "metadata": {},
   "source": [
    "$\\blacktriangleright$ Определено количество проданных товаров по месяцам"
   ]
  },
  {
   "cell_type": "markdown",
   "id": "85639e9b",
   "metadata": {},
   "source": [
    "$\\blacktriangleright$ Выявлены товары с максимально выручкой за все время"
   ]
  },
  {
   "cell_type": "markdown",
   "id": "90fcea93",
   "metadata": {},
   "source": [
    "$\\blacktriangleright$ Определены самые популярные товары по количеству за все время"
   ]
  },
  {
   "cell_type": "markdown",
   "id": "d6352e35",
   "metadata": {},
   "source": [
    "$\\blacktriangleright$ Определена доля товаров, купленных всего однажды"
   ]
  },
  {
   "cell_type": "markdown",
   "id": "6060b62b",
   "metadata": {},
   "source": [
    "$\\blacktriangleright$ Определена возрастная категория, купившая больше всего товаров"
   ]
  },
  {
   "cell_type": "markdown",
   "id": "762e0520",
   "metadata": {},
   "source": [
    "$\\blacktriangleright$ Проверено наличие зависимости количества купленных товаров от слежения за новостями моды. Данная зависимость не прослеживается"
   ]
  },
  {
   "cell_type": "markdown",
   "id": "6bc195a2",
   "metadata": {},
   "source": [
    "### ----------"
   ]
  },
  {
   "cell_type": "markdown",
   "id": "ced354f4",
   "metadata": {},
   "source": [
    "## Раздел 3 - Определение взаимосвязей признаков"
   ]
  },
  {
   "cell_type": "markdown",
   "id": "ed37a0f2",
   "metadata": {},
   "source": [
    "* Шаг 5. Анализ взаимосвязи признаков\n",
    "    1. Проверить гипотезу о данных - влияет ли статус членства клуба на количество купленных товаров, найти p-value, сформулировать вывод\n",
    "* Шаг 6. Кластеризация по покупателям\n",
    "    1. Сформировать датасет с признаками *покупатель, количество купленных товаров, возраст, итоговая потраченная сумма, членство в клубе, частота просмотра новостей*\n",
    "    1. Найти оптимальное количество кластеров по покупателям\n",
    "    1. Построить модель кластеризации данных\n",
    "    1. Визуализировать кластеры с помощью диаграммы рассеивания, выбрать подходящие признаки для диаграммы"
   ]
  },
  {
   "cell_type": "markdown",
   "id": "8bdfc852",
   "metadata": {},
   "source": [
    "<div class=\"alert alert-block alert-warning\">\n",
    "<b>5.1 Анализ влияния членства в клубе на количество купленных товаров</b>\n",
    "</div>"
   ]
  },
  {
   "cell_type": "markdown",
   "id": "62a9e37b",
   "metadata": {},
   "source": [
    "<div class=\"alert alert-block alert-warning\">\n",
    "<b>Формирование датасета для анализа: добавление нужных признаков, объединение таблиц</b>\n",
    "</div>"
   ]
  },
  {
   "cell_type": "code",
   "execution_count": 69,
   "id": "f32ad325",
   "metadata": {
    "scrolled": false
   },
   "outputs": [
    {
     "data": {
      "text/html": [
       "<div>\n",
       "<style scoped>\n",
       "    .dataframe tbody tr th:only-of-type {\n",
       "        vertical-align: middle;\n",
       "    }\n",
       "\n",
       "    .dataframe tbody tr th {\n",
       "        vertical-align: top;\n",
       "    }\n",
       "\n",
       "    .dataframe thead th {\n",
       "        text-align: right;\n",
       "    }\n",
       "</style>\n",
       "<table border=\"1\" class=\"dataframe\">\n",
       "  <thead>\n",
       "    <tr style=\"text-align: right;\">\n",
       "      <th></th>\n",
       "      <th>customer_id</th>\n",
       "      <th>amount</th>\n",
       "    </tr>\n",
       "  </thead>\n",
       "  <tbody>\n",
       "    <tr>\n",
       "      <th>0</th>\n",
       "      <td>0</td>\n",
       "      <td>2</td>\n",
       "    </tr>\n",
       "    <tr>\n",
       "      <th>1</th>\n",
       "      <td>1</td>\n",
       "      <td>1</td>\n",
       "    </tr>\n",
       "    <tr>\n",
       "      <th>2</th>\n",
       "      <td>2</td>\n",
       "      <td>1</td>\n",
       "    </tr>\n",
       "    <tr>\n",
       "      <th>3</th>\n",
       "      <td>3</td>\n",
       "      <td>1</td>\n",
       "    </tr>\n",
       "    <tr>\n",
       "      <th>4</th>\n",
       "      <td>4</td>\n",
       "      <td>2</td>\n",
       "    </tr>\n",
       "    <tr>\n",
       "      <th>...</th>\n",
       "      <td>...</td>\n",
       "      <td>...</td>\n",
       "    </tr>\n",
       "    <tr>\n",
       "      <th>229156</th>\n",
       "      <td>229799</td>\n",
       "      <td>1</td>\n",
       "    </tr>\n",
       "    <tr>\n",
       "      <th>229157</th>\n",
       "      <td>229800</td>\n",
       "      <td>1</td>\n",
       "    </tr>\n",
       "    <tr>\n",
       "      <th>229158</th>\n",
       "      <td>229801</td>\n",
       "      <td>1</td>\n",
       "    </tr>\n",
       "    <tr>\n",
       "      <th>229159</th>\n",
       "      <td>229802</td>\n",
       "      <td>1</td>\n",
       "    </tr>\n",
       "    <tr>\n",
       "      <th>229160</th>\n",
       "      <td>229803</td>\n",
       "      <td>1</td>\n",
       "    </tr>\n",
       "  </tbody>\n",
       "</table>\n",
       "<p>229161 rows × 2 columns</p>\n",
       "</div>"
      ],
      "text/plain": [
       "        customer_id  amount\n",
       "0                 0       2\n",
       "1                 1       1\n",
       "2                 2       1\n",
       "3                 3       1\n",
       "4                 4       2\n",
       "...             ...     ...\n",
       "229156       229799       1\n",
       "229157       229800       1\n",
       "229158       229801       1\n",
       "229159       229802       1\n",
       "229160       229803       1\n",
       "\n",
       "[229161 rows x 2 columns]"
      ]
     },
     "execution_count": 69,
     "metadata": {},
     "output_type": "execute_result"
    }
   ],
   "source": [
    "temp_df = df_transactions_cleaned.groupby(['customer_id']).count()['price'].reset_index()\n",
    "temp_df.rename(columns= {'price': 'amount'}, inplace= True)\n",
    "temp_df"
   ]
  },
  {
   "cell_type": "code",
   "execution_count": 70,
   "id": "e61aad37",
   "metadata": {
    "scrolled": false
   },
   "outputs": [
    {
     "data": {
      "text/html": [
       "<div>\n",
       "<style scoped>\n",
       "    .dataframe tbody tr th:only-of-type {\n",
       "        vertical-align: middle;\n",
       "    }\n",
       "\n",
       "    .dataframe tbody tr th {\n",
       "        vertical-align: top;\n",
       "    }\n",
       "\n",
       "    .dataframe thead th {\n",
       "        text-align: right;\n",
       "    }\n",
       "</style>\n",
       "<table border=\"1\" class=\"dataframe\">\n",
       "  <thead>\n",
       "    <tr style=\"text-align: right;\">\n",
       "      <th></th>\n",
       "      <th>club_member</th>\n",
       "      <th>fashion_news</th>\n",
       "      <th>age</th>\n",
       "      <th>customer_id</th>\n",
       "      <th>amount</th>\n",
       "    </tr>\n",
       "  </thead>\n",
       "  <tbody>\n",
       "    <tr>\n",
       "      <th>147368</th>\n",
       "      <td>ACTIVE</td>\n",
       "      <td>Regularly</td>\n",
       "      <td>61.0</td>\n",
       "      <td>23883</td>\n",
       "      <td>20</td>\n",
       "    </tr>\n",
       "    <tr>\n",
       "      <th>16901</th>\n",
       "      <td>ACTIVE</td>\n",
       "      <td>Regularly</td>\n",
       "      <td>54.0</td>\n",
       "      <td>7232</td>\n",
       "      <td>19</td>\n",
       "    </tr>\n",
       "    <tr>\n",
       "      <th>168377</th>\n",
       "      <td>ACTIVE</td>\n",
       "      <td>NONE</td>\n",
       "      <td>31.0</td>\n",
       "      <td>2458</td>\n",
       "      <td>19</td>\n",
       "    </tr>\n",
       "    <tr>\n",
       "      <th>205046</th>\n",
       "      <td>ACTIVE</td>\n",
       "      <td>NONE</td>\n",
       "      <td>46.0</td>\n",
       "      <td>34469</td>\n",
       "      <td>16</td>\n",
       "    </tr>\n",
       "    <tr>\n",
       "      <th>181610</th>\n",
       "      <td>ACTIVE</td>\n",
       "      <td>Regularly</td>\n",
       "      <td>68.0</td>\n",
       "      <td>52416</td>\n",
       "      <td>16</td>\n",
       "    </tr>\n",
       "    <tr>\n",
       "      <th>...</th>\n",
       "      <td>...</td>\n",
       "      <td>...</td>\n",
       "      <td>...</td>\n",
       "      <td>...</td>\n",
       "      <td>...</td>\n",
       "    </tr>\n",
       "    <tr>\n",
       "      <th>86595</th>\n",
       "      <td>ACTIVE</td>\n",
       "      <td>NONE</td>\n",
       "      <td>24.0</td>\n",
       "      <td>22516</td>\n",
       "      <td>1</td>\n",
       "    </tr>\n",
       "    <tr>\n",
       "      <th>86597</th>\n",
       "      <td>ACTIVE</td>\n",
       "      <td>Regularly</td>\n",
       "      <td>47.0</td>\n",
       "      <td>69254</td>\n",
       "      <td>1</td>\n",
       "    </tr>\n",
       "    <tr>\n",
       "      <th>86598</th>\n",
       "      <td>ACTIVE</td>\n",
       "      <td>Regularly</td>\n",
       "      <td>21.0</td>\n",
       "      <td>203547</td>\n",
       "      <td>1</td>\n",
       "    </tr>\n",
       "    <tr>\n",
       "      <th>86599</th>\n",
       "      <td>ACTIVE</td>\n",
       "      <td>NONE</td>\n",
       "      <td>63.0</td>\n",
       "      <td>113592</td>\n",
       "      <td>1</td>\n",
       "    </tr>\n",
       "    <tr>\n",
       "      <th>226481</th>\n",
       "      <td>ACTIVE</td>\n",
       "      <td>NONE</td>\n",
       "      <td>21.0</td>\n",
       "      <td>210647</td>\n",
       "      <td>1</td>\n",
       "    </tr>\n",
       "  </tbody>\n",
       "</table>\n",
       "<p>226482 rows × 5 columns</p>\n",
       "</div>"
      ],
      "text/plain": [
       "       club_member fashion_news   age  customer_id  amount\n",
       "147368      ACTIVE    Regularly  61.0        23883      20\n",
       "16901       ACTIVE    Regularly  54.0         7232      19\n",
       "168377      ACTIVE         NONE  31.0         2458      19\n",
       "205046      ACTIVE         NONE  46.0        34469      16\n",
       "181610      ACTIVE    Regularly  68.0        52416      16\n",
       "...            ...          ...   ...          ...     ...\n",
       "86595       ACTIVE         NONE  24.0        22516       1\n",
       "86597       ACTIVE    Regularly  47.0        69254       1\n",
       "86598       ACTIVE    Regularly  21.0       203547       1\n",
       "86599       ACTIVE         NONE  63.0       113592       1\n",
       "226481      ACTIVE         NONE  21.0       210647       1\n",
       "\n",
       "[226482 rows x 5 columns]"
      ]
     },
     "execution_count": 70,
     "metadata": {},
     "output_type": "execute_result"
    }
   ],
   "source": [
    "df_membership_qnty = df_customers_cleaned.merge(right= temp_df, right_on= 'customer_id', left_on= 'customer_id')\n",
    "df_membership_qnty.sort_values('amount', ascending= False)"
   ]
  },
  {
   "cell_type": "code",
   "execution_count": 71,
   "id": "bd77432f",
   "metadata": {},
   "outputs": [
    {
     "data": {
      "text/html": [
       "<div>\n",
       "<style scoped>\n",
       "    .dataframe tbody tr th:only-of-type {\n",
       "        vertical-align: middle;\n",
       "    }\n",
       "\n",
       "    .dataframe tbody tr th {\n",
       "        vertical-align: top;\n",
       "    }\n",
       "\n",
       "    .dataframe thead th {\n",
       "        text-align: right;\n",
       "    }\n",
       "</style>\n",
       "<table border=\"1\" class=\"dataframe\">\n",
       "  <thead>\n",
       "    <tr style=\"text-align: right;\">\n",
       "      <th></th>\n",
       "      <th>club_member</th>\n",
       "      <th>fashion_news</th>\n",
       "      <th>age</th>\n",
       "      <th>customer_id</th>\n",
       "      <th>amount</th>\n",
       "    </tr>\n",
       "  </thead>\n",
       "  <tbody>\n",
       "    <tr>\n",
       "      <th>147368</th>\n",
       "      <td>2</td>\n",
       "      <td>Regularly</td>\n",
       "      <td>61.0</td>\n",
       "      <td>23883</td>\n",
       "      <td>20</td>\n",
       "    </tr>\n",
       "    <tr>\n",
       "      <th>16901</th>\n",
       "      <td>2</td>\n",
       "      <td>Regularly</td>\n",
       "      <td>54.0</td>\n",
       "      <td>7232</td>\n",
       "      <td>19</td>\n",
       "    </tr>\n",
       "    <tr>\n",
       "      <th>168377</th>\n",
       "      <td>2</td>\n",
       "      <td>NONE</td>\n",
       "      <td>31.0</td>\n",
       "      <td>2458</td>\n",
       "      <td>19</td>\n",
       "    </tr>\n",
       "    <tr>\n",
       "      <th>205046</th>\n",
       "      <td>2</td>\n",
       "      <td>NONE</td>\n",
       "      <td>46.0</td>\n",
       "      <td>34469</td>\n",
       "      <td>16</td>\n",
       "    </tr>\n",
       "    <tr>\n",
       "      <th>181610</th>\n",
       "      <td>2</td>\n",
       "      <td>Regularly</td>\n",
       "      <td>68.0</td>\n",
       "      <td>52416</td>\n",
       "      <td>16</td>\n",
       "    </tr>\n",
       "    <tr>\n",
       "      <th>...</th>\n",
       "      <td>...</td>\n",
       "      <td>...</td>\n",
       "      <td>...</td>\n",
       "      <td>...</td>\n",
       "      <td>...</td>\n",
       "    </tr>\n",
       "    <tr>\n",
       "      <th>86595</th>\n",
       "      <td>2</td>\n",
       "      <td>NONE</td>\n",
       "      <td>24.0</td>\n",
       "      <td>22516</td>\n",
       "      <td>1</td>\n",
       "    </tr>\n",
       "    <tr>\n",
       "      <th>86597</th>\n",
       "      <td>2</td>\n",
       "      <td>Regularly</td>\n",
       "      <td>47.0</td>\n",
       "      <td>69254</td>\n",
       "      <td>1</td>\n",
       "    </tr>\n",
       "    <tr>\n",
       "      <th>86598</th>\n",
       "      <td>2</td>\n",
       "      <td>Regularly</td>\n",
       "      <td>21.0</td>\n",
       "      <td>203547</td>\n",
       "      <td>1</td>\n",
       "    </tr>\n",
       "    <tr>\n",
       "      <th>86599</th>\n",
       "      <td>2</td>\n",
       "      <td>NONE</td>\n",
       "      <td>63.0</td>\n",
       "      <td>113592</td>\n",
       "      <td>1</td>\n",
       "    </tr>\n",
       "    <tr>\n",
       "      <th>226481</th>\n",
       "      <td>2</td>\n",
       "      <td>NONE</td>\n",
       "      <td>21.0</td>\n",
       "      <td>210647</td>\n",
       "      <td>1</td>\n",
       "    </tr>\n",
       "  </tbody>\n",
       "</table>\n",
       "<p>226482 rows × 5 columns</p>\n",
       "</div>"
      ],
      "text/plain": [
       "        club_member fashion_news   age  customer_id  amount\n",
       "147368            2    Regularly  61.0        23883      20\n",
       "16901             2    Regularly  54.0         7232      19\n",
       "168377            2         NONE  31.0         2458      19\n",
       "205046            2         NONE  46.0        34469      16\n",
       "181610            2    Regularly  68.0        52416      16\n",
       "...             ...          ...   ...          ...     ...\n",
       "86595             2         NONE  24.0        22516       1\n",
       "86597             2    Regularly  47.0        69254       1\n",
       "86598             2    Regularly  21.0       203547       1\n",
       "86599             2         NONE  63.0       113592       1\n",
       "226481            2         NONE  21.0       210647       1\n",
       "\n",
       "[226482 rows x 5 columns]"
      ]
     },
     "execution_count": 71,
     "metadata": {},
     "output_type": "execute_result"
    }
   ],
   "source": [
    "df_membership_qnty['club_member'] = df_membership_qnty['club_member'].replace({'ACTIVE':2, 'PRE-CREATE':1, 'LEFT CLUB':0})\n",
    "df_membership_qnty.sort_values('amount', ascending= False)"
   ]
  },
  {
   "cell_type": "markdown",
   "id": "0dec0a92",
   "metadata": {},
   "source": [
    "<div class=\"alert alert-block alert-success\">\n",
    "<b>Датасет для анализа сформирован успешно</b>\n",
    "</div>"
   ]
  },
  {
   "cell_type": "markdown",
   "id": "f187d340",
   "metadata": {},
   "source": [
    "<div class=\"alert alert-block alert-warning\">\n",
    "<b>Выдвижение нулевой гипотезы: признаки club_member (членство в клубе) и amount (количество купленных товаров) статистически независимы</b>\n",
    "</div>"
   ]
  },
  {
   "cell_type": "markdown",
   "id": "d9470e76",
   "metadata": {},
   "source": [
    "<div class=\"alert alert-block alert-warning\">\n",
    "<b>Импорт библиотеки для нахождения p-значения связи между категориальным признаком членства в клубе и количественным признаком количества купленных товаров</b>\n",
    "</div>"
   ]
  },
  {
   "cell_type": "code",
   "execution_count": 72,
   "id": "b61a9fbe",
   "metadata": {
    "scrolled": true
   },
   "outputs": [
    {
     "data": {
      "text/plain": [
       "PointbiserialrResult(correlation=0.05147910712270094, pvalue=1.0198545924687084e-132)"
      ]
     },
     "execution_count": 72,
     "metadata": {},
     "output_type": "execute_result"
    }
   ],
   "source": [
    "from scipy.stats import pointbiserialr\n",
    "pointbiserialr(df_membership_qnty['club_member'], df_membership_qnty['amount'])"
   ]
  },
  {
   "cell_type": "markdown",
   "id": "75a07c9c",
   "metadata": {},
   "source": [
    "<div class=\"alert alert-block alert-success\">\n",
    "<b>Значение p стремиться к нулю, что позволяет отвергнуть нулевую гипотезу о независимости переменных. Можно говорить о зависимости количества купленных товаров от членства в клубе</b>\n",
    "</div>"
   ]
  },
  {
   "cell_type": "markdown",
   "id": "d82a1ac8",
   "metadata": {},
   "source": [
    "<div class=\"alert alert-block alert-warning\">\n",
    "<b>6 Кластеризация по покупателям</b>\n",
    "</div>"
   ]
  },
  {
   "cell_type": "markdown",
   "id": "51b46a2c",
   "metadata": {},
   "source": [
    "<div class=\"alert alert-block alert-warning\">\n",
    "<b>6.1 Формирование датасета с признаками покупатель, количество купленных товаров, возраст, итоговая потраченная сумма, членство в клубе, частота просмотра новостей</b>\n",
    "</div>"
   ]
  },
  {
   "cell_type": "code",
   "execution_count": 73,
   "id": "a0979d02",
   "metadata": {},
   "outputs": [
    {
     "data": {
      "text/html": [
       "<div>\n",
       "<style scoped>\n",
       "    .dataframe tbody tr th:only-of-type {\n",
       "        vertical-align: middle;\n",
       "    }\n",
       "\n",
       "    .dataframe tbody tr th {\n",
       "        vertical-align: top;\n",
       "    }\n",
       "\n",
       "    .dataframe thead th {\n",
       "        text-align: right;\n",
       "    }\n",
       "</style>\n",
       "<table border=\"1\" class=\"dataframe\">\n",
       "  <thead>\n",
       "    <tr style=\"text-align: right;\">\n",
       "      <th></th>\n",
       "      <th>customer_id</th>\n",
       "      <th>paid_sum</th>\n",
       "    </tr>\n",
       "  </thead>\n",
       "  <tbody>\n",
       "    <tr>\n",
       "      <th>0</th>\n",
       "      <td>0</td>\n",
       "      <td>50.81</td>\n",
       "    </tr>\n",
       "    <tr>\n",
       "      <th>1</th>\n",
       "      <td>1</td>\n",
       "      <td>19.05</td>\n",
       "    </tr>\n",
       "    <tr>\n",
       "      <th>2</th>\n",
       "      <td>2</td>\n",
       "      <td>16.93</td>\n",
       "    </tr>\n",
       "    <tr>\n",
       "      <th>3</th>\n",
       "      <td>3</td>\n",
       "      <td>36.00</td>\n",
       "    </tr>\n",
       "    <tr>\n",
       "      <th>4</th>\n",
       "      <td>4</td>\n",
       "      <td>47.43</td>\n",
       "    </tr>\n",
       "    <tr>\n",
       "      <th>...</th>\n",
       "      <td>...</td>\n",
       "      <td>...</td>\n",
       "    </tr>\n",
       "    <tr>\n",
       "      <th>229156</th>\n",
       "      <td>229799</td>\n",
       "      <td>16.93</td>\n",
       "    </tr>\n",
       "    <tr>\n",
       "      <th>229157</th>\n",
       "      <td>229800</td>\n",
       "      <td>40.66</td>\n",
       "    </tr>\n",
       "    <tr>\n",
       "      <th>229158</th>\n",
       "      <td>229801</td>\n",
       "      <td>16.93</td>\n",
       "    </tr>\n",
       "    <tr>\n",
       "      <th>229159</th>\n",
       "      <td>229802</td>\n",
       "      <td>10.15</td>\n",
       "    </tr>\n",
       "    <tr>\n",
       "      <th>229160</th>\n",
       "      <td>229803</td>\n",
       "      <td>59.31</td>\n",
       "    </tr>\n",
       "  </tbody>\n",
       "</table>\n",
       "<p>229161 rows × 2 columns</p>\n",
       "</div>"
      ],
      "text/plain": [
       "        customer_id  paid_sum\n",
       "0                 0     50.81\n",
       "1                 1     19.05\n",
       "2                 2     16.93\n",
       "3                 3     36.00\n",
       "4                 4     47.43\n",
       "...             ...       ...\n",
       "229156       229799     16.93\n",
       "229157       229800     40.66\n",
       "229158       229801     16.93\n",
       "229159       229802     10.15\n",
       "229160       229803     59.31\n",
       "\n",
       "[229161 rows x 2 columns]"
      ]
     },
     "execution_count": 73,
     "metadata": {},
     "output_type": "execute_result"
    }
   ],
   "source": [
    "temp_df_cl = df_transactions_cleaned[['customer_id', 'price']].groupby(['customer_id']).sum()['price'].reset_index()\n",
    "temp_df_cl.rename(columns= {'price': 'paid_sum'}, inplace= True)\n",
    "temp_df_cl"
   ]
  },
  {
   "cell_type": "code",
   "execution_count": 74,
   "id": "38f97f60",
   "metadata": {},
   "outputs": [
    {
     "data": {
      "text/html": [
       "<div>\n",
       "<style scoped>\n",
       "    .dataframe tbody tr th:only-of-type {\n",
       "        vertical-align: middle;\n",
       "    }\n",
       "\n",
       "    .dataframe tbody tr th {\n",
       "        vertical-align: top;\n",
       "    }\n",
       "\n",
       "    .dataframe thead th {\n",
       "        text-align: right;\n",
       "    }\n",
       "</style>\n",
       "<table border=\"1\" class=\"dataframe\">\n",
       "  <thead>\n",
       "    <tr style=\"text-align: right;\">\n",
       "      <th></th>\n",
       "      <th>club_member</th>\n",
       "      <th>fashion_news</th>\n",
       "      <th>age</th>\n",
       "      <th>customer_id</th>\n",
       "      <th>amount</th>\n",
       "      <th>paid_sum</th>\n",
       "    </tr>\n",
       "  </thead>\n",
       "  <tbody>\n",
       "    <tr>\n",
       "      <th>147368</th>\n",
       "      <td>2</td>\n",
       "      <td>2</td>\n",
       "      <td>61.0</td>\n",
       "      <td>23883</td>\n",
       "      <td>20</td>\n",
       "      <td>767.63</td>\n",
       "    </tr>\n",
       "    <tr>\n",
       "      <th>16901</th>\n",
       "      <td>2</td>\n",
       "      <td>2</td>\n",
       "      <td>54.0</td>\n",
       "      <td>7232</td>\n",
       "      <td>19</td>\n",
       "      <td>610.12</td>\n",
       "    </tr>\n",
       "    <tr>\n",
       "      <th>168377</th>\n",
       "      <td>2</td>\n",
       "      <td>0</td>\n",
       "      <td>31.0</td>\n",
       "      <td>2458</td>\n",
       "      <td>19</td>\n",
       "      <td>662.06</td>\n",
       "    </tr>\n",
       "    <tr>\n",
       "      <th>205046</th>\n",
       "      <td>2</td>\n",
       "      <td>0</td>\n",
       "      <td>46.0</td>\n",
       "      <td>34469</td>\n",
       "      <td>16</td>\n",
       "      <td>429.64</td>\n",
       "    </tr>\n",
       "    <tr>\n",
       "      <th>181610</th>\n",
       "      <td>2</td>\n",
       "      <td>2</td>\n",
       "      <td>68.0</td>\n",
       "      <td>52416</td>\n",
       "      <td>16</td>\n",
       "      <td>562.86</td>\n",
       "    </tr>\n",
       "    <tr>\n",
       "      <th>...</th>\n",
       "      <td>...</td>\n",
       "      <td>...</td>\n",
       "      <td>...</td>\n",
       "      <td>...</td>\n",
       "      <td>...</td>\n",
       "      <td>...</td>\n",
       "    </tr>\n",
       "    <tr>\n",
       "      <th>86595</th>\n",
       "      <td>2</td>\n",
       "      <td>0</td>\n",
       "      <td>24.0</td>\n",
       "      <td>22516</td>\n",
       "      <td>1</td>\n",
       "      <td>16.93</td>\n",
       "    </tr>\n",
       "    <tr>\n",
       "      <th>86597</th>\n",
       "      <td>2</td>\n",
       "      <td>2</td>\n",
       "      <td>47.0</td>\n",
       "      <td>69254</td>\n",
       "      <td>1</td>\n",
       "      <td>15.24</td>\n",
       "    </tr>\n",
       "    <tr>\n",
       "      <th>86598</th>\n",
       "      <td>2</td>\n",
       "      <td>2</td>\n",
       "      <td>21.0</td>\n",
       "      <td>203547</td>\n",
       "      <td>1</td>\n",
       "      <td>22.86</td>\n",
       "    </tr>\n",
       "    <tr>\n",
       "      <th>86599</th>\n",
       "      <td>2</td>\n",
       "      <td>0</td>\n",
       "      <td>63.0</td>\n",
       "      <td>113592</td>\n",
       "      <td>1</td>\n",
       "      <td>13.54</td>\n",
       "    </tr>\n",
       "    <tr>\n",
       "      <th>226481</th>\n",
       "      <td>2</td>\n",
       "      <td>0</td>\n",
       "      <td>21.0</td>\n",
       "      <td>210647</td>\n",
       "      <td>1</td>\n",
       "      <td>10.83</td>\n",
       "    </tr>\n",
       "  </tbody>\n",
       "</table>\n",
       "<p>226482 rows × 6 columns</p>\n",
       "</div>"
      ],
      "text/plain": [
       "        club_member  fashion_news   age  customer_id  amount  paid_sum\n",
       "147368            2             2  61.0        23883      20    767.63\n",
       "16901             2             2  54.0         7232      19    610.12\n",
       "168377            2             0  31.0         2458      19    662.06\n",
       "205046            2             0  46.0        34469      16    429.64\n",
       "181610            2             2  68.0        52416      16    562.86\n",
       "...             ...           ...   ...          ...     ...       ...\n",
       "86595             2             0  24.0        22516       1     16.93\n",
       "86597             2             2  47.0        69254       1     15.24\n",
       "86598             2             2  21.0       203547       1     22.86\n",
       "86599             2             0  63.0       113592       1     13.54\n",
       "226481            2             0  21.0       210647       1     10.83\n",
       "\n",
       "[226482 rows x 6 columns]"
      ]
     },
     "execution_count": 74,
     "metadata": {},
     "output_type": "execute_result"
    }
   ],
   "source": [
    "df_customers_expanded = df_membership_qnty.merge(right= temp_df_cl, right_on= 'customer_id', left_on= 'customer_id') #, how= 'outer'\n",
    "df_customers_expanded['fashion_news'] = df_customers_expanded['fashion_news'].replace({'NONE':0, 'Regularly':2, 'Monthly':1})\n",
    "df_customers_expanded.sort_values('amount', ascending= False)"
   ]
  },
  {
   "cell_type": "code",
   "execution_count": 75,
   "id": "889b040a",
   "metadata": {},
   "outputs": [
    {
     "data": {
      "text/html": [
       "<div>\n",
       "<style scoped>\n",
       "    .dataframe tbody tr th:only-of-type {\n",
       "        vertical-align: middle;\n",
       "    }\n",
       "\n",
       "    .dataframe tbody tr th {\n",
       "        vertical-align: top;\n",
       "    }\n",
       "\n",
       "    .dataframe thead th {\n",
       "        text-align: right;\n",
       "    }\n",
       "</style>\n",
       "<table border=\"1\" class=\"dataframe\">\n",
       "  <thead>\n",
       "    <tr style=\"text-align: right;\">\n",
       "      <th></th>\n",
       "      <th>club_member</th>\n",
       "      <th>fashion_news</th>\n",
       "      <th>age</th>\n",
       "      <th>customer_id</th>\n",
       "      <th>amount</th>\n",
       "      <th>paid_sum</th>\n",
       "    </tr>\n",
       "  </thead>\n",
       "  <tbody>\n",
       "    <tr>\n",
       "      <th>0</th>\n",
       "      <td>2</td>\n",
       "      <td>0</td>\n",
       "      <td>49.0</td>\n",
       "      <td>91991</td>\n",
       "      <td>1</td>\n",
       "      <td>11.51</td>\n",
       "    </tr>\n",
       "    <tr>\n",
       "      <th>1</th>\n",
       "      <td>2</td>\n",
       "      <td>2</td>\n",
       "      <td>32.0</td>\n",
       "      <td>164401</td>\n",
       "      <td>1</td>\n",
       "      <td>13.71</td>\n",
       "    </tr>\n",
       "    <tr>\n",
       "      <th>2</th>\n",
       "      <td>2</td>\n",
       "      <td>2</td>\n",
       "      <td>56.0</td>\n",
       "      <td>182738</td>\n",
       "      <td>2</td>\n",
       "      <td>60.13</td>\n",
       "    </tr>\n",
       "    <tr>\n",
       "      <th>3</th>\n",
       "      <td>2</td>\n",
       "      <td>2</td>\n",
       "      <td>30.0</td>\n",
       "      <td>166422</td>\n",
       "      <td>1</td>\n",
       "      <td>25.41</td>\n",
       "    </tr>\n",
       "    <tr>\n",
       "      <th>4</th>\n",
       "      <td>1</td>\n",
       "      <td>2</td>\n",
       "      <td>40.0</td>\n",
       "      <td>164557</td>\n",
       "      <td>1</td>\n",
       "      <td>13.54</td>\n",
       "    </tr>\n",
       "    <tr>\n",
       "      <th>...</th>\n",
       "      <td>...</td>\n",
       "      <td>...</td>\n",
       "      <td>...</td>\n",
       "      <td>...</td>\n",
       "      <td>...</td>\n",
       "      <td>...</td>\n",
       "    </tr>\n",
       "    <tr>\n",
       "      <th>226477</th>\n",
       "      <td>2</td>\n",
       "      <td>2</td>\n",
       "      <td>44.0</td>\n",
       "      <td>96272</td>\n",
       "      <td>1</td>\n",
       "      <td>25.41</td>\n",
       "    </tr>\n",
       "    <tr>\n",
       "      <th>226478</th>\n",
       "      <td>2</td>\n",
       "      <td>0</td>\n",
       "      <td>27.0</td>\n",
       "      <td>14468</td>\n",
       "      <td>1</td>\n",
       "      <td>67.78</td>\n",
       "    </tr>\n",
       "    <tr>\n",
       "      <th>226479</th>\n",
       "      <td>2</td>\n",
       "      <td>0</td>\n",
       "      <td>27.0</td>\n",
       "      <td>76150</td>\n",
       "      <td>2</td>\n",
       "      <td>67.76</td>\n",
       "    </tr>\n",
       "    <tr>\n",
       "      <th>226480</th>\n",
       "      <td>2</td>\n",
       "      <td>0</td>\n",
       "      <td>40.0</td>\n",
       "      <td>94386</td>\n",
       "      <td>1</td>\n",
       "      <td>8.46</td>\n",
       "    </tr>\n",
       "    <tr>\n",
       "      <th>226481</th>\n",
       "      <td>2</td>\n",
       "      <td>0</td>\n",
       "      <td>21.0</td>\n",
       "      <td>210647</td>\n",
       "      <td>1</td>\n",
       "      <td>10.83</td>\n",
       "    </tr>\n",
       "  </tbody>\n",
       "</table>\n",
       "<p>226482 rows × 6 columns</p>\n",
       "</div>"
      ],
      "text/plain": [
       "        club_member  fashion_news   age  customer_id  amount  paid_sum\n",
       "0                 2             0  49.0        91991       1     11.51\n",
       "1                 2             2  32.0       164401       1     13.71\n",
       "2                 2             2  56.0       182738       2     60.13\n",
       "3                 2             2  30.0       166422       1     25.41\n",
       "4                 1             2  40.0       164557       1     13.54\n",
       "...             ...           ...   ...          ...     ...       ...\n",
       "226477            2             2  44.0        96272       1     25.41\n",
       "226478            2             0  27.0        14468       1     67.78\n",
       "226479            2             0  27.0        76150       2     67.76\n",
       "226480            2             0  40.0        94386       1      8.46\n",
       "226481            2             0  21.0       210647       1     10.83\n",
       "\n",
       "[226482 rows x 6 columns]"
      ]
     },
     "execution_count": 75,
     "metadata": {},
     "output_type": "execute_result"
    }
   ],
   "source": [
    "df_customers_expanded"
   ]
  },
  {
   "cell_type": "code",
   "execution_count": 76,
   "id": "cf61b039",
   "metadata": {},
   "outputs": [
    {
     "data": {
      "text/html": [
       "<div>\n",
       "<style scoped>\n",
       "    .dataframe tbody tr th:only-of-type {\n",
       "        vertical-align: middle;\n",
       "    }\n",
       "\n",
       "    .dataframe tbody tr th {\n",
       "        vertical-align: top;\n",
       "    }\n",
       "\n",
       "    .dataframe thead th {\n",
       "        text-align: right;\n",
       "    }\n",
       "</style>\n",
       "<table border=\"1\" class=\"dataframe\">\n",
       "  <thead>\n",
       "    <tr style=\"text-align: right;\">\n",
       "      <th></th>\n",
       "      <th>club_member</th>\n",
       "      <th>fashion_news</th>\n",
       "      <th>age</th>\n",
       "      <th>customer_id</th>\n",
       "      <th>amount</th>\n",
       "      <th>paid_sum</th>\n",
       "    </tr>\n",
       "  </thead>\n",
       "  <tbody>\n",
       "    <tr>\n",
       "      <th>27</th>\n",
       "      <td>2</td>\n",
       "      <td>0</td>\n",
       "      <td>22.0</td>\n",
       "      <td>204345</td>\n",
       "      <td>1</td>\n",
       "      <td>6.76</td>\n",
       "    </tr>\n",
       "    <tr>\n",
       "      <th>40</th>\n",
       "      <td>2</td>\n",
       "      <td>0</td>\n",
       "      <td>19.0</td>\n",
       "      <td>118565</td>\n",
       "      <td>1</td>\n",
       "      <td>5.07</td>\n",
       "    </tr>\n",
       "    <tr>\n",
       "      <th>48</th>\n",
       "      <td>2</td>\n",
       "      <td>2</td>\n",
       "      <td>52.0</td>\n",
       "      <td>206257</td>\n",
       "      <td>1</td>\n",
       "      <td>5.66</td>\n",
       "    </tr>\n",
       "    <tr>\n",
       "      <th>54</th>\n",
       "      <td>2</td>\n",
       "      <td>2</td>\n",
       "      <td>42.0</td>\n",
       "      <td>165272</td>\n",
       "      <td>1</td>\n",
       "      <td>5.07</td>\n",
       "    </tr>\n",
       "    <tr>\n",
       "      <th>61</th>\n",
       "      <td>2</td>\n",
       "      <td>0</td>\n",
       "      <td>53.0</td>\n",
       "      <td>167858</td>\n",
       "      <td>1</td>\n",
       "      <td>5.07</td>\n",
       "    </tr>\n",
       "    <tr>\n",
       "      <th>...</th>\n",
       "      <td>...</td>\n",
       "      <td>...</td>\n",
       "      <td>...</td>\n",
       "      <td>...</td>\n",
       "      <td>...</td>\n",
       "      <td>...</td>\n",
       "    </tr>\n",
       "    <tr>\n",
       "      <th>226447</th>\n",
       "      <td>2</td>\n",
       "      <td>0</td>\n",
       "      <td>22.0</td>\n",
       "      <td>97696</td>\n",
       "      <td>1</td>\n",
       "      <td>8.12</td>\n",
       "    </tr>\n",
       "    <tr>\n",
       "      <th>226449</th>\n",
       "      <td>2</td>\n",
       "      <td>0</td>\n",
       "      <td>39.0</td>\n",
       "      <td>29768</td>\n",
       "      <td>1</td>\n",
       "      <td>9.83</td>\n",
       "    </tr>\n",
       "    <tr>\n",
       "      <th>226451</th>\n",
       "      <td>2</td>\n",
       "      <td>0</td>\n",
       "      <td>49.0</td>\n",
       "      <td>26063</td>\n",
       "      <td>1</td>\n",
       "      <td>6.76</td>\n",
       "    </tr>\n",
       "    <tr>\n",
       "      <th>226468</th>\n",
       "      <td>2</td>\n",
       "      <td>2</td>\n",
       "      <td>52.0</td>\n",
       "      <td>191101</td>\n",
       "      <td>1</td>\n",
       "      <td>5.07</td>\n",
       "    </tr>\n",
       "    <tr>\n",
       "      <th>226480</th>\n",
       "      <td>2</td>\n",
       "      <td>0</td>\n",
       "      <td>40.0</td>\n",
       "      <td>94386</td>\n",
       "      <td>1</td>\n",
       "      <td>8.46</td>\n",
       "    </tr>\n",
       "  </tbody>\n",
       "</table>\n",
       "<p>17455 rows × 6 columns</p>\n",
       "</div>"
      ],
      "text/plain": [
       "        club_member  fashion_news   age  customer_id  amount  paid_sum\n",
       "27                2             0  22.0       204345       1      6.76\n",
       "40                2             0  19.0       118565       1      5.07\n",
       "48                2             2  52.0       206257       1      5.66\n",
       "54                2             2  42.0       165272       1      5.07\n",
       "61                2             0  53.0       167858       1      5.07\n",
       "...             ...           ...   ...          ...     ...       ...\n",
       "226447            2             0  22.0        97696       1      8.12\n",
       "226449            2             0  39.0        29768       1      9.83\n",
       "226451            2             0  49.0        26063       1      6.76\n",
       "226468            2             2  52.0       191101       1      5.07\n",
       "226480            2             0  40.0        94386       1      8.46\n",
       "\n",
       "[17455 rows x 6 columns]"
      ]
     },
     "execution_count": 76,
     "metadata": {},
     "output_type": "execute_result"
    }
   ],
   "source": [
    "df_customers_expanded.loc[df_customers_expanded['paid_sum'] <10]"
   ]
  },
  {
   "cell_type": "markdown",
   "id": "ac086dfa",
   "metadata": {},
   "source": [
    "<div class=\"alert alert-block alert-success\">\n",
    "<b>Датасет сформирован успешно</b>\n",
    "</div>"
   ]
  },
  {
   "cell_type": "markdown",
   "id": "72a7b074",
   "metadata": {},
   "source": [
    "<div class=\"alert alert-block alert-warning\">\n",
    "<b>6.2 Определение оптимально минимального количества кластеров по методу локтя</b>\n",
    "</div>"
   ]
  },
  {
   "cell_type": "markdown",
   "id": "1dd9beb0",
   "metadata": {},
   "source": [
    "<div class=\"alert alert-block alert-warning\">\n",
    "<b>Загрузка библиотек, определение суммы квадратических отклонений для каждого значения количества кластеров по методу k-средних</b>\n",
    "</div>"
   ]
  },
  {
   "cell_type": "code",
   "execution_count": 77,
   "id": "23abdc82",
   "metadata": {},
   "outputs": [],
   "source": [
    "from sklearn.cluster import KMeans\n",
    "Sum_of_squared_distances = []\n",
    "K = range(1, 20)\n",
    "for k in K:\n",
    "    km = KMeans(n_clusters = k)\n",
    "    km = km.fit(df_customers_expanded)\n",
    "    Sum_of_squared_distances.append(km.inertia_)"
   ]
  },
  {
   "cell_type": "code",
   "execution_count": 78,
   "id": "3730c1a2",
   "metadata": {},
   "outputs": [
    {
     "data": {
      "image/png": "[encoded data removed]",
      "text/plain": [
       "<Figure size 432x288 with 1 Axes>"
      ]
     },
     "metadata": {
      "needs_background": "light"
     },
     "output_type": "display_data"
    }
   ],
   "source": [
    "plt.plot(K, Sum_of_squared_distances, 'ko:')\n",
    "plt.xlabel('k')\n",
    "plt.ylabel('Сумма кв. откл')\n",
    "plt.title('Метод локтя')\n",
    "plt.show()"
   ]
  },
  {
   "cell_type": "markdown",
   "id": "65953118",
   "metadata": {},
   "source": [
    "<div class=\"alert alert-block alert-success\">\n",
    "<b>Оптимальное количество кластеров равно 4, т.к. уменьшение квадратического отклонения после 4 значительно замедляется и большее количество кластеров не улучшит качество разделения на группы, а только усложнит дальнейшую работу с кластерами</b>\n",
    "</div>"
   ]
  },
  {
   "cell_type": "markdown",
   "id": "9ec6a17d",
   "metadata": {},
   "source": [
    "<div class=\"alert alert-block alert-warning\">\n",
    "<b>6.3 Разбиение значений датасета на кластеры по методу k-средних</b>\n",
    "</div>"
   ]
  },
  {
   "cell_type": "code",
   "execution_count": 79,
   "id": "d7686eac",
   "metadata": {},
   "outputs": [
    {
     "data": {
      "text/plain": [
       "Index(['club_member', 'fashion_news', 'age', 'customer_id', 'amount',\n",
       "       'paid_sum'],\n",
       "      dtype='object')"
      ]
     },
     "execution_count": 79,
     "metadata": {},
     "output_type": "execute_result"
    }
   ],
   "source": [
    "df_customers_expanded.columns"
   ]
  },
  {
   "cell_type": "code",
   "execution_count": 80,
   "id": "531b72ec",
   "metadata": {
    "scrolled": false
   },
   "outputs": [
    {
     "data": {
      "text/html": [
       "<div>\n",
       "<style scoped>\n",
       "    .dataframe tbody tr th:only-of-type {\n",
       "        vertical-align: middle;\n",
       "    }\n",
       "\n",
       "    .dataframe tbody tr th {\n",
       "        vertical-align: top;\n",
       "    }\n",
       "\n",
       "    .dataframe thead th {\n",
       "        text-align: right;\n",
       "    }\n",
       "</style>\n",
       "<table border=\"1\" class=\"dataframe\">\n",
       "  <thead>\n",
       "    <tr style=\"text-align: right;\">\n",
       "      <th></th>\n",
       "      <th>club_member</th>\n",
       "      <th>fashion_news</th>\n",
       "      <th>age</th>\n",
       "      <th>customer_id</th>\n",
       "      <th>amount</th>\n",
       "      <th>paid_sum</th>\n",
       "      <th>cluster</th>\n",
       "    </tr>\n",
       "  </thead>\n",
       "  <tbody>\n",
       "    <tr>\n",
       "      <th>0</th>\n",
       "      <td>2</td>\n",
       "      <td>0</td>\n",
       "      <td>49.0</td>\n",
       "      <td>91991</td>\n",
       "      <td>1</td>\n",
       "      <td>11.51</td>\n",
       "      <td>0</td>\n",
       "    </tr>\n",
       "    <tr>\n",
       "      <th>1</th>\n",
       "      <td>2</td>\n",
       "      <td>2</td>\n",
       "      <td>32.0</td>\n",
       "      <td>164401</td>\n",
       "      <td>1</td>\n",
       "      <td>13.71</td>\n",
       "      <td>3</td>\n",
       "    </tr>\n",
       "    <tr>\n",
       "      <th>2</th>\n",
       "      <td>2</td>\n",
       "      <td>2</td>\n",
       "      <td>56.0</td>\n",
       "      <td>182738</td>\n",
       "      <td>2</td>\n",
       "      <td>60.13</td>\n",
       "      <td>1</td>\n",
       "    </tr>\n",
       "    <tr>\n",
       "      <th>3</th>\n",
       "      <td>2</td>\n",
       "      <td>2</td>\n",
       "      <td>30.0</td>\n",
       "      <td>166422</td>\n",
       "      <td>1</td>\n",
       "      <td>25.41</td>\n",
       "      <td>3</td>\n",
       "    </tr>\n",
       "    <tr>\n",
       "      <th>4</th>\n",
       "      <td>1</td>\n",
       "      <td>2</td>\n",
       "      <td>40.0</td>\n",
       "      <td>164557</td>\n",
       "      <td>1</td>\n",
       "      <td>13.54</td>\n",
       "      <td>0</td>\n",
       "    </tr>\n",
       "    <tr>\n",
       "      <th>...</th>\n",
       "      <td>...</td>\n",
       "      <td>...</td>\n",
       "      <td>...</td>\n",
       "      <td>...</td>\n",
       "      <td>...</td>\n",
       "      <td>...</td>\n",
       "      <td>...</td>\n",
       "    </tr>\n",
       "    <tr>\n",
       "      <th>226477</th>\n",
       "      <td>2</td>\n",
       "      <td>2</td>\n",
       "      <td>44.0</td>\n",
       "      <td>96272</td>\n",
       "      <td>1</td>\n",
       "      <td>25.41</td>\n",
       "      <td>0</td>\n",
       "    </tr>\n",
       "    <tr>\n",
       "      <th>226478</th>\n",
       "      <td>2</td>\n",
       "      <td>0</td>\n",
       "      <td>27.0</td>\n",
       "      <td>14468</td>\n",
       "      <td>1</td>\n",
       "      <td>67.78</td>\n",
       "      <td>1</td>\n",
       "    </tr>\n",
       "    <tr>\n",
       "      <th>226479</th>\n",
       "      <td>2</td>\n",
       "      <td>0</td>\n",
       "      <td>27.0</td>\n",
       "      <td>76150</td>\n",
       "      <td>2</td>\n",
       "      <td>67.76</td>\n",
       "      <td>1</td>\n",
       "    </tr>\n",
       "    <tr>\n",
       "      <th>226480</th>\n",
       "      <td>2</td>\n",
       "      <td>0</td>\n",
       "      <td>40.0</td>\n",
       "      <td>94386</td>\n",
       "      <td>1</td>\n",
       "      <td>8.46</td>\n",
       "      <td>3</td>\n",
       "    </tr>\n",
       "    <tr>\n",
       "      <th>226481</th>\n",
       "      <td>2</td>\n",
       "      <td>0</td>\n",
       "      <td>21.0</td>\n",
       "      <td>210647</td>\n",
       "      <td>1</td>\n",
       "      <td>10.83</td>\n",
       "      <td>3</td>\n",
       "    </tr>\n",
       "  </tbody>\n",
       "</table>\n",
       "<p>226482 rows × 7 columns</p>\n",
       "</div>"
      ],
      "text/plain": [
       "        club_member  fashion_news   age  customer_id  amount  paid_sum  \\\n",
       "0                 2             0  49.0        91991       1     11.51   \n",
       "1                 2             2  32.0       164401       1     13.71   \n",
       "2                 2             2  56.0       182738       2     60.13   \n",
       "3                 2             2  30.0       166422       1     25.41   \n",
       "4                 1             2  40.0       164557       1     13.54   \n",
       "...             ...           ...   ...          ...     ...       ...   \n",
       "226477            2             2  44.0        96272       1     25.41   \n",
       "226478            2             0  27.0        14468       1     67.78   \n",
       "226479            2             0  27.0        76150       2     67.76   \n",
       "226480            2             0  40.0        94386       1      8.46   \n",
       "226481            2             0  21.0       210647       1     10.83   \n",
       "\n",
       "        cluster  \n",
       "0             0  \n",
       "1             3  \n",
       "2             1  \n",
       "3             3  \n",
       "4             0  \n",
       "...         ...  \n",
       "226477        0  \n",
       "226478        1  \n",
       "226479        1  \n",
       "226480        3  \n",
       "226481        3  \n",
       "\n",
       "[226482 rows x 7 columns]"
      ]
     },
     "execution_count": 80,
     "metadata": {},
     "output_type": "execute_result"
    }
   ],
   "source": [
    "kmeans = KMeans(n_clusters = 4, random_state=0).fit(df_customers_expanded[['club_member','fashion_news','age','amount','paid_sum']])\n",
    "\n",
    "predict = kmeans.predict(df_customers_expanded[['club_member','fashion_news','age','amount','paid_sum']])\n",
    "df_customers_expanded['cluster'] = predict\n",
    "df_customers_expanded"
   ]
  },
  {
   "cell_type": "markdown",
   "id": "2cc78a6a",
   "metadata": {},
   "source": [
    "<div class=\"alert alert-block alert-warning\">\n",
    "<b>6.4 Визуализация кластеров на диаграмме рассеивания</b>\n",
    "</div>"
   ]
  },
  {
   "cell_type": "code",
   "execution_count": 81,
   "id": "5d4a38e9",
   "metadata": {},
   "outputs": [
    {
     "data": {
      "image/png": "[encoded data removed]",
      "text/plain": [
       "<Figure size 432x288 with 1 Axes>"
      ]
     },
     "metadata": {
      "needs_background": "light"
     },
     "output_type": "display_data"
    }
   ],
   "source": [
    "prop1 = 'age'\n",
    "prop2 = 'paid_sum'\n",
    "plt.scatter(df_customers_expanded[prop1], df_customers_expanded[prop2], c = df_customers_expanded['cluster'], cmap='viridis', alpha = 0.4)\n",
    "plt.xlabel(prop1)\n",
    "plt.ylabel(prop2)\n",
    "# plt.xlim(0, 400)\n",
    "# plt.ylim(0, 3e6)\n",
    "plt.title('4 кластерa K-Means')\n",
    "plt.show()"
   ]
  },
  {
   "cell_type": "markdown",
   "id": "82cf6250",
   "metadata": {},
   "source": [
    "<div class=\"alert alert-block alert-success\">\n",
    "<b>Разделение на кластеры произошло успешно. Выделено 4 кластера:\n",
    "    1. до 40 лет, покупающие мало\n",
    "    2. старше 40 лет, покупающие мало\n",
    "    3. всех возрастов, покупающие на среднем уровне\n",
    "    4. всех возрастов, покупающие много</b>\n",
    "</div>"
   ]
  },
  {
   "cell_type": "markdown",
   "id": "4899b5a0",
   "metadata": {},
   "source": [
    "## Выводы раздела 3"
   ]
  },
  {
   "cell_type": "markdown",
   "id": "5cadde96",
   "metadata": {},
   "source": [
    "$\\blacktriangleright$ Выявлена зависимость признака количество купленных товаров от членства в клубе"
   ]
  },
  {
   "cell_type": "markdown",
   "id": "10c9e3a3",
   "metadata": {},
   "source": [
    "$\\blacktriangleright$ Определены кластеры покупателей"
   ]
  },
  {
   "cell_type": "markdown",
   "id": "dfbeccda",
   "metadata": {},
   "source": [
    "### ----------"
   ]
  },
  {
   "cell_type": "markdown",
   "id": "8b01f770",
   "metadata": {},
   "source": [
    "## Раздел 4 - Построение рекомендательной системы"
   ]
  },
  {
   "cell_type": "markdown",
   "id": "8d8ce555",
   "metadata": {},
   "source": [
    "* Шаг 7. Построение рекомендательной системы \n",
    "    1. Сформировать датасет с признаками *покупатель, товар, количество купленных товаров*\n",
    "    1. Выполнить коллаборативную фильтрацию по схожести покупателей\n",
    "    1. Вывести в качестве рекомендаций список наименований товаров для пользователя с ИД = 6510"
   ]
  },
  {
   "cell_type": "markdown",
   "id": "f5a3dfd9",
   "metadata": {},
   "source": [
    "<div class=\"alert alert-block alert-warning\">\n",
    "<b>7.1 Импорт библиотек, формирование датасета для построения рекомендательной системы</b>\n",
    "</div>"
   ]
  },
  {
   "cell_type": "markdown",
   "id": "c376afb2",
   "metadata": {},
   "source": [
    "<div class=\"alert alert-block alert-warning\">\n",
    "<b>Загрузка библиотек для создания векторов данных с целью дальнейшего сравнения полученных векторов и определения наиболее подходящих продуктов для рекомендации другим пользователям</b>\n",
    "</div>"
   ]
  },
  {
   "cell_type": "code",
   "execution_count": 82,
   "id": "531a66b9",
   "metadata": {},
   "outputs": [],
   "source": [
    "from sklearn.feature_extraction.text import TfidfVectorizer\n",
    "from sklearn.metrics.pairwise import linear_kernel\n",
    "from sklearn.neighbors import NearestNeighbors\n",
    "\n",
    "from scipy.sparse import csr_matrix\n",
    "\n",
    "from collections import defaultdict\n",
    "\n",
    "import warnings\n",
    "warnings.filterwarnings('ignore')"
   ]
  },
  {
   "cell_type": "markdown",
   "id": "0f83dc4d",
   "metadata": {},
   "source": [
    "<div class=\"alert alert-block alert-warning\">\n",
    "<b>Создание датасета с нужными признаками: пользователи, продукты, количество купленного продукта пользователем</b>\n",
    "</div>"
   ]
  },
  {
   "cell_type": "code",
   "execution_count": 83,
   "id": "ac5fd69a",
   "metadata": {
    "scrolled": false
   },
   "outputs": [
    {
     "data": {
      "text/html": [
       "<div>\n",
       "<style scoped>\n",
       "    .dataframe tbody tr th:only-of-type {\n",
       "        vertical-align: middle;\n",
       "    }\n",
       "\n",
       "    .dataframe tbody tr th {\n",
       "        vertical-align: top;\n",
       "    }\n",
       "\n",
       "    .dataframe thead th {\n",
       "        text-align: right;\n",
       "    }\n",
       "</style>\n",
       "<table border=\"1\" class=\"dataframe\">\n",
       "  <thead>\n",
       "    <tr style=\"text-align: right;\">\n",
       "      <th></th>\n",
       "      <th>article_id</th>\n",
       "      <th>customer_id</th>\n",
       "      <th>amount</th>\n",
       "    </tr>\n",
       "  </thead>\n",
       "  <tbody>\n",
       "    <tr>\n",
       "      <th>259005</th>\n",
       "      <td>812376001</td>\n",
       "      <td>0</td>\n",
       "      <td>1</td>\n",
       "    </tr>\n",
       "    <tr>\n",
       "      <th>147076</th>\n",
       "      <td>706016003</td>\n",
       "      <td>0</td>\n",
       "      <td>1</td>\n",
       "    </tr>\n",
       "    <tr>\n",
       "      <th>21482</th>\n",
       "      <td>493810014</td>\n",
       "      <td>1</td>\n",
       "      <td>1</td>\n",
       "    </tr>\n",
       "    <tr>\n",
       "      <th>58973</th>\n",
       "      <td>594541012</td>\n",
       "      <td>2</td>\n",
       "      <td>1</td>\n",
       "    </tr>\n",
       "    <tr>\n",
       "      <th>166952</th>\n",
       "      <td>719712001</td>\n",
       "      <td>3</td>\n",
       "      <td>1</td>\n",
       "    </tr>\n",
       "    <tr>\n",
       "      <th>...</th>\n",
       "      <td>...</td>\n",
       "      <td>...</td>\n",
       "      <td>...</td>\n",
       "    </tr>\n",
       "    <tr>\n",
       "      <th>82381</th>\n",
       "      <td>636323001</td>\n",
       "      <td>229799</td>\n",
       "      <td>1</td>\n",
       "    </tr>\n",
       "    <tr>\n",
       "      <th>94067</th>\n",
       "      <td>657795001</td>\n",
       "      <td>229800</td>\n",
       "      <td>1</td>\n",
       "    </tr>\n",
       "    <tr>\n",
       "      <th>82382</th>\n",
       "      <td>636323001</td>\n",
       "      <td>229801</td>\n",
       "      <td>1</td>\n",
       "    </tr>\n",
       "    <tr>\n",
       "      <th>57357</th>\n",
       "      <td>589924010</td>\n",
       "      <td>229802</td>\n",
       "      <td>1</td>\n",
       "    </tr>\n",
       "    <tr>\n",
       "      <th>168267</th>\n",
       "      <td>720506003</td>\n",
       "      <td>229803</td>\n",
       "      <td>1</td>\n",
       "    </tr>\n",
       "  </tbody>\n",
       "</table>\n",
       "<p>315875 rows × 3 columns</p>\n",
       "</div>"
      ],
      "text/plain": [
       "        article_id  customer_id  amount\n",
       "259005   812376001            0       1\n",
       "147076   706016003            0       1\n",
       "21482    493810014            1       1\n",
       "58973    594541012            2       1\n",
       "166952   719712001            3       1\n",
       "...            ...          ...     ...\n",
       "82381    636323001       229799       1\n",
       "94067    657795001       229800       1\n",
       "82382    636323001       229801       1\n",
       "57357    589924010       229802       1\n",
       "168267   720506003       229803       1\n",
       "\n",
       "[315875 rows x 3 columns]"
      ]
     },
     "execution_count": 83,
     "metadata": {},
     "output_type": "execute_result"
    }
   ],
   "source": [
    "df_temp_recomend = df_transactions_cleaned.groupby(['article_id','customer_id']).count()['price'].reset_index().sort_values(['customer_id'], ascending= True)\n",
    "df_temp_recomend.rename(columns= {'price': 'amount'}, inplace= True)\n",
    "df_temp_recomend.sort_values('customer_id', inplace= True)\n",
    "df_temp_recomend"
   ]
  },
  {
   "cell_type": "markdown",
   "id": "74ca74dd",
   "metadata": {},
   "source": [
    "<div class=\"alert alert-block alert-success\">\n",
    "<b>Датасет сформирован успешно</b>\n",
    "</div>"
   ]
  },
  {
   "cell_type": "markdown",
   "id": "a01f399a",
   "metadata": {},
   "source": [
    "<div class=\"alert alert-block alert-warning\">\n",
    "Проверка правильности построения датасета на условно-случайном пользователе\n",
    "</div>"
   ]
  },
  {
   "cell_type": "code",
   "execution_count": 84,
   "id": "6ddf995d",
   "metadata": {
    "scrolled": true
   },
   "outputs": [
    {
     "data": {
      "text/html": [
       "<div>\n",
       "<style scoped>\n",
       "    .dataframe tbody tr th:only-of-type {\n",
       "        vertical-align: middle;\n",
       "    }\n",
       "\n",
       "    .dataframe tbody tr th {\n",
       "        vertical-align: top;\n",
       "    }\n",
       "\n",
       "    .dataframe thead th {\n",
       "        text-align: right;\n",
       "    }\n",
       "</style>\n",
       "<table border=\"1\" class=\"dataframe\">\n",
       "  <thead>\n",
       "    <tr style=\"text-align: right;\">\n",
       "      <th></th>\n",
       "      <th>article_id</th>\n",
       "      <th>customer_id</th>\n",
       "      <th>amount</th>\n",
       "    </tr>\n",
       "  </thead>\n",
       "  <tbody>\n",
       "    <tr>\n",
       "      <th>305338</th>\n",
       "      <td>880792001</td>\n",
       "      <td>6510</td>\n",
       "      <td>1</td>\n",
       "    </tr>\n",
       "    <tr>\n",
       "      <th>288871</th>\n",
       "      <td>853931002</td>\n",
       "      <td>6510</td>\n",
       "      <td>1</td>\n",
       "    </tr>\n",
       "    <tr>\n",
       "      <th>168300</th>\n",
       "      <td>720572002</td>\n",
       "      <td>6510</td>\n",
       "      <td>1</td>\n",
       "    </tr>\n",
       "    <tr>\n",
       "      <th>311706</th>\n",
       "      <td>903306003</td>\n",
       "      <td>6510</td>\n",
       "      <td>1</td>\n",
       "    </tr>\n",
       "    <tr>\n",
       "      <th>167924</th>\n",
       "      <td>720202001</td>\n",
       "      <td>6510</td>\n",
       "      <td>1</td>\n",
       "    </tr>\n",
       "  </tbody>\n",
       "</table>\n",
       "</div>"
      ],
      "text/plain": [
       "        article_id  customer_id  amount\n",
       "305338   880792001         6510       1\n",
       "288871   853931002         6510       1\n",
       "168300   720572002         6510       1\n",
       "311706   903306003         6510       1\n",
       "167924   720202001         6510       1"
      ]
     },
     "execution_count": 84,
     "metadata": {},
     "output_type": "execute_result"
    }
   ],
   "source": [
    "df_temp_recomend.loc[df_temp_recomend['customer_id'] == 6510]"
   ]
  },
  {
   "cell_type": "markdown",
   "id": "21320f91",
   "metadata": {},
   "source": [
    "<div class=\"alert alert-block alert-warning\">\n",
    "Проверка датасета на наличие аномалий\n",
    "</div>"
   ]
  },
  {
   "cell_type": "code",
   "execution_count": 85,
   "id": "7592f786",
   "metadata": {
    "scrolled": true
   },
   "outputs": [
    {
     "data": {
      "text/html": [
       "<div>\n",
       "<style scoped>\n",
       "    .dataframe tbody tr th:only-of-type {\n",
       "        vertical-align: middle;\n",
       "    }\n",
       "\n",
       "    .dataframe tbody tr th {\n",
       "        vertical-align: top;\n",
       "    }\n",
       "\n",
       "    .dataframe thead th {\n",
       "        text-align: right;\n",
       "    }\n",
       "</style>\n",
       "<table border=\"1\" class=\"dataframe\">\n",
       "  <thead>\n",
       "    <tr style=\"text-align: right;\">\n",
       "      <th></th>\n",
       "      <th>article_id</th>\n",
       "      <th>customer_id</th>\n",
       "      <th>amount</th>\n",
       "    </tr>\n",
       "  </thead>\n",
       "  <tbody>\n",
       "    <tr>\n",
       "      <th>count</th>\n",
       "      <td>3.158750e+05</td>\n",
       "      <td>315875.000000</td>\n",
       "      <td>315875.000000</td>\n",
       "    </tr>\n",
       "    <tr>\n",
       "      <th>mean</th>\n",
       "      <td>6.957110e+08</td>\n",
       "      <td>103068.700068</td>\n",
       "      <td>1.002340</td>\n",
       "    </tr>\n",
       "    <tr>\n",
       "      <th>std</th>\n",
       "      <td>1.338289e+08</td>\n",
       "      <td>65779.073972</td>\n",
       "      <td>0.049414</td>\n",
       "    </tr>\n",
       "    <tr>\n",
       "      <th>min</th>\n",
       "      <td>1.087750e+08</td>\n",
       "      <td>0.000000</td>\n",
       "      <td>1.000000</td>\n",
       "    </tr>\n",
       "    <tr>\n",
       "      <th>25%</th>\n",
       "      <td>6.314920e+08</td>\n",
       "      <td>45427.500000</td>\n",
       "      <td>1.000000</td>\n",
       "    </tr>\n",
       "    <tr>\n",
       "      <th>50%</th>\n",
       "      <td>7.139970e+08</td>\n",
       "      <td>97351.000000</td>\n",
       "      <td>1.000000</td>\n",
       "    </tr>\n",
       "    <tr>\n",
       "      <th>75%</th>\n",
       "      <td>7.863360e+08</td>\n",
       "      <td>157732.500000</td>\n",
       "      <td>1.000000</td>\n",
       "    </tr>\n",
       "    <tr>\n",
       "      <th>max</th>\n",
       "      <td>9.534500e+08</td>\n",
       "      <td>229803.000000</td>\n",
       "      <td>5.000000</td>\n",
       "    </tr>\n",
       "  </tbody>\n",
       "</table>\n",
       "</div>"
      ],
      "text/plain": [
       "         article_id    customer_id         amount\n",
       "count  3.158750e+05  315875.000000  315875.000000\n",
       "mean   6.957110e+08  103068.700068       1.002340\n",
       "std    1.338289e+08   65779.073972       0.049414\n",
       "min    1.087750e+08       0.000000       1.000000\n",
       "25%    6.314920e+08   45427.500000       1.000000\n",
       "50%    7.139970e+08   97351.000000       1.000000\n",
       "75%    7.863360e+08  157732.500000       1.000000\n",
       "max    9.534500e+08  229803.000000       5.000000"
      ]
     },
     "execution_count": 85,
     "metadata": {},
     "output_type": "execute_result"
    }
   ],
   "source": [
    "df_temp_recomend.describe()"
   ]
  },
  {
   "cell_type": "markdown",
   "id": "48dc0d42",
   "metadata": {},
   "source": [
    "<div class=\"alert alert-block alert-success\">\n",
    "Сформированный датасет не содержит аномалий\n",
    "</div>"
   ]
  },
  {
   "cell_type": "markdown",
   "id": "521bc529",
   "metadata": {},
   "source": [
    "<div class=\"alert alert-block alert-warning\">\n",
    "<b>Создание матрицы значений: названия строк - пользователи, названия столбцов - продукты, на пересечении - количество купленного продукта пользователем. Также требуется заполнить пустые ячейки значением 0 для возможности обучения модели</b>\n",
    "</div>"
   ]
  },
  {
   "cell_type": "code",
   "execution_count": 86,
   "id": "7c7cea93",
   "metadata": {},
   "outputs": [],
   "source": [
    "df_matrix = df_temp_recomend[:15000].pivot(index='customer_id', columns='article_id', values='amount').fillna(0)"
   ]
  },
  {
   "cell_type": "code",
   "execution_count": 87,
   "id": "be0a8050",
   "metadata": {
    "scrolled": true
   },
   "outputs": [
    {
     "data": {
      "text/html": [
       "<div>\n",
       "<style scoped>\n",
       "    .dataframe tbody tr th:only-of-type {\n",
       "        vertical-align: middle;\n",
       "    }\n",
       "\n",
       "    .dataframe tbody tr th {\n",
       "        vertical-align: top;\n",
       "    }\n",
       "\n",
       "    .dataframe thead th {\n",
       "        text-align: right;\n",
       "    }\n",
       "</style>\n",
       "<table border=\"1\" class=\"dataframe\">\n",
       "  <thead>\n",
       "    <tr style=\"text-align: right;\">\n",
       "      <th>article_id</th>\n",
       "      <th>108775015</th>\n",
       "      <th>108775044</th>\n",
       "      <th>110065002</th>\n",
       "      <th>111586001</th>\n",
       "      <th>111593001</th>\n",
       "      <th>111609001</th>\n",
       "      <th>120129001</th>\n",
       "      <th>120129014</th>\n",
       "      <th>123173001</th>\n",
       "      <th>129085001</th>\n",
       "      <th>...</th>\n",
       "      <th>934536001</th>\n",
       "      <th>934727001</th>\n",
       "      <th>936217001</th>\n",
       "      <th>936622001</th>\n",
       "      <th>937466001</th>\n",
       "      <th>938804001</th>\n",
       "      <th>941005003</th>\n",
       "      <th>942596001</th>\n",
       "      <th>946282001</th>\n",
       "      <th>949551002</th>\n",
       "    </tr>\n",
       "    <tr>\n",
       "      <th>customer_id</th>\n",
       "      <th></th>\n",
       "      <th></th>\n",
       "      <th></th>\n",
       "      <th></th>\n",
       "      <th></th>\n",
       "      <th></th>\n",
       "      <th></th>\n",
       "      <th></th>\n",
       "      <th></th>\n",
       "      <th></th>\n",
       "      <th></th>\n",
       "      <th></th>\n",
       "      <th></th>\n",
       "      <th></th>\n",
       "      <th></th>\n",
       "      <th></th>\n",
       "      <th></th>\n",
       "      <th></th>\n",
       "      <th></th>\n",
       "      <th></th>\n",
       "      <th></th>\n",
       "    </tr>\n",
       "  </thead>\n",
       "  <tbody>\n",
       "    <tr>\n",
       "      <th>0</th>\n",
       "      <td>0.0</td>\n",
       "      <td>0.0</td>\n",
       "      <td>0.0</td>\n",
       "      <td>0.0</td>\n",
       "      <td>0.0</td>\n",
       "      <td>0.0</td>\n",
       "      <td>0.0</td>\n",
       "      <td>0.0</td>\n",
       "      <td>0.0</td>\n",
       "      <td>0.0</td>\n",
       "      <td>...</td>\n",
       "      <td>0.0</td>\n",
       "      <td>0.0</td>\n",
       "      <td>0.0</td>\n",
       "      <td>0.0</td>\n",
       "      <td>0.0</td>\n",
       "      <td>0.0</td>\n",
       "      <td>0.0</td>\n",
       "      <td>0.0</td>\n",
       "      <td>0.0</td>\n",
       "      <td>0.0</td>\n",
       "    </tr>\n",
       "    <tr>\n",
       "      <th>1</th>\n",
       "      <td>0.0</td>\n",
       "      <td>0.0</td>\n",
       "      <td>0.0</td>\n",
       "      <td>0.0</td>\n",
       "      <td>0.0</td>\n",
       "      <td>0.0</td>\n",
       "      <td>0.0</td>\n",
       "      <td>0.0</td>\n",
       "      <td>0.0</td>\n",
       "      <td>0.0</td>\n",
       "      <td>...</td>\n",
       "      <td>0.0</td>\n",
       "      <td>0.0</td>\n",
       "      <td>0.0</td>\n",
       "      <td>0.0</td>\n",
       "      <td>0.0</td>\n",
       "      <td>0.0</td>\n",
       "      <td>0.0</td>\n",
       "      <td>0.0</td>\n",
       "      <td>0.0</td>\n",
       "      <td>0.0</td>\n",
       "    </tr>\n",
       "    <tr>\n",
       "      <th>2</th>\n",
       "      <td>0.0</td>\n",
       "      <td>0.0</td>\n",
       "      <td>0.0</td>\n",
       "      <td>0.0</td>\n",
       "      <td>0.0</td>\n",
       "      <td>0.0</td>\n",
       "      <td>0.0</td>\n",
       "      <td>0.0</td>\n",
       "      <td>0.0</td>\n",
       "      <td>0.0</td>\n",
       "      <td>...</td>\n",
       "      <td>0.0</td>\n",
       "      <td>0.0</td>\n",
       "      <td>0.0</td>\n",
       "      <td>0.0</td>\n",
       "      <td>0.0</td>\n",
       "      <td>0.0</td>\n",
       "      <td>0.0</td>\n",
       "      <td>0.0</td>\n",
       "      <td>0.0</td>\n",
       "      <td>0.0</td>\n",
       "    </tr>\n",
       "    <tr>\n",
       "      <th>3</th>\n",
       "      <td>0.0</td>\n",
       "      <td>0.0</td>\n",
       "      <td>0.0</td>\n",
       "      <td>0.0</td>\n",
       "      <td>0.0</td>\n",
       "      <td>0.0</td>\n",
       "      <td>0.0</td>\n",
       "      <td>0.0</td>\n",
       "      <td>0.0</td>\n",
       "      <td>0.0</td>\n",
       "      <td>...</td>\n",
       "      <td>0.0</td>\n",
       "      <td>0.0</td>\n",
       "      <td>0.0</td>\n",
       "      <td>0.0</td>\n",
       "      <td>0.0</td>\n",
       "      <td>0.0</td>\n",
       "      <td>0.0</td>\n",
       "      <td>0.0</td>\n",
       "      <td>0.0</td>\n",
       "      <td>0.0</td>\n",
       "    </tr>\n",
       "    <tr>\n",
       "      <th>4</th>\n",
       "      <td>0.0</td>\n",
       "      <td>0.0</td>\n",
       "      <td>0.0</td>\n",
       "      <td>0.0</td>\n",
       "      <td>0.0</td>\n",
       "      <td>0.0</td>\n",
       "      <td>0.0</td>\n",
       "      <td>0.0</td>\n",
       "      <td>0.0</td>\n",
       "      <td>0.0</td>\n",
       "      <td>...</td>\n",
       "      <td>0.0</td>\n",
       "      <td>0.0</td>\n",
       "      <td>0.0</td>\n",
       "      <td>0.0</td>\n",
       "      <td>0.0</td>\n",
       "      <td>0.0</td>\n",
       "      <td>0.0</td>\n",
       "      <td>0.0</td>\n",
       "      <td>0.0</td>\n",
       "      <td>0.0</td>\n",
       "    </tr>\n",
       "    <tr>\n",
       "      <th>...</th>\n",
       "      <td>...</td>\n",
       "      <td>...</td>\n",
       "      <td>...</td>\n",
       "      <td>...</td>\n",
       "      <td>...</td>\n",
       "      <td>...</td>\n",
       "      <td>...</td>\n",
       "      <td>...</td>\n",
       "      <td>...</td>\n",
       "      <td>...</td>\n",
       "      <td>...</td>\n",
       "      <td>...</td>\n",
       "      <td>...</td>\n",
       "      <td>...</td>\n",
       "      <td>...</td>\n",
       "      <td>...</td>\n",
       "      <td>...</td>\n",
       "      <td>...</td>\n",
       "      <td>...</td>\n",
       "      <td>...</td>\n",
       "      <td>...</td>\n",
       "    </tr>\n",
       "    <tr>\n",
       "      <th>8075</th>\n",
       "      <td>0.0</td>\n",
       "      <td>0.0</td>\n",
       "      <td>0.0</td>\n",
       "      <td>0.0</td>\n",
       "      <td>0.0</td>\n",
       "      <td>0.0</td>\n",
       "      <td>0.0</td>\n",
       "      <td>0.0</td>\n",
       "      <td>0.0</td>\n",
       "      <td>0.0</td>\n",
       "      <td>...</td>\n",
       "      <td>0.0</td>\n",
       "      <td>0.0</td>\n",
       "      <td>0.0</td>\n",
       "      <td>0.0</td>\n",
       "      <td>0.0</td>\n",
       "      <td>0.0</td>\n",
       "      <td>0.0</td>\n",
       "      <td>0.0</td>\n",
       "      <td>0.0</td>\n",
       "      <td>0.0</td>\n",
       "    </tr>\n",
       "    <tr>\n",
       "      <th>8076</th>\n",
       "      <td>0.0</td>\n",
       "      <td>0.0</td>\n",
       "      <td>0.0</td>\n",
       "      <td>0.0</td>\n",
       "      <td>0.0</td>\n",
       "      <td>0.0</td>\n",
       "      <td>0.0</td>\n",
       "      <td>0.0</td>\n",
       "      <td>0.0</td>\n",
       "      <td>0.0</td>\n",
       "      <td>...</td>\n",
       "      <td>0.0</td>\n",
       "      <td>0.0</td>\n",
       "      <td>0.0</td>\n",
       "      <td>0.0</td>\n",
       "      <td>0.0</td>\n",
       "      <td>0.0</td>\n",
       "      <td>0.0</td>\n",
       "      <td>0.0</td>\n",
       "      <td>0.0</td>\n",
       "      <td>0.0</td>\n",
       "    </tr>\n",
       "    <tr>\n",
       "      <th>8077</th>\n",
       "      <td>0.0</td>\n",
       "      <td>0.0</td>\n",
       "      <td>0.0</td>\n",
       "      <td>0.0</td>\n",
       "      <td>0.0</td>\n",
       "      <td>0.0</td>\n",
       "      <td>0.0</td>\n",
       "      <td>0.0</td>\n",
       "      <td>0.0</td>\n",
       "      <td>0.0</td>\n",
       "      <td>...</td>\n",
       "      <td>0.0</td>\n",
       "      <td>0.0</td>\n",
       "      <td>0.0</td>\n",
       "      <td>0.0</td>\n",
       "      <td>0.0</td>\n",
       "      <td>0.0</td>\n",
       "      <td>0.0</td>\n",
       "      <td>0.0</td>\n",
       "      <td>0.0</td>\n",
       "      <td>0.0</td>\n",
       "    </tr>\n",
       "    <tr>\n",
       "      <th>8078</th>\n",
       "      <td>0.0</td>\n",
       "      <td>0.0</td>\n",
       "      <td>0.0</td>\n",
       "      <td>0.0</td>\n",
       "      <td>0.0</td>\n",
       "      <td>0.0</td>\n",
       "      <td>0.0</td>\n",
       "      <td>0.0</td>\n",
       "      <td>0.0</td>\n",
       "      <td>0.0</td>\n",
       "      <td>...</td>\n",
       "      <td>0.0</td>\n",
       "      <td>0.0</td>\n",
       "      <td>0.0</td>\n",
       "      <td>0.0</td>\n",
       "      <td>0.0</td>\n",
       "      <td>0.0</td>\n",
       "      <td>0.0</td>\n",
       "      <td>0.0</td>\n",
       "      <td>0.0</td>\n",
       "      <td>0.0</td>\n",
       "    </tr>\n",
       "    <tr>\n",
       "      <th>8079</th>\n",
       "      <td>0.0</td>\n",
       "      <td>0.0</td>\n",
       "      <td>0.0</td>\n",
       "      <td>0.0</td>\n",
       "      <td>0.0</td>\n",
       "      <td>0.0</td>\n",
       "      <td>0.0</td>\n",
       "      <td>0.0</td>\n",
       "      <td>0.0</td>\n",
       "      <td>0.0</td>\n",
       "      <td>...</td>\n",
       "      <td>0.0</td>\n",
       "      <td>0.0</td>\n",
       "      <td>0.0</td>\n",
       "      <td>0.0</td>\n",
       "      <td>0.0</td>\n",
       "      <td>0.0</td>\n",
       "      <td>0.0</td>\n",
       "      <td>0.0</td>\n",
       "      <td>0.0</td>\n",
       "      <td>0.0</td>\n",
       "    </tr>\n",
       "  </tbody>\n",
       "</table>\n",
       "<p>8058 rows × 10808 columns</p>\n",
       "</div>"
      ],
      "text/plain": [
       "article_id   108775015  108775044  110065002  111586001  111593001  111609001  \\\n",
       "customer_id                                                                     \n",
       "0                  0.0        0.0        0.0        0.0        0.0        0.0   \n",
       "1                  0.0        0.0        0.0        0.0        0.0        0.0   \n",
       "2                  0.0        0.0        0.0        0.0        0.0        0.0   \n",
       "3                  0.0        0.0        0.0        0.0        0.0        0.0   \n",
       "4                  0.0        0.0        0.0        0.0        0.0        0.0   \n",
       "...                ...        ...        ...        ...        ...        ...   \n",
       "8075               0.0        0.0        0.0        0.0        0.0        0.0   \n",
       "8076               0.0        0.0        0.0        0.0        0.0        0.0   \n",
       "8077               0.0        0.0        0.0        0.0        0.0        0.0   \n",
       "8078               0.0        0.0        0.0        0.0        0.0        0.0   \n",
       "8079               0.0        0.0        0.0        0.0        0.0        0.0   \n",
       "\n",
       "article_id   120129001  120129014  123173001  129085001  ...  934536001  \\\n",
       "customer_id                                              ...              \n",
       "0                  0.0        0.0        0.0        0.0  ...        0.0   \n",
       "1                  0.0        0.0        0.0        0.0  ...        0.0   \n",
       "2                  0.0        0.0        0.0        0.0  ...        0.0   \n",
       "3                  0.0        0.0        0.0        0.0  ...        0.0   \n",
       "4                  0.0        0.0        0.0        0.0  ...        0.0   \n",
       "...                ...        ...        ...        ...  ...        ...   \n",
       "8075               0.0        0.0        0.0        0.0  ...        0.0   \n",
       "8076               0.0        0.0        0.0        0.0  ...        0.0   \n",
       "8077               0.0        0.0        0.0        0.0  ...        0.0   \n",
       "8078               0.0        0.0        0.0        0.0  ...        0.0   \n",
       "8079               0.0        0.0        0.0        0.0  ...        0.0   \n",
       "\n",
       "article_id   934727001  936217001  936622001  937466001  938804001  941005003  \\\n",
       "customer_id                                                                     \n",
       "0                  0.0        0.0        0.0        0.0        0.0        0.0   \n",
       "1                  0.0        0.0        0.0        0.0        0.0        0.0   \n",
       "2                  0.0        0.0        0.0        0.0        0.0        0.0   \n",
       "3                  0.0        0.0        0.0        0.0        0.0        0.0   \n",
       "4                  0.0        0.0        0.0        0.0        0.0        0.0   \n",
       "...                ...        ...        ...        ...        ...        ...   \n",
       "8075               0.0        0.0        0.0        0.0        0.0        0.0   \n",
       "8076               0.0        0.0        0.0        0.0        0.0        0.0   \n",
       "8077               0.0        0.0        0.0        0.0        0.0        0.0   \n",
       "8078               0.0        0.0        0.0        0.0        0.0        0.0   \n",
       "8079               0.0        0.0        0.0        0.0        0.0        0.0   \n",
       "\n",
       "article_id   942596001  946282001  949551002  \n",
       "customer_id                                   \n",
       "0                  0.0        0.0        0.0  \n",
       "1                  0.0        0.0        0.0  \n",
       "2                  0.0        0.0        0.0  \n",
       "3                  0.0        0.0        0.0  \n",
       "4                  0.0        0.0        0.0  \n",
       "...                ...        ...        ...  \n",
       "8075               0.0        0.0        0.0  \n",
       "8076               0.0        0.0        0.0  \n",
       "8077               0.0        0.0        0.0  \n",
       "8078               0.0        0.0        0.0  \n",
       "8079               0.0        0.0        0.0  \n",
       "\n",
       "[8058 rows x 10808 columns]"
      ]
     },
     "execution_count": 87,
     "metadata": {},
     "output_type": "execute_result"
    }
   ],
   "source": [
    "df_matrix"
   ]
  },
  {
   "cell_type": "code",
   "execution_count": 88,
   "id": "97dd542e",
   "metadata": {},
   "outputs": [],
   "source": [
    "w1_pivot_matrix = csr_matrix(df_matrix)"
   ]
  },
  {
   "cell_type": "markdown",
   "id": "4486bb75",
   "metadata": {},
   "source": [
    "<div class=\"alert alert-block alert-warning\">\n",
    "<b>Обучение модели ближайших соседей на основе созданной матрицы значений</b>\n",
    "</div>"
   ]
  },
  {
   "cell_type": "code",
   "execution_count": 89,
   "id": "d0c8e00f",
   "metadata": {},
   "outputs": [],
   "source": [
    "knn = NearestNeighbors(n_neighbors=10, algorithm= 'brute', metric= 'cosine')\n",
    "model_knn = knn.fit(w1_pivot_matrix)"
   ]
  },
  {
   "cell_type": "markdown",
   "id": "3e264713",
   "metadata": {},
   "source": [
    "<div class=\"alert alert-block alert-warning\">\n",
    "<b>Определение функции для определения наиболее близких пользователей, проверка на случайном пользователе</b>\n",
    "</div>"
   ]
  },
  {
   "cell_type": "code",
   "execution_count": 90,
   "id": "374cdd96",
   "metadata": {},
   "outputs": [],
   "source": [
    "def most_similar_users_to(user_id, n_items=10):\n",
    "    most_similar_users_to = []\n",
    "    distance, indice = model_knn.kneighbors(df_matrix.iloc[df_matrix.index[user_id],:].values.reshape(1,-1), n_neighbors=n_items)\n",
    "    for i in range(1, len(distance.flatten())):\n",
    "        user_id1 = df_matrix.index[indice.flatten()[i]]\n",
    "        most_similar_users_to.append((user_id1, distance.flatten()[i]))\n",
    "\n",
    "    most_similar_users_to.sort(key=lambda x: x[1], reverse=True)\n",
    "    print('Рекомендации для ## {0} ##:'.format(user_id))\n",
    "\n",
    "    return most_similar_users_to[:n_items]"
   ]
  },
  {
   "cell_type": "code",
   "execution_count": 91,
   "id": "c1f6f87b",
   "metadata": {},
   "outputs": [
    {
     "name": "stdout",
     "output_type": "stream",
     "text": [
      "Рекомендации для ## 6510 ##:\n"
     ]
    },
    {
     "data": {
      "text/plain": [
       "[(5383, 1.0),\n",
       " (5385, 1.0),\n",
       " (5381, 1.0),\n",
       " (5382, 1.0),\n",
       " (5390, 1.0),\n",
       " (4939, 0.8259223440443022),\n",
       " (7814, 0.7642977396044841),\n",
       " (5108, 0.591751709536137),\n",
       " (273, 0.591751709536137)]"
      ]
     },
     "execution_count": 91,
     "metadata": {},
     "output_type": "execute_result"
    }
   ],
   "source": [
    "most_similar_users_to(6510)"
   ]
  },
  {
   "cell_type": "markdown",
   "id": "9f85d0fe",
   "metadata": {},
   "source": [
    "<div class=\"alert alert-block alert-warning\">\n",
    "<b>7.2 Определение функции рекомендаций на основе пользователя (по наиболее похожему пользователю)</b>\n",
    "</div>"
   ]
  },
  {
   "cell_type": "code",
   "execution_count": 92,
   "id": "4d79b550",
   "metadata": {},
   "outputs": [],
   "source": [
    "def user_based_suggestions(user_id, n_items=10):\n",
    "    # суммировать все коэффициенты подобия\n",
    "    suggestions = defaultdict(float)\n",
    "# Создаем контейнер для рекомендаций\n",
    "    non_interacted_items = df_matrix.iloc[user_id][df_matrix.iloc[user_id]==0].index.tolist()\n",
    "# Определяем позиции (фильмы, продукты и т.п.), которые не влияют на выбор, т.к. они равны 0 для выбранного пользователя.\n",
    "# Т.е. данные позиции выбранный пользователь еще не покупал, не смотрел и т.п. Именно их будет рекомендовать система\n",
    "    \n",
    "    for other_user_id, similarity in most_similar_users_to(user_id):\n",
    "# Для пользователей в списке наиболее близких пользователей\n",
    "        items_user_id = df_matrix.loc[other_user_id][df_matrix.loc[other_user_id]>0]\n",
    "# Выбрать номера продуктов с продажами >0\n",
    "        for interest in items_user_id.index.tolist(): # Для каждого продукта из списка\n",
    "            if interest in non_interacted_items: # Если номер продукта в списке не купленных продуктов\n",
    "                suggestions[df_product[df_product['article_id']==interest]['product_name'].values[0], interest] += similarity\n",
    "# тогда в контейнер для рекомендаций добавить номер продукта и присвоить ему значение \"похожести\",\n",
    "# каждый раз увеличивая его на \"похожесть\" других пользователей, купивших этот продукт\n",
    "\n",
    "    # преобразовать их в сортированный список\n",
    "    suggestions = sorted(suggestions.items(),\n",
    "                         key=lambda x: x[1],\n",
    "                         reverse=True)\n",
    "    return suggestions[:n_items]"
   ]
  },
  {
   "cell_type": "markdown",
   "id": "315fcf60",
   "metadata": {},
   "source": [
    "<div class=\"alert alert-block alert-warning\">\n",
    "<b>7.3 Вывод рекомендаций для заданного пользователя</b>\n",
    "</div>"
   ]
  },
  {
   "cell_type": "code",
   "execution_count": 93,
   "id": "026afb50",
   "metadata": {},
   "outputs": [
    {
     "name": "stdout",
     "output_type": "stream",
     "text": [
      "Рекомендации для ## 6510 ##:\n"
     ]
    },
    {
     "data": {
      "text/plain": [
       "[(('Bikini top', 758064001), 2.009425763116576),\n",
       " (('Trousers', 573716028), 1.0),\n",
       " (('Trousers', 714790020), 1.0),\n",
       " (('Sweater', 821031002), 1.0),\n",
       " (('Bikini top', 822946001), 1.0),\n",
       " (('Skirt', 872834001), 1.0),\n",
       " (('Bra', 429313008), 1.0),\n",
       " (('T-shirt', 763275014), 1.0),\n",
       " (('Blazer', 636455003), 1.0),\n",
       " (('Top', 659832009), 1.0)]"
      ]
     },
     "execution_count": 93,
     "metadata": {},
     "output_type": "execute_result"
    }
   ],
   "source": [
    "user_based_suggestions(6510)"
   ]
  },
  {
   "cell_type": "markdown",
   "id": "349f3dbd",
   "metadata": {},
   "source": [
    "<div class=\"alert alert-block alert-success\">\n",
    "<b>Итогом выполнения функции рекомендаций для пользователя с id=6510 является список id продуктов с их коэффициентами подобия. Например, продукт с 758064001 может быть куплен пользователем 6510 с максимальной вероятностью для представленного набора данных</b>\n",
    "</div>"
   ]
  },
  {
   "cell_type": "markdown",
   "id": "de3bff47",
   "metadata": {},
   "source": [
    "## Выводы раздела 4"
   ]
  },
  {
   "cell_type": "markdown",
   "id": "174dddf8",
   "metadata": {},
   "source": [
    "$\\blacktriangleright$ Рекомендательная система на основе схожести пользователей построена"
   ]
  },
  {
   "cell_type": "markdown",
   "id": "1ce8a283",
   "metadata": {},
   "source": [
    "$\\blacktriangleright$ Даны рекомендации по товарам для пользователя 6510"
   ]
  },
  {
   "cell_type": "markdown",
   "id": "9f286b8c",
   "metadata": {},
   "source": [
    "### ----------"
   ]
  }
 ],
 "metadata": {
  "kernelspec": {
   "display_name": "Python 3 (ipykernel)",
   "language": "python",
   "name": "python3"
  },
  "language_info": {
   "codemirror_mode": {
    "name": "ipython",
    "version": 3
   },
   "file_extension": ".py",
   "mimetype": "text/x-python",
   "name": "python",
   "nbconvert_exporter": "python",
   "pygments_lexer": "ipython3",
   "version": "3.9.12"
  }
 },
 "nbformat": 4,
 "nbformat_minor": 5
}
